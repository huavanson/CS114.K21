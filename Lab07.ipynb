{
  "nbformat": 4,
  "nbformat_minor": 0,
  "metadata": {
    "colab": {
      "name": "Lab07.ipynb",
      "provenance": [],
      "authorship_tag": "ABX9TyPrbaL4trjTZEhUJJkduGfK",
      "include_colab_link": true
    },
    "kernelspec": {
      "name": "python3",
      "display_name": "Python 3"
    },
    "accelerator": "GPU"
  },
  "cells": [
    {
      "cell_type": "markdown",
      "metadata": {
        "id": "view-in-github",
        "colab_type": "text"
      },
      "source": [
        "<a href=\"https://colab.research.google.com/github/huavanson/CS114.K21/blob/master/Lab07.ipynb\" target=\"_parent\"><img src=\"https://colab.research.google.com/assets/colab-badge.svg\" alt=\"Open In Colab\"/></a>"
      ]
    },
    {
      "cell_type": "markdown",
      "metadata": {
        "id": "89ent_o8vFyG",
        "colab_type": "text"
      },
      "source": [
        "Dataset được lấy từ kaggle (https://www.kaggle.com/shree1992/housedata)"
      ]
    },
    {
      "cell_type": "code",
      "metadata": {
        "id": "CoXuGMnBefpA",
        "colab_type": "code",
        "colab": {
          "resources": {
            "http://localhost:8080/nbextensions/google.colab/files.js": {
              "data": "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",
              "ok": true,
              "headers": [
                [
                  "content-type",
                  "application/javascript"
                ]
              ],
              "status": 200,
              "status_text": ""
            }
          },
          "base_uri": "https://localhost:8080/",
          "height": 89
        },
        "outputId": "c7ddef57-1ad2-4f9b-d96e-5a5fcb296235"
      },
      "source": [
        "from google.colab import files\n",
        "files.upload()\n"
      ],
      "execution_count": 1,
      "outputs": [
        {
          "output_type": "display_data",
          "data": {
            "text/html": [
              "\n",
              "     <input type=\"file\" id=\"files-d0f2c91c-d49c-4480-904a-7555da2979a0\" name=\"files[]\" multiple disabled\n",
              "        style=\"border:none\" />\n",
              "     <output id=\"result-d0f2c91c-d49c-4480-904a-7555da2979a0\">\n",
              "      Upload widget is only available when the cell has been executed in the\n",
              "      current browser session. Please rerun this cell to enable.\n",
              "      </output>\n",
              "      <script src=\"/nbextensions/google.colab/files.js\"></script> "
            ],
            "text/plain": [
              "<IPython.core.display.HTML object>"
            ]
          },
          "metadata": {
            "tags": []
          }
        },
        {
          "output_type": "stream",
          "text": [
            "Saving kaggle.json to kaggle.json\n"
          ],
          "name": "stdout"
        },
        {
          "output_type": "execute_result",
          "data": {
            "text/plain": [
              "{'kaggle.json': b'{\"username\":\"sonhuavan\",\"key\":\"899cfa81c0f3f4051aee96eb7e74b10f\"}'}"
            ]
          },
          "metadata": {
            "tags": []
          },
          "execution_count": 1
        }
      ]
    },
    {
      "cell_type": "code",
      "metadata": {
        "id": "6cUouPVzk7nC",
        "colab_type": "code",
        "colab": {
          "base_uri": "https://localhost:8080/",
          "height": 34
        },
        "outputId": "5c0d30f5-28a3-4159-cb77-f6db39d77634"
      },
      "source": [
        "!ls -lha kaggle.json\n",
        "!mkdir -p ~/.kaggle\n",
        "!cp kaggle.json ~/.kaggle/\n",
        "!chmod 600 ~/.kaggle/kaggle.json"
      ],
      "execution_count": 2,
      "outputs": [
        {
          "output_type": "stream",
          "text": [
            "-rw-r--r-- 1 root root 65 Jul 15 03:45 kaggle.json\n"
          ],
          "name": "stdout"
        }
      ]
    },
    {
      "cell_type": "code",
      "metadata": {
        "id": "O2n_sLHAlAVe",
        "colab_type": "code",
        "colab": {
          "base_uri": "https://localhost:8080/",
          "height": 68
        },
        "outputId": "c0aa9f57-6a47-4661-a533-20562a9a23b8"
      },
      "source": [
        "!kaggle datasets download -d shree1992/housedata"
      ],
      "execution_count": 3,
      "outputs": [
        {
          "output_type": "stream",
          "text": [
            "Downloading housedata.zip to /content\n",
            "\r  0% 0.00/432k [00:00<?, ?B/s]\n",
            "\r100% 432k/432k [00:00<00:00, 59.6MB/s]\n"
          ],
          "name": "stdout"
        }
      ]
    },
    {
      "cell_type": "code",
      "metadata": {
        "id": "buRrPxpJlIR8",
        "colab_type": "code",
        "colab": {
          "base_uri": "https://localhost:8080/",
          "height": 85
        },
        "outputId": "c0aef002-47ee-4d8b-b052-b0b4b398960f"
      },
      "source": [
        "!unzip housedata.zip"
      ],
      "execution_count": 4,
      "outputs": [
        {
          "output_type": "stream",
          "text": [
            "Archive:  housedata.zip\n",
            "  inflating: data.csv                \n",
            "  inflating: data.dat                \n",
            "  inflating: output.csv              \n"
          ],
          "name": "stdout"
        }
      ]
    },
    {
      "cell_type": "markdown",
      "metadata": {
        "id": "DM7GnUcVvSbq",
        "colab_type": "text"
      },
      "source": [
        "import các thư viện cần thiết"
      ]
    },
    {
      "cell_type": "code",
      "metadata": {
        "id": "2kph4P_7lSkE",
        "colab_type": "code",
        "colab": {}
      },
      "source": [
        "import pandas as pd \n",
        "from sklearn.model_selection import train_test_split\n",
        "from sklearn.linear_model import LinearRegression\n",
        "from sklearn.metrics import mean_absolute_error"
      ],
      "execution_count": 5,
      "outputs": []
    },
    {
      "cell_type": "markdown",
      "metadata": {
        "id": "inFaz3ANvZ8a",
        "colab_type": "text"
      },
      "source": [
        "Data có 4600 hàng và 18 cột "
      ]
    },
    {
      "cell_type": "code",
      "metadata": {
        "id": "evIRdsaAlXkk",
        "colab_type": "code",
        "colab": {
          "base_uri": "https://localhost:8080/",
          "height": 34
        },
        "outputId": "ac0a9d6d-d503-4641-8ad8-9bf1301cdb49"
      },
      "source": [
        "data = pd.read_csv('data.csv')\n",
        "print(data.shape)"
      ],
      "execution_count": 6,
      "outputs": [
        {
          "output_type": "stream",
          "text": [
            "(4600, 18)\n"
          ],
          "name": "stdout"
        }
      ]
    },
    {
      "cell_type": "code",
      "metadata": {
        "id": "kb-ysGHOl82L",
        "colab_type": "code",
        "colab": {
          "base_uri": "https://localhost:8080/",
          "height": 411
        },
        "outputId": "97b8e285-131b-4410-bdb1-2340ff17a980"
      },
      "source": [
        "data.head(5)"
      ],
      "execution_count": 8,
      "outputs": [
        {
          "output_type": "execute_result",
          "data": {
            "text/html": [
              "<div>\n",
              "<style scoped>\n",
              "    .dataframe tbody tr th:only-of-type {\n",
              "        vertical-align: middle;\n",
              "    }\n",
              "\n",
              "    .dataframe tbody tr th {\n",
              "        vertical-align: top;\n",
              "    }\n",
              "\n",
              "    .dataframe thead th {\n",
              "        text-align: right;\n",
              "    }\n",
              "</style>\n",
              "<table border=\"1\" class=\"dataframe\">\n",
              "  <thead>\n",
              "    <tr style=\"text-align: right;\">\n",
              "      <th></th>\n",
              "      <th>date</th>\n",
              "      <th>price</th>\n",
              "      <th>bedrooms</th>\n",
              "      <th>bathrooms</th>\n",
              "      <th>sqft_living</th>\n",
              "      <th>sqft_lot</th>\n",
              "      <th>floors</th>\n",
              "      <th>waterfront</th>\n",
              "      <th>view</th>\n",
              "      <th>condition</th>\n",
              "      <th>sqft_above</th>\n",
              "      <th>sqft_basement</th>\n",
              "      <th>yr_built</th>\n",
              "      <th>yr_renovated</th>\n",
              "      <th>street</th>\n",
              "      <th>city</th>\n",
              "      <th>statezip</th>\n",
              "      <th>country</th>\n",
              "    </tr>\n",
              "  </thead>\n",
              "  <tbody>\n",
              "    <tr>\n",
              "      <th>0</th>\n",
              "      <td>2014-05-02 00:00:00</td>\n",
              "      <td>313000.0</td>\n",
              "      <td>3.0</td>\n",
              "      <td>1.50</td>\n",
              "      <td>1340</td>\n",
              "      <td>7912</td>\n",
              "      <td>1.5</td>\n",
              "      <td>0</td>\n",
              "      <td>0</td>\n",
              "      <td>3</td>\n",
              "      <td>1340</td>\n",
              "      <td>0</td>\n",
              "      <td>1955</td>\n",
              "      <td>2005</td>\n",
              "      <td>18810 Densmore Ave N</td>\n",
              "      <td>Shoreline</td>\n",
              "      <td>WA 98133</td>\n",
              "      <td>USA</td>\n",
              "    </tr>\n",
              "    <tr>\n",
              "      <th>1</th>\n",
              "      <td>2014-05-02 00:00:00</td>\n",
              "      <td>2384000.0</td>\n",
              "      <td>5.0</td>\n",
              "      <td>2.50</td>\n",
              "      <td>3650</td>\n",
              "      <td>9050</td>\n",
              "      <td>2.0</td>\n",
              "      <td>0</td>\n",
              "      <td>4</td>\n",
              "      <td>5</td>\n",
              "      <td>3370</td>\n",
              "      <td>280</td>\n",
              "      <td>1921</td>\n",
              "      <td>0</td>\n",
              "      <td>709 W Blaine St</td>\n",
              "      <td>Seattle</td>\n",
              "      <td>WA 98119</td>\n",
              "      <td>USA</td>\n",
              "    </tr>\n",
              "    <tr>\n",
              "      <th>2</th>\n",
              "      <td>2014-05-02 00:00:00</td>\n",
              "      <td>342000.0</td>\n",
              "      <td>3.0</td>\n",
              "      <td>2.00</td>\n",
              "      <td>1930</td>\n",
              "      <td>11947</td>\n",
              "      <td>1.0</td>\n",
              "      <td>0</td>\n",
              "      <td>0</td>\n",
              "      <td>4</td>\n",
              "      <td>1930</td>\n",
              "      <td>0</td>\n",
              "      <td>1966</td>\n",
              "      <td>0</td>\n",
              "      <td>26206-26214 143rd Ave SE</td>\n",
              "      <td>Kent</td>\n",
              "      <td>WA 98042</td>\n",
              "      <td>USA</td>\n",
              "    </tr>\n",
              "    <tr>\n",
              "      <th>3</th>\n",
              "      <td>2014-05-02 00:00:00</td>\n",
              "      <td>420000.0</td>\n",
              "      <td>3.0</td>\n",
              "      <td>2.25</td>\n",
              "      <td>2000</td>\n",
              "      <td>8030</td>\n",
              "      <td>1.0</td>\n",
              "      <td>0</td>\n",
              "      <td>0</td>\n",
              "      <td>4</td>\n",
              "      <td>1000</td>\n",
              "      <td>1000</td>\n",
              "      <td>1963</td>\n",
              "      <td>0</td>\n",
              "      <td>857 170th Pl NE</td>\n",
              "      <td>Bellevue</td>\n",
              "      <td>WA 98008</td>\n",
              "      <td>USA</td>\n",
              "    </tr>\n",
              "    <tr>\n",
              "      <th>4</th>\n",
              "      <td>2014-05-02 00:00:00</td>\n",
              "      <td>550000.0</td>\n",
              "      <td>4.0</td>\n",
              "      <td>2.50</td>\n",
              "      <td>1940</td>\n",
              "      <td>10500</td>\n",
              "      <td>1.0</td>\n",
              "      <td>0</td>\n",
              "      <td>0</td>\n",
              "      <td>4</td>\n",
              "      <td>1140</td>\n",
              "      <td>800</td>\n",
              "      <td>1976</td>\n",
              "      <td>1992</td>\n",
              "      <td>9105 170th Ave NE</td>\n",
              "      <td>Redmond</td>\n",
              "      <td>WA 98052</td>\n",
              "      <td>USA</td>\n",
              "    </tr>\n",
              "  </tbody>\n",
              "</table>\n",
              "</div>"
            ],
            "text/plain": [
              "                  date      price  bedrooms  ...       city  statezip  country\n",
              "0  2014-05-02 00:00:00   313000.0       3.0  ...  Shoreline  WA 98133      USA\n",
              "1  2014-05-02 00:00:00  2384000.0       5.0  ...    Seattle  WA 98119      USA\n",
              "2  2014-05-02 00:00:00   342000.0       3.0  ...       Kent  WA 98042      USA\n",
              "3  2014-05-02 00:00:00   420000.0       3.0  ...   Bellevue  WA 98008      USA\n",
              "4  2014-05-02 00:00:00   550000.0       4.0  ...    Redmond  WA 98052      USA\n",
              "\n",
              "[5 rows x 18 columns]"
            ]
          },
          "metadata": {
            "tags": []
          },
          "execution_count": 8
        }
      ]
    },
    {
      "cell_type": "markdown",
      "metadata": {
        "id": "eXM4U0Ysvh-l",
        "colab_type": "text"
      },
      "source": [
        "Tiền xử lí : Chuyển các cột features thành dạng số "
      ]
    },
    {
      "cell_type": "code",
      "metadata": {
        "id": "hshfOE5vnIo3",
        "colab_type": "code",
        "colab": {}
      },
      "source": [
        "from sklearn.preprocessing import LabelEncoder\n",
        "numerics = ['int8', 'int16', 'int32', 'int64', 'float16', 'float32', 'float64']\n",
        "categorical_columns = []\n",
        "features = data.columns.values.tolist()\n",
        "for col in features:\n",
        "    if data[col].dtype in numerics: continue\n",
        "    categorical_columns.append(col)\n",
        "# Encoding categorical features\n",
        "for col in categorical_columns:\n",
        "    if col in data.columns:\n",
        "        le = LabelEncoder()\n",
        "        le.fit(list(data[col].astype(str).values))\n",
        "        data[col] = le.transform(list(data[col].astype(str).values))"
      ],
      "execution_count": 9,
      "outputs": []
    },
    {
      "cell_type": "markdown",
      "metadata": {
        "id": "TdM4_CgMvwm4",
        "colab_type": "text"
      },
      "source": [
        "Convert về cùng 1 kiểu int để dễ xử lí "
      ]
    },
    {
      "cell_type": "code",
      "metadata": {
        "id": "J27ej6zCnn_m",
        "colab_type": "code",
        "colab": {}
      },
      "source": [
        "data['price'] = (data['price']).astype(int)\n",
        "data['bathrooms']=(data['bathrooms']).astype(int)\n",
        "data['floors'] = (data['floors']).astype(int)\n",
        "data['bedrooms'] = (data['bedrooms']).astype(int)"
      ],
      "execution_count": 11,
      "outputs": []
    },
    {
      "cell_type": "markdown",
      "metadata": {
        "id": "wj_L0Ur9v4pw",
        "colab_type": "text"
      },
      "source": [
        "Loại bỏ các cột bị mất dữ liệu (missing value )\n",
        "\n",
        "\n"
      ]
    },
    {
      "cell_type": "code",
      "metadata": {
        "id": "7dlF8SdvoESH",
        "colab_type": "code",
        "colab": {
          "base_uri": "https://localhost:8080/",
          "height": 669
        },
        "outputId": "0cec32c4-7283-4d6a-af06-b6b83899d312"
      },
      "source": [
        "\n",
        "data = data.drop(['waterfront'], axis=1)\n",
        "data = data.drop(['sqft_basement'], axis=1)\n",
        "data =  data.drop(['yr_renovated'],axis=1)\n",
        "data = data.drop(['view'], axis=1)\n",
        "data = data.drop(['country'], axis=1)\n",
        "data.head(20)"
      ],
      "execution_count": 46,
      "outputs": [
        {
          "output_type": "execute_result",
          "data": {
            "text/html": [
              "<div>\n",
              "<style scoped>\n",
              "    .dataframe tbody tr th:only-of-type {\n",
              "        vertical-align: middle;\n",
              "    }\n",
              "\n",
              "    .dataframe tbody tr th {\n",
              "        vertical-align: top;\n",
              "    }\n",
              "\n",
              "    .dataframe thead th {\n",
              "        text-align: right;\n",
              "    }\n",
              "</style>\n",
              "<table border=\"1\" class=\"dataframe\">\n",
              "  <thead>\n",
              "    <tr style=\"text-align: right;\">\n",
              "      <th></th>\n",
              "      <th>price</th>\n",
              "      <th>bedrooms</th>\n",
              "      <th>bathrooms</th>\n",
              "      <th>sqft_living</th>\n",
              "      <th>sqft_lot</th>\n",
              "      <th>floors</th>\n",
              "      <th>condition</th>\n",
              "      <th>sqft_above</th>\n",
              "      <th>yr_built</th>\n",
              "      <th>street</th>\n",
              "      <th>city</th>\n",
              "      <th>statezip</th>\n",
              "    </tr>\n",
              "  </thead>\n",
              "  <tbody>\n",
              "    <tr>\n",
              "      <th>0</th>\n",
              "      <td>313000</td>\n",
              "      <td>3</td>\n",
              "      <td>1</td>\n",
              "      <td>1340</td>\n",
              "      <td>7912</td>\n",
              "      <td>1</td>\n",
              "      <td>3</td>\n",
              "      <td>1340</td>\n",
              "      <td>1955</td>\n",
              "      <td>1522</td>\n",
              "      <td>36</td>\n",
              "      <td>62</td>\n",
              "    </tr>\n",
              "    <tr>\n",
              "      <th>1</th>\n",
              "      <td>2384000</td>\n",
              "      <td>5</td>\n",
              "      <td>2</td>\n",
              "      <td>3650</td>\n",
              "      <td>9050</td>\n",
              "      <td>2</td>\n",
              "      <td>5</td>\n",
              "      <td>3370</td>\n",
              "      <td>1921</td>\n",
              "      <td>3899</td>\n",
              "      <td>35</td>\n",
              "      <td>58</td>\n",
              "    </tr>\n",
              "    <tr>\n",
              "      <th>2</th>\n",
              "      <td>342000</td>\n",
              "      <td>3</td>\n",
              "      <td>2</td>\n",
              "      <td>1930</td>\n",
              "      <td>11947</td>\n",
              "      <td>1</td>\n",
              "      <td>4</td>\n",
              "      <td>1930</td>\n",
              "      <td>1966</td>\n",
              "      <td>2291</td>\n",
              "      <td>18</td>\n",
              "      <td>26</td>\n",
              "    </tr>\n",
              "    <tr>\n",
              "      <th>3</th>\n",
              "      <td>420000</td>\n",
              "      <td>3</td>\n",
              "      <td>2</td>\n",
              "      <td>2000</td>\n",
              "      <td>8030</td>\n",
              "      <td>1</td>\n",
              "      <td>4</td>\n",
              "      <td>1000</td>\n",
              "      <td>1963</td>\n",
              "      <td>4263</td>\n",
              "      <td>3</td>\n",
              "      <td>7</td>\n",
              "    </tr>\n",
              "    <tr>\n",
              "      <th>4</th>\n",
              "      <td>550000</td>\n",
              "      <td>4</td>\n",
              "      <td>2</td>\n",
              "      <td>1940</td>\n",
              "      <td>10500</td>\n",
              "      <td>1</td>\n",
              "      <td>4</td>\n",
              "      <td>1140</td>\n",
              "      <td>1976</td>\n",
              "      <td>4352</td>\n",
              "      <td>31</td>\n",
              "      <td>31</td>\n",
              "    </tr>\n",
              "    <tr>\n",
              "      <th>5</th>\n",
              "      <td>490000</td>\n",
              "      <td>2</td>\n",
              "      <td>1</td>\n",
              "      <td>880</td>\n",
              "      <td>6380</td>\n",
              "      <td>1</td>\n",
              "      <td>3</td>\n",
              "      <td>880</td>\n",
              "      <td>1938</td>\n",
              "      <td>3521</td>\n",
              "      <td>35</td>\n",
              "      <td>54</td>\n",
              "    </tr>\n",
              "    <tr>\n",
              "      <th>6</th>\n",
              "      <td>335000</td>\n",
              "      <td>2</td>\n",
              "      <td>2</td>\n",
              "      <td>1350</td>\n",
              "      <td>2560</td>\n",
              "      <td>1</td>\n",
              "      <td>3</td>\n",
              "      <td>1350</td>\n",
              "      <td>1976</td>\n",
              "      <td>2286</td>\n",
              "      <td>31</td>\n",
              "      <td>31</td>\n",
              "    </tr>\n",
              "    <tr>\n",
              "      <th>7</th>\n",
              "      <td>482000</td>\n",
              "      <td>4</td>\n",
              "      <td>2</td>\n",
              "      <td>2710</td>\n",
              "      <td>35868</td>\n",
              "      <td>2</td>\n",
              "      <td>3</td>\n",
              "      <td>2710</td>\n",
              "      <td>1989</td>\n",
              "      <td>2038</td>\n",
              "      <td>21</td>\n",
              "      <td>23</td>\n",
              "    </tr>\n",
              "    <tr>\n",
              "      <th>8</th>\n",
              "      <td>452500</td>\n",
              "      <td>3</td>\n",
              "      <td>2</td>\n",
              "      <td>2430</td>\n",
              "      <td>88426</td>\n",
              "      <td>1</td>\n",
              "      <td>4</td>\n",
              "      <td>1570</td>\n",
              "      <td>1985</td>\n",
              "      <td>3369</td>\n",
              "      <td>27</td>\n",
              "      <td>27</td>\n",
              "    </tr>\n",
              "    <tr>\n",
              "      <th>9</th>\n",
              "      <td>640000</td>\n",
              "      <td>4</td>\n",
              "      <td>2</td>\n",
              "      <td>1520</td>\n",
              "      <td>6200</td>\n",
              "      <td>1</td>\n",
              "      <td>3</td>\n",
              "      <td>1520</td>\n",
              "      <td>1945</td>\n",
              "      <td>3846</td>\n",
              "      <td>35</td>\n",
              "      <td>54</td>\n",
              "    </tr>\n",
              "    <tr>\n",
              "      <th>10</th>\n",
              "      <td>463000</td>\n",
              "      <td>3</td>\n",
              "      <td>1</td>\n",
              "      <td>1710</td>\n",
              "      <td>7320</td>\n",
              "      <td>1</td>\n",
              "      <td>3</td>\n",
              "      <td>1710</td>\n",
              "      <td>1948</td>\n",
              "      <td>4510</td>\n",
              "      <td>20</td>\n",
              "      <td>67</td>\n",
              "    </tr>\n",
              "    <tr>\n",
              "      <th>11</th>\n",
              "      <td>1400000</td>\n",
              "      <td>4</td>\n",
              "      <td>2</td>\n",
              "      <td>2920</td>\n",
              "      <td>4000</td>\n",
              "      <td>1</td>\n",
              "      <td>5</td>\n",
              "      <td>1910</td>\n",
              "      <td>1909</td>\n",
              "      <td>3025</td>\n",
              "      <td>35</td>\n",
              "      <td>48</td>\n",
              "    </tr>\n",
              "    <tr>\n",
              "      <th>12</th>\n",
              "      <td>588500</td>\n",
              "      <td>3</td>\n",
              "      <td>1</td>\n",
              "      <td>2330</td>\n",
              "      <td>14892</td>\n",
              "      <td>1</td>\n",
              "      <td>3</td>\n",
              "      <td>1970</td>\n",
              "      <td>1980</td>\n",
              "      <td>1473</td>\n",
              "      <td>33</td>\n",
              "      <td>42</td>\n",
              "    </tr>\n",
              "    <tr>\n",
              "      <th>13</th>\n",
              "      <td>365000</td>\n",
              "      <td>3</td>\n",
              "      <td>1</td>\n",
              "      <td>1090</td>\n",
              "      <td>6435</td>\n",
              "      <td>1</td>\n",
              "      <td>4</td>\n",
              "      <td>1090</td>\n",
              "      <td>1955</td>\n",
              "      <td>2176</td>\n",
              "      <td>35</td>\n",
              "      <td>49</td>\n",
              "    </tr>\n",
              "    <tr>\n",
              "      <th>14</th>\n",
              "      <td>1200000</td>\n",
              "      <td>5</td>\n",
              "      <td>2</td>\n",
              "      <td>2910</td>\n",
              "      <td>9480</td>\n",
              "      <td>1</td>\n",
              "      <td>3</td>\n",
              "      <td>2910</td>\n",
              "      <td>1939</td>\n",
              "      <td>2905</td>\n",
              "      <td>35</td>\n",
              "      <td>48</td>\n",
              "    </tr>\n",
              "    <tr>\n",
              "      <th>15</th>\n",
              "      <td>242500</td>\n",
              "      <td>3</td>\n",
              "      <td>1</td>\n",
              "      <td>1200</td>\n",
              "      <td>9720</td>\n",
              "      <td>1</td>\n",
              "      <td>4</td>\n",
              "      <td>1200</td>\n",
              "      <td>1965</td>\n",
              "      <td>808</td>\n",
              "      <td>18</td>\n",
              "      <td>26</td>\n",
              "    </tr>\n",
              "    <tr>\n",
              "      <th>16</th>\n",
              "      <td>419000</td>\n",
              "      <td>3</td>\n",
              "      <td>1</td>\n",
              "      <td>1570</td>\n",
              "      <td>6700</td>\n",
              "      <td>1</td>\n",
              "      <td>4</td>\n",
              "      <td>1570</td>\n",
              "      <td>1956</td>\n",
              "      <td>1060</td>\n",
              "      <td>3</td>\n",
              "      <td>6</td>\n",
              "    </tr>\n",
              "    <tr>\n",
              "      <th>17</th>\n",
              "      <td>367500</td>\n",
              "      <td>4</td>\n",
              "      <td>3</td>\n",
              "      <td>3110</td>\n",
              "      <td>7231</td>\n",
              "      <td>2</td>\n",
              "      <td>3</td>\n",
              "      <td>3110</td>\n",
              "      <td>1997</td>\n",
              "      <td>276</td>\n",
              "      <td>1</td>\n",
              "      <td>45</td>\n",
              "    </tr>\n",
              "    <tr>\n",
              "      <th>18</th>\n",
              "      <td>257950</td>\n",
              "      <td>3</td>\n",
              "      <td>1</td>\n",
              "      <td>1370</td>\n",
              "      <td>5858</td>\n",
              "      <td>1</td>\n",
              "      <td>3</td>\n",
              "      <td>1370</td>\n",
              "      <td>1987</td>\n",
              "      <td>1147</td>\n",
              "      <td>10</td>\n",
              "      <td>73</td>\n",
              "    </tr>\n",
              "    <tr>\n",
              "      <th>19</th>\n",
              "      <td>275000</td>\n",
              "      <td>3</td>\n",
              "      <td>1</td>\n",
              "      <td>1180</td>\n",
              "      <td>10277</td>\n",
              "      <td>1</td>\n",
              "      <td>3</td>\n",
              "      <td>1180</td>\n",
              "      <td>1983</td>\n",
              "      <td>528</td>\n",
              "      <td>27</td>\n",
              "      <td>27</td>\n",
              "    </tr>\n",
              "  </tbody>\n",
              "</table>\n",
              "</div>"
            ],
            "text/plain": [
              "      price  bedrooms  bathrooms  sqft_living  ...  yr_built  street  city  statezip\n",
              "0    313000         3          1         1340  ...      1955    1522    36        62\n",
              "1   2384000         5          2         3650  ...      1921    3899    35        58\n",
              "2    342000         3          2         1930  ...      1966    2291    18        26\n",
              "3    420000         3          2         2000  ...      1963    4263     3         7\n",
              "4    550000         4          2         1940  ...      1976    4352    31        31\n",
              "5    490000         2          1          880  ...      1938    3521    35        54\n",
              "6    335000         2          2         1350  ...      1976    2286    31        31\n",
              "7    482000         4          2         2710  ...      1989    2038    21        23\n",
              "8    452500         3          2         2430  ...      1985    3369    27        27\n",
              "9    640000         4          2         1520  ...      1945    3846    35        54\n",
              "10   463000         3          1         1710  ...      1948    4510    20        67\n",
              "11  1400000         4          2         2920  ...      1909    3025    35        48\n",
              "12   588500         3          1         2330  ...      1980    1473    33        42\n",
              "13   365000         3          1         1090  ...      1955    2176    35        49\n",
              "14  1200000         5          2         2910  ...      1939    2905    35        48\n",
              "15   242500         3          1         1200  ...      1965     808    18        26\n",
              "16   419000         3          1         1570  ...      1956    1060     3         6\n",
              "17   367500         4          3         3110  ...      1997     276     1        45\n",
              "18   257950         3          1         1370  ...      1987    1147    10        73\n",
              "19   275000         3          1         1180  ...      1983     528    27        27\n",
              "\n",
              "[20 rows x 12 columns]"
            ]
          },
          "metadata": {
            "tags": []
          },
          "execution_count": 46
        }
      ]
    },
    {
      "cell_type": "code",
      "metadata": {
        "id": "5E1E7GTWo218",
        "colab_type": "code",
        "colab": {
          "base_uri": "https://localhost:8080/",
          "height": 34
        },
        "outputId": "a4ef6e0e-97f6-43db-b152-ff656a3d9977"
      },
      "source": [
        "data.shape"
      ],
      "execution_count": 47,
      "outputs": [
        {
          "output_type": "execute_result",
          "data": {
            "text/plain": [
              "(4600, 12)"
            ]
          },
          "metadata": {
            "tags": []
          },
          "execution_count": 47
        }
      ]
    },
    {
      "cell_type": "markdown",
      "metadata": {
        "id": "_MM2_0QnwE1A",
        "colab_type": "text"
      },
      "source": [
        "Em chỉ lấy 1 số cột quan trọng làm features và label là price(giá nhà)"
      ]
    },
    {
      "cell_type": "markdown",
      "metadata": {
        "id": "PqIAVi7GwT4L",
        "colab_type": "text"
      },
      "source": [
        "1 số features em xử dụng là số lượng phòng ngủ , phòng tắm trong căn nhà , diện tích, số tầng , năm xây dựng v.v . Em bỏ các cột địa chỉ, quốc gia ,v.v"
      ]
    },
    {
      "cell_type": "markdown",
      "metadata": {
        "id": "00M2fJ_Kwuko",
        "colab_type": "text"
      },
      "source": [
        "Và chia theo tỷ lệ 80/20"
      ]
    },
    {
      "cell_type": "code",
      "metadata": {
        "id": "Pmc5y3yzoKtO",
        "colab_type": "code",
        "colab": {}
      },
      "source": [
        "from sklearn.model_selection import train_test_split\n",
        "names=['bedrooms','bathrooms','sqft_living','sqft_lot','floors','condition','sqft_above','yr_built']\n",
        "X=data[names]\n",
        "y=data.price\n",
        "X_train, X_validation, y_train, y_validation = train_test_split(X, y, test_size=0.20, random_state=1)"
      ],
      "execution_count": 60,
      "outputs": []
    },
    {
      "cell_type": "code",
      "metadata": {
        "id": "SJZPgPwoqA90",
        "colab_type": "code",
        "colab": {
          "base_uri": "https://localhost:8080/",
          "height": 34
        },
        "outputId": "30c35e58-2e79-4297-d775-ee5bd9718ee0"
      },
      "source": [
        "X.shape"
      ],
      "execution_count": 61,
      "outputs": [
        {
          "output_type": "execute_result",
          "data": {
            "text/plain": [
              "(4600, 8)"
            ]
          },
          "metadata": {
            "tags": []
          },
          "execution_count": 61
        }
      ]
    },
    {
      "cell_type": "markdown",
      "metadata": {
        "id": "L51ZlaBIw5pu",
        "colab_type": "text"
      },
      "source": [
        "Gọi model LinearRegression để fit\n"
      ]
    },
    {
      "cell_type": "code",
      "metadata": {
        "id": "pYrrd8HFo_4C",
        "colab_type": "code",
        "colab": {
          "base_uri": "https://localhost:8080/",
          "height": 34
        },
        "outputId": "4d32664a-0c30-4222-e040-245d30b68274"
      },
      "source": [
        "model = LinearRegression() \n",
        "model.fit(X_train, y_train)"
      ],
      "execution_count": 62,
      "outputs": [
        {
          "output_type": "execute_result",
          "data": {
            "text/plain": [
              "LinearRegression(copy_X=True, fit_intercept=True, n_jobs=None, normalize=False)"
            ]
          },
          "metadata": {
            "tags": []
          },
          "execution_count": 62
        }
      ]
    },
    {
      "cell_type": "markdown",
      "metadata": {
        "id": "ZPZndAS8w-oG",
        "colab_type": "text"
      },
      "source": [
        "Em sử dụng chỉ số MAE(mean_absolute_error) để đánh giá độ chính xác của model . 2 chỉ số MAE và MSE của thầy hướng dẫn đều giống nhau về mặt chức năng đó là đánh giá model nhưng em xin phép sử dụng MAE vì em học nó trên khóa học của Kaggle và sử dụng khá quen . chỉ số này hiểu đơn giản là đo độ lệch giữa giá trị predict và giá trị thực tế mà sử dụng trị tuyệt đối thay vì bình phương(MSE)"
      ]
    },
    {
      "cell_type": "code",
      "metadata": {
        "id": "rfwv5Xo8pVwC",
        "colab_type": "code",
        "colab": {
          "base_uri": "https://localhost:8080/",
          "height": 34
        },
        "outputId": "66286d72-770c-4cf3-eb3e-482e5263cb11"
      },
      "source": [
        "y_predict = model.predict(X_validation)\n",
        "results = mean_absolute_error(y_validation,y_predict)\n",
        "results"
      ],
      "execution_count": 64,
      "outputs": [
        {
          "output_type": "execute_result",
          "data": {
            "text/plain": [
              "164387.34607879995"
            ]
          },
          "metadata": {
            "tags": []
          },
          "execution_count": 64
        }
      ]
    },
    {
      "cell_type": "markdown",
      "metadata": {
        "id": "71O0ds-gxv_W",
        "colab_type": "text"
      },
      "source": [
        "Chỉ số MAE khá tệ "
      ]
    }
  ]
}