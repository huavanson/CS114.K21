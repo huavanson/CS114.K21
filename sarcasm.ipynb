{
  "nbformat": 4,
  "nbformat_minor": 0,
  "metadata": {
    "colab": {
      "name": "sarcasm.ipynb",
      "provenance": [],
      "collapsed_sections": [],
      "machine_shape": "hm",
      "authorship_tag": "ABX9TyNzQ068CHSISQ20XpbwLYMf",
      "include_colab_link": true
    },
    "kernelspec": {
      "name": "python3",
      "display_name": "Python 3"
    }
  },
  "cells": [
    {
      "cell_type": "markdown",
      "metadata": {
        "id": "view-in-github",
        "colab_type": "text"
      },
      "source": [
        "<a href=\"https://colab.research.google.com/github/huavanson/CS114.K21/blob/master/sarcasm.ipynb\" target=\"_parent\"><img src=\"https://colab.research.google.com/assets/colab-badge.svg\" alt=\"Open In Colab\"/></a>"
      ]
    },
    {
      "cell_type": "markdown",
      "metadata": {
        "id": "rPWWH90CmpCL",
        "colab_type": "text"
      },
      "source": [
        ""
      ]
    },
    {
      "cell_type": "code",
      "metadata": {
        "id": "ajkG60axRDdH",
        "colab_type": "code",
        "colab": {
          "resources": {
            "http://localhost:8080/nbextensions/google.colab/files.js": {
              "data": "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",
              "ok": true,
              "headers": [
                [
                  "content-type",
                  "application/javascript"
                ]
              ],
              "status": 200,
              "status_text": ""
            }
          },
          "base_uri": "https://localhost:8080/",
          "height": 89
        },
        "outputId": "f40bc4eb-2988-4520-9db4-f879601086e6"
      },
      "source": [
        "from google.colab import files\n",
        "files.upload()"
      ],
      "execution_count": 64,
      "outputs": [
        {
          "output_type": "display_data",
          "data": {
            "text/html": [
              "\n",
              "     <input type=\"file\" id=\"files-1208581d-5e40-4dce-b129-998e575a4143\" name=\"files[]\" multiple disabled\n",
              "        style=\"border:none\" />\n",
              "     <output id=\"result-1208581d-5e40-4dce-b129-998e575a4143\">\n",
              "      Upload widget is only available when the cell has been executed in the\n",
              "      current browser session. Please rerun this cell to enable.\n",
              "      </output>\n",
              "      <script src=\"/nbextensions/google.colab/files.js\"></script> "
            ],
            "text/plain": [
              "<IPython.core.display.HTML object>"
            ]
          },
          "metadata": {
            "tags": []
          }
        },
        {
          "output_type": "stream",
          "text": [
            "Saving kaggle.json to kaggle (1).json\n"
          ],
          "name": "stdout"
        },
        {
          "output_type": "execute_result",
          "data": {
            "text/plain": [
              "{'kaggle.json': b'{\"username\":\"sonhuavan\",\"key\":\"899cfa81c0f3f4051aee96eb7e74b10f\"}'}"
            ]
          },
          "metadata": {
            "tags": []
          },
          "execution_count": 64
        }
      ]
    },
    {
      "cell_type": "markdown",
      "metadata": {
        "id": "UoFcoaURvugD",
        "colab_type": "text"
      },
      "source": [
        "Sau khi up file kaggle.json lên thì tạo 1 thư mục có tên .kaggle đưa file vừa up vào "
      ]
    },
    {
      "cell_type": "code",
      "metadata": {
        "id": "3AHppe22Pxrd",
        "colab_type": "code",
        "colab": {
          "base_uri": "https://localhost:8080/",
          "height": 34
        },
        "outputId": "9c4feb52-87ab-4e3c-eb84-87d4f95df436"
      },
      "source": [
        "!ls -lha kaggle.json\n",
        "!mkdir -p ~/.kaggle\n",
        "!cp kaggle.json ~/.kaggle/\n",
        "!chmod 600 ~/.kaggle/kaggle.json"
      ],
      "execution_count": 65,
      "outputs": [
        {
          "output_type": "stream",
          "text": [
            "-rw-r--r-- 1 root root 65 Jun 22 03:29 kaggle.json\n"
          ],
          "name": "stdout"
        }
      ]
    },
    {
      "cell_type": "markdown",
      "metadata": {
        "id": "TTVFqyRCwx1X",
        "colab_type": "text"
      },
      "source": [
        "Bước này Download dataset trên kaggle về \n"
      ]
    },
    {
      "cell_type": "code",
      "metadata": {
        "id": "Lh3VX9LGQOuP",
        "colab_type": "code",
        "colab": {
          "base_uri": "https://localhost:8080/",
          "height": 54
        },
        "outputId": "eda44bfb-8961-40a8-e893-6f6df0a93f9d"
      },
      "source": [
        "!kaggle datasets download -d rmisra/news-headlines-dataset-for-sarcasm-detection"
      ],
      "execution_count": 66,
      "outputs": [
        {
          "output_type": "stream",
          "text": [
            "news-headlines-dataset-for-sarcasm-detection.zip: Skipping, found more recently modified local copy (use --force to force download)\n"
          ],
          "name": "stdout"
        }
      ]
    },
    {
      "cell_type": "markdown",
      "metadata": {
        "id": "3V1KC94yw5Tu",
        "colab_type": "text"
      },
      "source": [
        "Check xem các thư viện cần thiết đã được install vào chưa \n"
      ]
    },
    {
      "cell_type": "code",
      "metadata": {
        "id": "xruuAzJ6FJ1M",
        "colab_type": "code",
        "colab": {
          "base_uri": "https://localhost:8080/",
          "height": 204
        },
        "outputId": "b09c21ac-e0ff-4b96-e2a8-85c1a41b6e1d"
      },
      "source": [
        "!pip install numpy\n",
        "!pip install pandas \n",
        "!pip install sklearn"
      ],
      "execution_count": null,
      "outputs": [
        {
          "output_type": "stream",
          "text": [
            "Requirement already satisfied: numpy in /usr/local/lib/python3.6/dist-packages (1.18.5)\n",
            "Requirement already satisfied: pandas in /usr/local/lib/python3.6/dist-packages (1.0.4)\n",
            "Requirement already satisfied: pytz>=2017.2 in /usr/local/lib/python3.6/dist-packages (from pandas) (2018.9)\n",
            "Requirement already satisfied: numpy>=1.13.3 in /usr/local/lib/python3.6/dist-packages (from pandas) (1.18.5)\n",
            "Requirement already satisfied: python-dateutil>=2.6.1 in /usr/local/lib/python3.6/dist-packages (from pandas) (2.8.1)\n",
            "Requirement already satisfied: six>=1.5 in /usr/local/lib/python3.6/dist-packages (from python-dateutil>=2.6.1->pandas) (1.12.0)\n",
            "Requirement already satisfied: sklearn in /usr/local/lib/python3.6/dist-packages (0.0)\n",
            "Requirement already satisfied: scikit-learn in /usr/local/lib/python3.6/dist-packages (from sklearn) (0.22.2.post1)\n",
            "Requirement already satisfied: numpy>=1.11.0 in /usr/local/lib/python3.6/dist-packages (from scikit-learn->sklearn) (1.18.5)\n",
            "Requirement already satisfied: scipy>=0.17.0 in /usr/local/lib/python3.6/dist-packages (from scikit-learn->sklearn) (1.4.1)\n",
            "Requirement already satisfied: joblib>=0.11 in /usr/local/lib/python3.6/dist-packages (from scikit-learn->sklearn) (0.15.1)\n"
          ],
          "name": "stdout"
        }
      ]
    },
    {
      "cell_type": "code",
      "metadata": {
        "id": "gPRhCDs7I9uR",
        "colab_type": "code",
        "colab": {}
      },
      "source": [
        "import json\n",
        "import pandas as pd, numpy as np, re, time\n",
        "from nltk.stem.porter import PorterStemmer\n",
        "from sklearn.model_selection import train_test_split\n",
        "from sklearn.metrics import confusion_matrix\n",
        "from sklearn.svm import LinearSVC\n",
        "from sklearn.model_selection import cross_val_score\n",
        "from sklearn.naive_bayes import GaussianNB\n",
        "from sklearn.linear_model import LogisticRegression\n",
        "from sklearn.ensemble import RandomForestClassifier"
      ],
      "execution_count": null,
      "outputs": []
    },
    {
      "cell_type": "code",
      "metadata": {
        "id": "qI3lQy04JQiG",
        "colab_type": "code",
        "colab": {
          "base_uri": "https://localhost:8080/",
          "height": 85
        },
        "outputId": "7c19b311-56dc-488c-d566-187de69f7e12"
      },
      "source": [
        "!unzip news-headlines-dataset-for-sarcasm-detection.zip"
      ],
      "execution_count": 67,
      "outputs": [
        {
          "output_type": "stream",
          "text": [
            "Archive:  news-headlines-dataset-for-sarcasm-detection.zip\n",
            "replace Sarcasm_Headlines_Dataset.json? [y]es, [n]o, [A]ll, [N]one, [r]ename: y\n",
            "  inflating: Sarcasm_Headlines_Dataset.json  \n",
            "replace Sarcasm_Headlines_Dataset_v2.json? [y]es, [n]o, [A]ll, [N]one, [r]ename: "
          ],
          "name": "stdout"
        }
      ]
    },
    {
      "cell_type": "markdown",
      "metadata": {
        "id": "ZZcyGZQKw_P2",
        "colab_type": "text"
      },
      "source": [
        "Đọc dataset bằng Pandas và check số lượng data "
      ]
    },
    {
      "cell_type": "code",
      "metadata": {
        "id": "dA2ACtF2JaaX",
        "colab_type": "code",
        "colab": {
          "base_uri": "https://localhost:8080/",
          "height": 204
        },
        "outputId": "525d1665-89cb-4836-8f4b-a03bd376f218"
      },
      "source": [
        "df=pd.read_json('Sarcasm_Headlines_Dataset.json',lines=True)\n",
        "# shape and head\n",
        "df.head()"
      ],
      "execution_count": 68,
      "outputs": [
        {
          "output_type": "execute_result",
          "data": {
            "text/html": [
              "<div>\n",
              "<style scoped>\n",
              "    .dataframe tbody tr th:only-of-type {\n",
              "        vertical-align: middle;\n",
              "    }\n",
              "\n",
              "    .dataframe tbody tr th {\n",
              "        vertical-align: top;\n",
              "    }\n",
              "\n",
              "    .dataframe thead th {\n",
              "        text-align: right;\n",
              "    }\n",
              "</style>\n",
              "<table border=\"1\" class=\"dataframe\">\n",
              "  <thead>\n",
              "    <tr style=\"text-align: right;\">\n",
              "      <th></th>\n",
              "      <th>article_link</th>\n",
              "      <th>headline</th>\n",
              "      <th>is_sarcastic</th>\n",
              "    </tr>\n",
              "  </thead>\n",
              "  <tbody>\n",
              "    <tr>\n",
              "      <th>0</th>\n",
              "      <td>https://www.huffingtonpost.com/entry/versace-b...</td>\n",
              "      <td>former versace store clerk sues over secret 'b...</td>\n",
              "      <td>0</td>\n",
              "    </tr>\n",
              "    <tr>\n",
              "      <th>1</th>\n",
              "      <td>https://www.huffingtonpost.com/entry/roseanne-...</td>\n",
              "      <td>the 'roseanne' revival catches up to our thorn...</td>\n",
              "      <td>0</td>\n",
              "    </tr>\n",
              "    <tr>\n",
              "      <th>2</th>\n",
              "      <td>https://local.theonion.com/mom-starting-to-fea...</td>\n",
              "      <td>mom starting to fear son's web series closest ...</td>\n",
              "      <td>1</td>\n",
              "    </tr>\n",
              "    <tr>\n",
              "      <th>3</th>\n",
              "      <td>https://politics.theonion.com/boehner-just-wan...</td>\n",
              "      <td>boehner just wants wife to listen, not come up...</td>\n",
              "      <td>1</td>\n",
              "    </tr>\n",
              "    <tr>\n",
              "      <th>4</th>\n",
              "      <td>https://www.huffingtonpost.com/entry/jk-rowlin...</td>\n",
              "      <td>j.k. rowling wishes snape happy birthday in th...</td>\n",
              "      <td>0</td>\n",
              "    </tr>\n",
              "  </tbody>\n",
              "</table>\n",
              "</div>"
            ],
            "text/plain": [
              "                                        article_link  ... is_sarcastic\n",
              "0  https://www.huffingtonpost.com/entry/versace-b...  ...            0\n",
              "1  https://www.huffingtonpost.com/entry/roseanne-...  ...            0\n",
              "2  https://local.theonion.com/mom-starting-to-fea...  ...            1\n",
              "3  https://politics.theonion.com/boehner-just-wan...  ...            1\n",
              "4  https://www.huffingtonpost.com/entry/jk-rowlin...  ...            0\n",
              "\n",
              "[5 rows x 3 columns]"
            ]
          },
          "metadata": {
            "tags": []
          },
          "execution_count": 68
        }
      ]
    },
    {
      "cell_type": "code",
      "metadata": {
        "id": "1byHWVsLm43R",
        "colab_type": "code",
        "colab": {
          "base_uri": "https://localhost:8080/",
          "height": 34
        },
        "outputId": "17d3ea88-222e-4c54-c820-e34ab982783d"
      },
      "source": [
        "df.shape"
      ],
      "execution_count": 69,
      "outputs": [
        {
          "output_type": "execute_result",
          "data": {
            "text/plain": [
              "(26709, 3)"
            ]
          },
          "metadata": {
            "tags": []
          },
          "execution_count": 69
        }
      ]
    },
    {
      "cell_type": "markdown",
      "metadata": {
        "id": "mpwAiO3syYGW",
        "colab_type": "text"
      },
      "source": [
        "check xem data có bị missing value hay không"
      ]
    },
    {
      "cell_type": "code",
      "metadata": {
        "id": "IQURctt6yT4O",
        "colab_type": "code",
        "colab": {
          "base_uri": "https://localhost:8080/",
          "height": 85
        },
        "outputId": "14328855-757b-4603-c3b0-c4349d218b7c"
      },
      "source": [
        "print(df.isnull().any(axis = 0))"
      ],
      "execution_count": 70,
      "outputs": [
        {
          "output_type": "stream",
          "text": [
            "article_link    False\n",
            "headline        False\n",
            "is_sarcastic    False\n",
            "dtype: bool\n"
          ],
          "name": "stdout"
        }
      ]
    },
    {
      "cell_type": "markdown",
      "metadata": {
        "id": "SZJ_jIHnJTVN",
        "colab_type": "text"
      },
      "source": [
        "Column article_link không cần thiết để detect 1 headline có sarcasm hay không nên có thể được lượt bỏ \n"
      ]
    },
    {
      "cell_type": "code",
      "metadata": {
        "id": "5sjWXOJbJRnO",
        "colab_type": "code",
        "colab": {}
      },
      "source": [
        "df = df.drop(['article_link'], axis=1)"
      ],
      "execution_count": 71,
      "outputs": []
    },
    {
      "cell_type": "markdown",
      "metadata": {
        "id": "PYpf-LTVylLS",
        "colab_type": "text"
      },
      "source": [
        "Dữ liệu không bị missing value nhưng cột tiêu đề nên được loại bỏ các kí tự không cần thiết vì vậy em sử dụng Regular Expression ( Biểu thức chính quy) để loại bỏ các kí tự đặc biệt đó ví dụ dấu nháy dấu chấm v.v"
      ]
    },
    {
      "cell_type": "code",
      "metadata": {
        "id": "SEJbg_g4vbQX",
        "colab_type": "code",
        "colab": {}
      },
      "source": [
        "df['headline'] = df['headline'].apply(lambda s : re.sub('[^a-zA-Z]', ' ', s))\n"
      ],
      "execution_count": 79,
      "outputs": []
    },
    {
      "cell_type": "code",
      "metadata": {
        "id": "PXX5bvcoFNuu",
        "colab_type": "code",
        "colab": {
          "base_uri": "https://localhost:8080/",
          "height": 204
        },
        "outputId": "19907ff5-62f8-47d8-b787-2df2539e3897"
      },
      "source": [
        "df.head(5)"
      ],
      "execution_count": null,
      "outputs": [
        {
          "output_type": "execute_result",
          "data": {
            "text/html": [
              "<div>\n",
              "<style scoped>\n",
              "    .dataframe tbody tr th:only-of-type {\n",
              "        vertical-align: middle;\n",
              "    }\n",
              "\n",
              "    .dataframe tbody tr th {\n",
              "        vertical-align: top;\n",
              "    }\n",
              "\n",
              "    .dataframe thead th {\n",
              "        text-align: right;\n",
              "    }\n",
              "</style>\n",
              "<table border=\"1\" class=\"dataframe\">\n",
              "  <thead>\n",
              "    <tr style=\"text-align: right;\">\n",
              "      <th></th>\n",
              "      <th>headline</th>\n",
              "      <th>is_sarcastic</th>\n",
              "    </tr>\n",
              "  </thead>\n",
              "  <tbody>\n",
              "    <tr>\n",
              "      <th>0</th>\n",
              "      <td>former versace store clerk sues over secret  b...</td>\n",
              "      <td>0</td>\n",
              "    </tr>\n",
              "    <tr>\n",
              "      <th>1</th>\n",
              "      <td>the  roseanne  revival catches up to our thorn...</td>\n",
              "      <td>0</td>\n",
              "    </tr>\n",
              "    <tr>\n",
              "      <th>2</th>\n",
              "      <td>mom starting to fear son s web series closest ...</td>\n",
              "      <td>1</td>\n",
              "    </tr>\n",
              "    <tr>\n",
              "      <th>3</th>\n",
              "      <td>boehner just wants wife to listen  not come up...</td>\n",
              "      <td>1</td>\n",
              "    </tr>\n",
              "    <tr>\n",
              "      <th>4</th>\n",
              "      <td>j k  rowling wishes snape happy birthday in th...</td>\n",
              "      <td>0</td>\n",
              "    </tr>\n",
              "  </tbody>\n",
              "</table>\n",
              "</div>"
            ],
            "text/plain": [
              "                                            headline  is_sarcastic\n",
              "0  former versace store clerk sues over secret  b...             0\n",
              "1  the  roseanne  revival catches up to our thorn...             0\n",
              "2  mom starting to fear son s web series closest ...             1\n",
              "3  boehner just wants wife to listen  not come up...             1\n",
              "4  j k  rowling wishes snape happy birthday in th...             0"
            ]
          },
          "metadata": {
            "tags": []
          },
          "execution_count": 43
        }
      ]
    },
    {
      "cell_type": "code",
      "metadata": {
        "id": "PukrSIiOJjUl",
        "colab_type": "code",
        "colab": {}
      },
      "source": [
        "features = df['headline']\n",
        "labels = df['is_sarcastic']\n",
        "features_compare=features\n"
      ],
      "execution_count": 80,
      "outputs": []
    },
    {
      "cell_type": "markdown",
      "metadata": {
        "id": "juEjMROeGK1h",
        "colab_type": "text"
      },
      "source": [
        "Xử dụng PorterStemmer để cắt giảm 1 từ thành từ gốc của nó \n",
        "Ví dụ : \"reading\" or \"reader\"\n",
        "Sau khi stemming sẽ trở thành \"read\" ( cho cả 2 từ trên)"
      ]
    },
    {
      "cell_type": "code",
      "metadata": {
        "id": "AI6XBQQ2Jvbc",
        "colab_type": "code",
        "colab": {}
      },
      "source": [
        "ps = PorterStemmer()\n",
        "features = features.apply(lambda x: x.split())\n",
        "features = features.apply(lambda x : ' '.join([ps.stem(word) for word in x]))"
      ],
      "execution_count": 81,
      "outputs": []
    },
    {
      "cell_type": "markdown",
      "metadata": {
        "id": "k2ME7S8rHVD4",
        "colab_type": "text"
      },
      "source": [
        "So sánh chuỗi trước và sau khi stemming "
      ]
    },
    {
      "cell_type": "code",
      "metadata": {
        "id": "GcAzD7bSnJsH",
        "colab_type": "code",
        "colab": {
          "base_uri": "https://localhost:8080/",
          "height": 51
        },
        "outputId": "cf07a23d-c44c-4b05-fadc-afc20f513bca"
      },
      "source": [
        "print(features_compare[0])\n",
        "print(features[0])"
      ],
      "execution_count": 82,
      "outputs": [
        {
          "output_type": "stream",
          "text": [
            "former versace store clerk sues over secret  black code  for minority shoppers\n",
            "former versac store clerk sue over secret black code for minor shopper\n"
          ],
          "name": "stdout"
        }
      ]
    },
    {
      "cell_type": "markdown",
      "metadata": {
        "id": "XWof2mFpHaE6",
        "colab_type": "text"
      },
      "source": [
        "tf-idf ( term frequency–inverse document frequency) hay còn gọi là tần số xuất hiện- tần số nghịch đảo của 1 từ trong 1 văn bản . Kỹ thuật này sử dụng để đếm số lần xuất hiện của 1 từ trong 1 văn bản nhiều hoặc ít để tìm ra những từ quan trọng trong 1 văn bản "
      ]
    },
    {
      "cell_type": "markdown",
      "metadata": {
        "id": "DshaDCcnbSpY",
        "colab_type": "text"
      },
      "source": [
        "Link tham khảo tf-idf :https://en.wikipedia.org/wiki/Tf%E2%80%93idf"
      ]
    },
    {
      "cell_type": "markdown",
      "metadata": {
        "id": "oRNcHXqcRinS",
        "colab_type": "text"
      },
      "source": [
        "TfidfVectorizer dùng để chuyển đổi bộ dữ liệu sang 1 ma trận có các thông số tf-idf dưới đây là link thư viện scikitlearn\n"
      ]
    },
    {
      "cell_type": "markdown",
      "metadata": {
        "id": "MvIm5CM8TUCg",
        "colab_type": "text"
      },
      "source": [
        "https://scikit-learn.org/stable/modules/generated/sklearn.feature_extraction.text.TfidfVectorizer.html"
      ]
    },
    {
      "cell_type": "code",
      "metadata": {
        "id": "vW7x5wzksY61",
        "colab_type": "code",
        "colab": {}
      },
      "source": [
        "from sklearn.feature_extraction.text import TfidfVectorizer\n",
        "tv = TfidfVectorizer(max_features = 5000)\n",
        "features = list(features)\n",
        "features = tv.fit_transform(features).toarray()"
      ],
      "execution_count": 83,
      "outputs": []
    },
    {
      "cell_type": "markdown",
      "metadata": {
        "id": "oFGoHuVqIu0P",
        "colab_type": "text"
      },
      "source": [
        "features sau khi được chuyển sang ma trận \n"
      ]
    },
    {
      "cell_type": "code",
      "metadata": {
        "id": "_ol4euD2H5tP",
        "colab_type": "code",
        "colab": {
          "base_uri": "https://localhost:8080/",
          "height": 34
        },
        "outputId": "503c57ba-4545-4dea-c91d-8ef046b84e09"
      },
      "source": [
        "print(features.shape)"
      ],
      "execution_count": 84,
      "outputs": [
        {
          "output_type": "stream",
          "text": [
            "(26709, 5000)\n"
          ],
          "name": "stdout"
        }
      ]
    },
    {
      "cell_type": "markdown",
      "metadata": {
        "id": "aEr5u64rR-Nb",
        "colab_type": "text"
      },
      "source": [
        "Vì dữ liệu khá nhiều nên em sẽ chia theo tỷ lệ 90-10"
      ]
    },
    {
      "cell_type": "code",
      "metadata": {
        "id": "PjTagjJGtQHl",
        "colab_type": "code",
        "colab": {}
      },
      "source": [
        "features_train, features_test, labels_train, labels_test = train_test_split(features, labels, test_size = 0.1, random_state = 0)"
      ],
      "execution_count": 85,
      "outputs": []
    },
    {
      "cell_type": "markdown",
      "metadata": {
        "id": "BFxT-vUfSNKT",
        "colab_type": "text"
      },
      "source": [
        "Dùng thử 4 model để train\n",
        "\n",
        "\n",
        "---\n",
        "\n",
        "\n",
        "\n",
        "---\n",
        "\n"
      ]
    },
    {
      "cell_type": "code",
      "metadata": {
        "id": "DkBOUyMrtX__",
        "colab_type": "code",
        "colab": {
          "base_uri": "https://localhost:8080/",
          "height": 153
        },
        "outputId": "b10847ae-849f-4aca-c9db-b672d2a8a128"
      },
      "source": [
        "# model 1:-\n",
        "# linear support vector classifier\n",
        "lsvc = LinearSVC()\n",
        "# training model\n",
        "lsvc.fit(features_train, labels_train)\n",
        "# accuracy tập train và tập test\n",
        "print(lsvc.score(features_train, labels_train))\n",
        "print(lsvc.score(features_test, labels_test))   \n",
        "# model 2:-\n",
        "#  Gaussuan Naive Bayes\n",
        "gnb = GaussianNB()\n",
        "gnb.fit(features_train, labels_train)\n",
        "print(gnb.score(features_train, labels_train))\n",
        "print(gnb.score(features_test, labels_test))  \n",
        "# model 3:-\n",
        "# Logistic Regression\n",
        "lr = LogisticRegression()\n",
        "lr.fit(features_train, labels_train)\n",
        "print(lr.score(features_train, labels_train)) \n",
        "print(lr.score(features_test, labels_test))     \n",
        "# model 4:\n",
        "# Random Forest Classifier\n",
        "rfc = RandomForestClassifier(n_estimators = 10, random_state = 0)\n",
        "rfc.fit(features_train, labels_train)\n",
        "print(rfc.score(features_train, labels_train))\n",
        "print(rfc.score(features_test, labels_test))    \n"
      ],
      "execution_count": 87,
      "outputs": [
        {
          "output_type": "stream",
          "text": [
            "0.9110574923038522\n",
            "0.8360164732309996\n",
            "0.7826358266078709\n",
            "0.7162111568700861\n",
            "0.8824777435726766\n",
            "0.8375140396855111\n",
            "0.9895998003161661\n",
            "0.7963309621864471\n"
          ],
          "name": "stdout"
        }
      ]
    },
    {
      "cell_type": "markdown",
      "metadata": {
        "id": "B7Z4tx7SShC0",
        "colab_type": "text"
      },
      "source": [
        "Crawl Data trên trang https://www.theonion.com/latest để lấy những head line sarcasm"
      ]
    },
    {
      "cell_type": "markdown",
      "metadata": {
        "id": "tNbhSuoZT1h_",
        "colab_type": "text"
      },
      "source": [
        "Install 1 số thư viện cần thiết"
      ]
    },
    {
      "cell_type": "code",
      "metadata": {
        "id": "g1gsoEln0dFi",
        "colab_type": "code",
        "colab": {
          "base_uri": "https://localhost:8080/",
          "height": 139
        },
        "outputId": "27031d5f-ceda-40a9-fabb-180c60e6d071"
      },
      "source": [
        "!pip install beautifulsoup4\n",
        "! pip install requests"
      ],
      "execution_count": 88,
      "outputs": [
        {
          "output_type": "stream",
          "text": [
            "Requirement already satisfied: beautifulsoup4 in /usr/local/lib/python3.6/dist-packages (4.6.3)\n",
            "Requirement already satisfied: requests in /usr/local/lib/python3.6/dist-packages (2.23.0)\n",
            "Requirement already satisfied: certifi>=2017.4.17 in /usr/local/lib/python3.6/dist-packages (from requests) (2020.4.5.2)\n",
            "Requirement already satisfied: idna<3,>=2.5 in /usr/local/lib/python3.6/dist-packages (from requests) (2.9)\n",
            "Requirement already satisfied: urllib3!=1.25.0,!=1.25.1,<1.26,>=1.21.1 in /usr/local/lib/python3.6/dist-packages (from requests) (1.24.3)\n",
            "Requirement already satisfied: chardet<4,>=3.0.2 in /usr/local/lib/python3.6/dist-packages (from requests) (3.0.4)\n"
          ],
          "name": "stdout"
        }
      ]
    },
    {
      "cell_type": "markdown",
      "metadata": {
        "id": "1M66VT6SURK2",
        "colab_type": "text"
      },
      "source": [
        "Hàm Crawl data sử dụng beautifulSoup "
      ]
    },
    {
      "cell_type": "code",
      "metadata": {
        "id": "uhIVvnr3T7g3",
        "colab_type": "code",
        "colab": {}
      },
      "source": [
        "def crawl(url, data):\n",
        "  r1 = requests.get(url)\n",
        "  coverpage = r1.content\n",
        "  soup1 = BeautifulSoup(coverpage, 'html5lib')\n",
        "  coverpage_news = soup1.find_all(\"h2\", class_=\"sc-759qgu-0 cYlVdn cw4lnv-6 eXwNRE\")\n",
        "  for i in coverpage_news:\n",
        "     data.append(i.get_text())"
      ],
      "execution_count": 92,
      "outputs": []
    },
    {
      "cell_type": "code",
      "metadata": {
        "id": "lbAi3jzSUC1Y",
        "colab_type": "code",
        "colab": {
          "base_uri": "https://localhost:8080/",
          "height": 833
        },
        "outputId": "73c23626-7b32-45e0-ae0f-48baf05348b5"
      },
      "source": [
        "import requests\n",
        "from bs4 import BeautifulSoup\n",
        "url1 = \"https://www.theonion.com/latest\"\n",
        "more_stories = ''\n",
        "data= []\n",
        "while len(data)<800:\n",
        "  crawl(url, data)\n",
        "  r1 = requests.get(url)\n",
        "  coverpage = r1.content\n",
        "  soup1 = BeautifulSoup(coverpage, 'html5lib')\n",
        "  t = soup1.find_all(\"a\", class_=\"sc-1out364-0 hMndXN js_link\")\n",
        "  more_stories = t[-1].get('href')\n",
        "  url=url1+more_stories\n",
        "  print(url)"
      ],
      "execution_count": 109,
      "outputs": [
        {
          "output_type": "stream",
          "text": [
            "https://www.theonion.com/latest?startTime=1584388020384\n",
            "https://www.theonion.com/latest?startTime=1584115920131\n",
            "https://www.theonion.com/latest?startTime=1583960880072\n",
            "https://www.theonion.com/latest?startTime=1583848740360\n",
            "https://www.theonion.com/latest?startTime=1583507820685\n",
            "https://www.theonion.com/latest?startTime=1583349840518\n",
            "https://www.theonion.com/latest?startTime=1583258400710\n",
            "https://www.theonion.com/latest?startTime=1583152200832\n",
            "https://www.theonion.com/latest?startTime=1582815600650\n",
            "https://www.theonion.com/latest?startTime=1582734240096\n",
            "https://www.theonion.com/latest?startTime=1582633800457\n",
            "https://www.theonion.com/latest?startTime=1582315260793\n",
            "https://www.theonion.com/latest?startTime=1582168620077\n",
            "https://www.theonion.com/latest?startTime=1582051980524\n",
            "https://www.theonion.com/latest?startTime=1581692940469\n",
            "https://www.theonion.com/latest?startTime=1581543300169\n",
            "https://www.theonion.com/latest?startTime=1581443700779\n",
            "https://www.theonion.com/latest?startTime=1581345420497\n",
            "https://www.theonion.com/latest?startTime=1581028140794\n",
            "https://www.theonion.com/latest?startTime=1580936700551\n",
            "https://www.theonion.com/latest?startTime=1580831460228\n",
            "https://www.theonion.com/latest?startTime=1580689020030\n",
            "https://www.theonion.com/latest?startTime=1580403120074\n",
            "https://www.theonion.com/latest?startTime=1580241840707\n",
            "https://www.theonion.com/latest?startTime=1580143260921\n",
            "https://www.theonion.com/latest?startTime=1579824900944\n",
            "https://www.theonion.com/latest?startTime=1579646880656\n",
            "https://www.theonion.com/latest?startTime=1579521600300\n",
            "https://www.theonion.com/latest?startTime=1579177800334\n",
            "https://www.theonion.com/latest?startTime=1579032300715\n",
            "https://www.theonion.com/latest?startTime=1578667260556\n",
            "https://www.theonion.com/latest?startTime=1577397600869\n",
            "https://www.theonion.com/latest?startTime=1576843200023\n",
            "https://www.theonion.com/latest?startTime=1576714500917\n",
            "https://www.theonion.com/latest?startTime=1576593000813\n",
            "https://www.theonion.com/latest?startTime=1576270380633\n",
            "https://www.theonion.com/latest?startTime=1576163640567\n",
            "https://www.theonion.com/latest?startTime=1575981000663\n",
            "https://www.theonion.com/latest?startTime=1575653040909\n",
            "https://www.theonion.com/latest?startTime=1575478020871\n",
            "https://www.theonion.com/latest?startTime=1575307200933\n",
            "https://www.theonion.com/latest?startTime=1574785200035\n",
            "https://www.theonion.com/latest?startTime=1574436600817\n",
            "https://www.theonion.com/latest?startTime=1574351280579\n",
            "https://www.theonion.com/latest?startTime=1574170200416\n",
            "https://www.theonion.com/latest?startTime=1573846320019\n",
            "https://www.theonion.com/latest?startTime=1573740000095\n",
            "https://www.theonion.com/latest?startTime=1573587720312\n"
          ],
          "name": "stdout"
        }
      ]
    },
    {
      "cell_type": "code",
      "metadata": {
        "id": "JU_3M_1rU6-u",
        "colab_type": "code",
        "colab": {
          "base_uri": "https://localhost:8080/",
          "height": 1000
        },
        "outputId": "85915a26-0229-4a96-c6ab-db7b2714e126"
      },
      "source": [
        "data"
      ],
      "execution_count": 113,
      "outputs": [
        {
          "output_type": "execute_result",
          "data": {
            "text/plain": [
              "['Bucs Sign Replacement-Level Veteran To Hold Down QB Position Until They Draft Starter',\n",
              " 'Frustrated Dog Has No Time To Jerk Off Now That Owner Home All Day',\n",
              " 'Conservative Worries Relief Checks Would Discourage Americans From Providing For Selves By Killing Him And Taking His Property',\n",
              " '10 Most OMG Adorable Animals',\n",
              " 'Timeline Of Trump Administration’s Response To Coronavirus',\n",
              " 'Universal Pictures Makes Movies Currently In Theaters Available For Home Viewing Following Coronavirus Concerns',\n",
              " 'Amazon Hires 100,000 New Workers To Cram In Close Quarters Just For Kicks',\n",
              " 'Kansas Basketball Devastated They Won’t Get Opportunity To Vacate National Championship',\n",
              " 'Fiat Recalls More Than 10,000 Cars For Not Looking Small And Weird Enough',\n",
              " 'Nation’s 108 Million Service Industry Workers Assure Public That Job Is Just Way To Stay Busy After Winning Lottery Years Ago',\n",
              " 'Who Said It: Kanye West Or An Instruction Manual For The Cuisinart CRC-400 Electric Rice Cooker?',\n",
              " 'CDC Urges Americans To Prevent Spread Of Germs By Beatboxing Into Elbow',\n",
              " 'Americans Mark St. Patrick’s Day',\n",
              " 'Your Horoscopes — Week Of March 17, 2020',\n",
              " 'Tom Brady: ‘I Want To Thank All The Insufferable New England Fans For Giving Me A Reason To Get The Hell Out Of Here’',\n",
              " 'Amazing Detail: Every Game In ‘MLB The Show’ Will Feature A Frustrated Father Sitting In The Stands Next To His Husky Son Playing A Nintendo DS',\n",
              " 'Congress Allocates $2 Trillion To Bail Out Struggling Bailout Industry',\n",
              " 'Biden Pledges To Select Woman As Vice President Since Position Doesn’t Entail Much Anyway',\n",
              " 'Woman Tries To Spark Casual Chat In Long Grocery Store Line As If She Not Desperately Attempting To Outrun Death',\n",
              " 'Americans Urged To Help ‘Flatten The Curve’ Of Covid-19 Pandemic',\n",
              " 'Outbreaks In Victorian England Confirm Coronavirus Capable Of Spreading Through Time',\n",
              " 'Biden, Sanders Go Head-To-Head In Debate',\n",
              " 'Pfizer Pours All Resources Into Developing New Hyper-Depressant Pill To Help Americans Ease Transition Into Self-Quarantining',\n",
              " 'Porn Industry Leaders Announce Immediate Closure Of All Orifices',\n",
              " 'Report: Cat Can Tell You’ve Been Drinking Again',\n",
              " '10 Crazy Optical Illusions',\n",
              " 'Idaho Governor Orders State’s Restaurant To Be Shut Down',\n",
              " 'Divorced Mom At Point In Life Where She Figures She Might As Well Start Writing Erotic Letters To Men In Prison',\n",
              " 'The Week In Pictures – Week Of March 16, 2020',\n",
              " 'Rob Gronkowski Signs Deal With World Wrestling Entertainment',\n",
              " 'An Alarming Crime Scene In New England',\n",
              " 'Trump Advises Americans Worried About Coronavirus To Just Get Doctor Who Always Tells Them They In Perfect Health',\n",
              " '‘I Have Coronavirus And I Am Dead’ Says Trump Furthering Confusion Over COVID-19',\n",
              " 'College, Professional Sports Seasons Postponed And Suspended Following Coronavirus Fears',\n",
              " 'Movie Theaters Packed With Frenzied Crowds Trying To Catch Last-Minute Screening Of ‘Sonic’ Film Before Coronavirus Hits',\n",
              " 'Frustrated Jared Kushner Doesn’t Get Why Everyone In Media Attacking His Qualifications Like They Didn’t Just Get Jobs Through Nepotism Too',\n",
              " 'Kushner Announces Doctors HATE Him After He Discovered One Weird Trick To CURE Coronavirus',\n",
              " 'Trump Assures Americans He Called 911 To Report Coronavirus Outbreak',\n",
              " 'Health Experts Worry Coronavirus Will Overwhelm America’s GoFundMe System',\n",
              " 'Everything You Need To Know About ‘Nioh 2’',\n",
              " 'How U.S. Organizations Are Responding To The Coronavirus Outbreak',\n",
              " 'Guests Spit Mouthfuls Of Tuna Into Buckets At StarKist Cannery Tour Tasting Room',\n",
              " 'Orioles Suggest That MLB Maybe Consider Canceling Entire Season Just To Be Totally Safe',\n",
              " '‘New York Times’ Offering Free Access To Obituaries During Coronavirus Outbreak',\n",
              " 'Federal Reserve Takes Drastic Action By Pumping $1.5 Trillion Into The Ether',\n",
              " 'Racist ‘Song Of The South’ Will Not Be Added To Disney+',\n",
              " 'Italy Travel Ban Gives Rise To Underground Network Of Gondoliers Smuggling Tourists Into Country',\n",
              " 'James Harden Pledges 10 Million Dollar Bills To Keep Nation’s Strip Clubs Afloat During Pandemic',\n",
              " 'Green Giant Takes A Stand Against Gun Violence',\n",
              " 'Dow Jones Drops 20% As Pandemic Fears Grow',\n",
              " 'Top U.S. Health Experts: ‘Hold On To Your Fucking Seats Because This Bitch Hasn’t Even Thought About Starting Yet’',\n",
              " 'Best Buy CEO Humbly Asks If Everyone Can Go Out And Buy A Cord Or Something To Help With Company’s Coronavirus Losses',\n",
              " 'Harvey Weinstein Placed Under Intensive Suicide Encouragement At Rikers Island',\n",
              " 'Coworkers At Bathroom Sink Locked In Tense Standoff Over Who Going To Wash Hands Longer',\n",
              " '‘You A Pumpkin-Headed Bitch’ Announces Bus Teenager',\n",
              " 'Myth Vs. Fact: Coronavirus',\n",
              " 'BP Executives Combat Negative Perceptions Of Fossil Fuel Companies By Putting Iceberg In Hotel Room With Murdered Prostitute',\n",
              " 'Judge Rules Led Zeppelin Did Not Steal ‘Stairway To Heaven’ Riff',\n",
              " 'Son-Of-A-Bitch Mouse Solves Maze Researchers Spent Months Building',\n",
              " 'Putin Backs Constitutional Amendment That Could Keep Him In Office Through 2036',\n",
              " 'Best Methods For Staying Safe From Coronavirus',\n",
              " '‘I Can’t Wait To Dress Up As The Coronavirus For Halloween,’ Says Man Who Will Be Dead By May',\n",
              " 'Biden Extends Olive Branch To Biden Supporters',\n",
              " 'Tulsi Gabbard Named Democratic Nominee After Discovery Of Obscure Rule That Grants Nomination To Whoever Wins 0.7% Of The Vote In Missouri',\n",
              " 'Girlfriend Making Playlist Of Bands You Might Like To Associate With Her Forever',\n",
              " 'Dole Introduces New Voice-Activated Grapefruit',\n",
              " 'Wells Fargo Board Members Resign Following Congressional Report',\n",
              " 'Is Bernie Sanders Too Old To Be The Next James Bond?',\n",
              " 'Lucky Cruise Passengers Get Bunch Of Extra Days On Ship',\n",
              " 'Twitter Adds ‘Manipulated Media’ Label To Video Retweeted By Trump',\n",
              " 'Things Must Be Getting Pretty Serious For Girlfriend’s Dad To Gift Bottle Of BBQ Sauce',\n",
              " 'Insecure Man Worried Everyone At Gym Will Stare At His Perfectly Chiseled Body',\n",
              " 'Cashier Enlists Assistance Of Slightly More Competent Cashier',\n",
              " '‘Vote Blue No Matter Who, Vote Blue No Matter Who,’ Chants Man Filling In Every Bubble On Democratic Primary Ballot',\n",
              " 'Your Horoscopes — Week Of March 10, 2020',\n",
              " 'CDC Advises Americans To Protect Against Coronavirus By Piling Into This Here Tub For A Scrubbin’',\n",
              " 'NASA Says Lettuce Grown In Space Is Safe To Eat',\n",
              " 'Pope Francis Urges Priests To Refrain From Molesting Children Over Coronavirus Fears',\n",
              " 'New Study Finds Most Premature Births Occur After Fetus Smells Something Delicious Outside',\n",
              " 'Dow Rallies After It Turns Out Trader Who Jumped Out Window Was Merely Having Marital Problems',\n",
              " 'Pope Francis Gives Blessings Via Video In Effort To Reduce Spread Of Coronavirus',\n",
              " 'Woman’s Subconscious Not Sure How Much More Clearly It Can Communicate That Her Teeth Going To Fall Out Soon',\n",
              " 'Fact That Man Being Criticized Just Goes To Prove His Point',\n",
              " 'Biden Gives Speech From South African Jail Cell Where He Still Imprisoned For Supporting Nelson Mandela',\n",
              " 'The Week In Pictures – Week Of March 9, 2020',\n",
              " 'Steph Curry Returns To NBA Following Injury',\n",
              " 'FAA Restricts Passenger Jets To Flying No More Than 15 Feet Above Ground',\n",
              " '73-Year-Old Billie Eilish Breaks Silence To Discuss Ravages Of Fame In Interview From Hermetically Sealed Mansion',\n",
              " 'Smithsonian Apologizes For Fraudulent ‘Treasures Of Obama’s Tomb’ Exhibit',\n",
              " 'Elizabeth Warren Suspends Presidential Campaign',\n",
              " 'Man Talking Big Game About Having Shroom Hookup Folds Almost Immediately Under Pressure',\n",
              " 'Key Priorities For Trump’s Reelection Campaign',\n",
              " 'Man Who’s Really Excited To One Day Have Children Must Be Pedophile',\n",
              " 'Former TV Host Must Pay PBS $1.5 Million For Violating Morality Clause',\n",
              " '‘The Onion’ Celebrates International Women’s Day',\n",
              " 'Biden Defends Past Inappropriate Touching Of Women As Symptom Of Stuttering Hands',\n",
              " 'CDC Warns Public Of Mutating Coronavirus',\n",
              " 'Ruth Bader Ginsburg Flirting With 67-Year-Old Intern Again',\n",
              " 'Dixie Chicks Release First New Single In 14 years',\n",
              " '‘We Have Coronavirus Under Control,’ Announces CDC Director As Nose Slowly Transforms Into Pangolin Snout',\n",
              " 'Restaurant Expensive Enough That Menu Just Single Sheet Of Really Nice Paper',\n",
              " 'Self-Congratulatory Civility Between Disagreeing Internet Commenters Honestly Worse Than Fight Would Have Been',\n",
              " 'Vindictive Amy Klobuchar Elected Mayor Of South Bend, Indiana',\n",
              " 'Biden Wondering Where All This Support Was When He Still Had Functioning Brain',\n",
              " 'Amazing Collaboration: NASA Is Working With Nintendo To Learn How They Got The ‘?’ Blocks In ‘Mario’ Games To Float In The Air',\n",
              " 'Apple Ordered To Pay Up To $500 Million Over Slow iPhones',\n",
              " 'Health Officials Ask Americans To Stop Buying Face Masks',\n",
              " 'Catholic Leaders Transfer Most Alluring Children To Another Church',\n",
              " 'Serial Killer Nostalgic For Bygone Days When He Could Still Get Excited By Something As Simple As Setting A Dog On Fire',\n",
              " 'Man Loses Control Of Stretch',\n",
              " 'Sanders Supporter Urges Importance Of Listening To Minority Voices Just Not Specifically The Ones Who Handed Victory To Biden',\n",
              " 'Frustrated Bloomberg Staffer Literally Just Aborted Fetus For This Job',\n",
              " 'Biden Says Incredible Comeback Proves He Can Beat Progressive Democrat In A General Election',\n",
              " 'Elderly Woman Wheeling Oxygen Tank Takes Over Bus’ Priority Seating Like Most Feared Inmate On Prison Yard',\n",
              " 'Closet With The Luggage All Fucked Up',\n",
              " 'Worst Pandemics In Global History',\n",
              " 'Woman Braces Self As Documentary Shows Sea Lions Happily Swimming Near Shoreline',\n",
              " '‘Judge Judy’ Ending After 25 Seasons',\n",
              " 'Amazing News Gamers: Everyone Is Having A Great Time Playing Video Games',\n",
              " 'Area Man Unaware Lifelong Aerosmith Fandom Caused By Early Imprinting Of Steven Tyler As Father Figure',\n",
              " 'White House Condemns 2020 Election As Partisan Witch Hunt',\n",
              " 'Americans Urged To Stockpile Loved Ones Ahead Of Coronavirus Outbreaks',\n",
              " 'Buttigieg, Klobuchar Endorse Biden After Suspending Campaigns',\n",
              " 'God Happens Upon Tribe Of Primitive, Sky-Worshipping Angels In Previously Uncontacted Region Of Heaven',\n",
              " 'Snack Industry Runs Out Of Ways To Escalate The Word ‘Cheese’',\n",
              " 'Last-Minute Change To Super Tuesday Primary Rules Requires All 14 States To Vote At Same Polling Place',\n",
              " 'Panicked WHO Officials Not Sure How To Respond After Coronavirus Brings 12 People Back To Life',\n",
              " 'Biden Confident After Spending Super Tuesday Stumping Across Iowa',\n",
              " 'Astronomers Discover ‘Mini-Moon’ Orbiting Earth',\n",
              " 'Baby Totally Strung Out On Attention',\n",
              " 'New Neutrogena Deep Cleanse Just 130-Pound Chimp That Rips Your Face Off',\n",
              " 'Your Horoscopes — Week Of March 3, 2020',\n",
              " 'Tom Steyer Drops Out Of Democratic Presidential Race',\n",
              " 'Report: More Americans Opting To Cut Cord By Building, Launching Own Satellite Into Orbit',\n",
              " 'DNC Commits To Younger-Looking Leadership With New Rejuvenating Skincare Routine',\n",
              " 'Man Commits To Being Overly Nice For Next 45 Minutes To Friend He Just Snapped At',\n",
              " 'Eukaryote Traumatized After Accidentally Witnessing Parent Cell Undergo Mitosis',\n",
              " 'Depressed Mom Can’t Even Enjoy Adult Son’s New Haircut',\n",
              " 'Buttigieg Drops Out Of Democratic Race After Slamming Own Plan To Be President As ‘Naive, Unrealistic Pipe Dream’',\n",
              " 'Olive Garden Unveils New All-You-Can-Eat Assisted Suicide Dinners For Terminally Ill Customers',\n",
              " 'Building Self-Conscious About Patch Of Discolored Bricks',\n",
              " 'Damning New Footage Shows Sanders In 1980s Arguing Madonna Could Never Make Transition From Music To Film',\n",
              " 'Americans Conned Out Of $201 Million In Online Romance Scams In 2019',\n",
              " 'Study: Majority Of Americans Not Prepared For When Sun Engulfs Earth In 7.5 Billion Years',\n",
              " 'The Week In Pictures – Week Of March 2, 2020',\n",
              " 'Weighted Blanket Sure To Succeed Where CBD, Salt Lamp, Oil Diffuser, Acupressure Mat, Bath Bombs, And White Noise Machine Failed',\n",
              " 'Trump Claims Responsibility For Longest Black History Month In 4 Years',\n",
              " 'Olympic Committee Announces Tokyo Games Will Still Go On As Planned Because True Athletes Embrace Every Obstacle That Comes Their Way',\n",
              " 'Pentagon Awards Oscar Mayer $102 Million Contract For New Military-Grade Hot Dog',\n",
              " 'Man Annoyed He No Longer Even Able To Go To Wuhan To Eat Bats Without Mom Freaking Out',\n",
              " 'NFL Draft Prospect Sets Combine Record By Scrubbing Entire Social Media Presence In 17.64 Seconds',\n",
              " 'Marine Corps Orders Removal Of Confederate Symbols From All Bases',\n",
              " 'Warren Tells Supporters To Cut That Pinterest Shit Out, This Is Serious',\n",
              " 'Obama Kind Of Hurt No One’s Even Asked For His Endorsement',\n",
              " 'Authorities Arrest 15,000 At FugitiveCon 2020',\n",
              " 'Myth Vs. Fact: Stop-And-Frisk Policy',\n",
              " 'Child Doing Stations Of The Cross Reflects On Boredom Christ Must Have Felt During Crucifixion',\n",
              " 'Scotland Set To Become First Country To Provide Free Menstrual Products To All Women',\n",
              " '‘I’ll Show Those Pricks!’ Screams Mitt Romney Driving Busload Of Pregnant Women To Abortion Clinic After Being Disinvited To CPAC',\n",
              " 'Professional Rodeo Cowboys Association Horrified To Learn Madison Bumgarner Risking Health As Baseball Pitcher',\n",
              " 'CBS Inks Deal For 30-Episode Bloomberg Ad',\n",
              " 'Maria Sharapova Retires From Tennis',\n",
              " '‘I Like This Candidate Now And Will Vote For Him,’ Says Area Man After Having To Watch 12th Bloomberg Ad In Single Day',\n",
              " 'New, Inclusive Gerber Campaign Features First Adult Gerber Baby',\n",
              " 'Timberwolves Fire Clerk On Accounts Receivable Team In First Step Towards Turning Franchise Around',\n",
              " 'Man Doesn’t Mind Long Commute Because It Gives Him Extra Time To Listen To Voice In Head Saying He Can’t Keep Living Like This',\n",
              " '‘No, Stop, Please,’ Shouts Woman As Hands Uncontrollably Google All Of Boyfriend’s Exes',\n",
              " 'Candidates Struggle To Answer Question About Future Of Granite Countertops During HGTV Town Hall',\n",
              " '‘No Way To Prevent This,’ Says Only Nation Where This Regularly Happens',\n",
              " 'CDC Warns Of U.S. Coronavirus Outbreak',\n",
              " 'Greatest Video Game Weapons Of All Time',\n",
              " 'CDC Warns Against Potential Health Risks Of Flavored Gun Barrels',\n",
              " 'Breaking: Mama!',\n",
              " 'Effects Of The #MeToo Movement',\n",
              " 'Iran’s Deputy Health Minister Announces He Has Coronavirus And Also Hemorrhoids But That’s A Separate Thing That He Will Deal With On His Own',\n",
              " 'Actor Hank Azaria To Stop Voicing Apu On ‘The Simpsons’',\n",
              " 'Sanders Supporter Sick Of Movement Being Defined By Small Number Of Toxic Members Like Him',\n",
              " 'Trump Holds Diplomatic Ceremony To Formally Welcome Coronavirus To United States',\n",
              " 'Driver Enraged At Rider Who Threw Up In Ambulance',\n",
              " 'Neurosurgeon Feels Lucky He Was Able To Turn Hobby Into Career',\n",
              " 'This The Part Of Musical Number Where Everyone In Chorus Slowly Kneels Around Main Character',\n",
              " '‘I’m Free, I’m Finally Free!’ Thinks Parent Before Realizing Lost Child Just Hiding Inside Clothes Rack',\n",
              " 'Handwritten Sign Clarifies Flooded Urinal Covered In Garbage Bag ‘Out Of Order’',\n",
              " 'Moderators Kick Off Debate By Asking Whether Bloomberg Ready To Get Shit Rocked Again',\n",
              " 'Klobuchar Hoping To Distinguish Herself During Debate As Only Candidate Not Sucker Punched In Gut Moments Before Stepping On Stage',\n",
              " 'Netflix Adds ‘Top 10’ List Featuring Most Popular Shows',\n",
              " 'Elena Kagan Worried She’s A Fraud After Being Only Female Justice Not Called Out By Trump',\n",
              " 'Yosemite On Lockdown After Bear Spotted In Park',\n",
              " 'Idiotic Squirrel With Acorn Runs Away From Man As If He Doesn’t Get To Eat All The Nuts He Wants',\n",
              " 'Harvey Weinstein Found Guilty',\n",
              " 'Quentin Tarantino Has Son In Latest Homage To Spaghetti Western Director Sergio Leone',\n",
              " 'Reform ‘Fifty Shades’ Reader Doesn’t Think Christian And Ana Literally Indulged In Bladder Control Fetish, But Derives Meaning From Story Nonetheless',\n",
              " 'Dead-Eyed Tattoo Artist Has Inked ‘Tomorrow Is Promised To No One’ 5,000 Times In Past Year',\n",
              " 'Nation’s Men Stunned To Realize Sexual Harassment Problem May Go As Far Back As 1990',\n",
              " 'Jörmungandr Succumbs To First Recorded Case Of Human-To-God Coronavirus Transmission',\n",
              " 'Your Horoscopes — Week Of February 25, 2020',\n",
              " 'So-Called ‘Flash Sale’ May Have Been Strategized Weeks In Advance',\n",
              " 'Outback Introduces New Bloomin’ Cow',\n",
              " 'Scientists Use Artificial Intelligence To Discover New Antibiotics',\n",
              " 'Trump In India Hails Blossoming Relations Between The 2 Planets',\n",
              " 'Federal Government Reinstitutes Practice Of Spanking Criminals As Punishment',\n",
              " 'Embarrassed Heart Surgeon Admits He May Have Accidentally Left Sanders’ Medical Records In Candidate’s Chest',\n",
              " '‘You Take These Cuffs Off Of Me And I’ll Make You A Star,’ Says Harvey Weinstein To Female Bailiff Escorting Him Out Of Courtroom',\n",
              " 'Trump Visits India',\n",
              " 'Desperate CDC Director Walks Down Hall Of Imprisoned Diseases For One-On-One Talk With Avian Flu About Stopping Coronavirus',\n",
              " 'U.S. Unveils Plan For Rest Of World To Become Carbon-Neutral By 2030',\n",
              " 'PETA Quietly Testing ‘Coronavirus Is A Living Thing’ Ad Spots In Few Small Markets',\n",
              " 'Smithsonian Museum Celebrates Black Alternate History Month With Full-Scale Recreation Of W.E.B. Du Bois’ War Zeppelin',\n",
              " 'Pathetic: This Gamer Who Got Shot 3 Times Went To A Hospital Instead Of Just Crouching Behind Cover For 10 Seconds',\n",
              " 'Concerned Baby Starting To Worry Lethargic, Distant Mom Not Suffering From Postpartum Depression At All',\n",
              " 'The Week In Pictures – Week Of February 24, 2020',\n",
              " 'Forever 21 Bought Following Bankruptcy',\n",
              " 'Trump Administration Rolls Back Hunting Regulations Forbidding Use Of Chokeholds, Eye Gouging On Birds',\n",
              " 'Pete Alonso Asks Teammates Whether They’d All Rather Sign Up For Volleyball This Year',\n",
              " 'Anti-Cyberbullying Campaign Encourages Kids To Get Out There And Do It In Person',\n",
              " 'Roger Stone Sentenced To Over 3 Years In Prison',\n",
              " 'Indian Elephant Forced To Busk On Hollywood Boulevard After Los Angeles Bans Exotic Animal Performers',\n",
              " 'Experts Concerned Pale Russian Mystic Constantly At Trump’s Side May Attempt To Influence 2020 Election',\n",
              " 'Everyone In Symphony Audience Has Finger Cocked Under Beer Can Tab For First Sign of Crescendo',\n",
              " 'Pros And Cons Of Banning Peanuts In Schools',\n",
              " 'Disappointing: ‘The Last Of Us 2’ Has Received An M Rating Solely For A Scene Where Ellie Meets A Dog That Swears And Smokes Cigarettes',\n",
              " 'Passengers Aboard Coronavirus Cruise Ship Refusing To Leave After Forming Unlikely Friendships With Each Other That Transcend Nations, Languages',\n",
              " 'Coral Reefs Could Disappear Within Next 80 Years',\n",
              " 'God In Critical Condition',\n",
              " 'Recently Concussed Americans March On Washington D.C. Demanding The Right To Sleep',\n",
              " 'Biden Begging Donors To Stop Sending Money So He Can Quit Race',\n",
              " 'George Zimmerman Sues Buttigieg, Warren',\n",
              " '‘Four Quarts Make A Gallon. The Frontal Lobe Controls Decision Making. The Ottoman Empire Dissolved In 1922,” Says Amy Klobuchar, Continuing To Name Trivia Facts Hours After Debate Ends',\n",
              " 'Stephen Miller Spends Entire Honeymoon In Hotel Room Calling ICE On Cleaning Staff',\n",
              " 'Increased Airtime Of Chantix Commercials Results In Ray Liotta Qualifying For Democratic Debate',\n",
              " 'Chuck Todd Reminds Candidates That If They Want More Time To Speak There Are Melee Weapons Under Each Of Their Lecterns',\n",
              " '‘I’ll Rule You Peasants With An Iron Fist,’ Says Bloomberg To Standing Ovation During DNC Debate',\n",
              " 'Last-Second DNC Rule Change Requires Candidates Spend At Least $300 Million Of Own Fortune To Make Debate Stage',\n",
              " 'Trump Pardons Rod Blagojevich',\n",
              " 'Adobe Photoshop Turns 30',\n",
              " 'Australian Officials Touting Bushfire As Huge Success',\n",
              " 'Carnival Sinks Cruise Ship Rather Than Letting It Fall Into Coronavirus’ Clutches',\n",
              " 'Boy Scouts File For Bankruptcy',\n",
              " '‘I Love My Wife Marcia And 2 Beautiful Kids, Tad And Hayden,’ Says Buttigieg In Latest Campaign Shift',\n",
              " 'Rod Blagojevich Somehow Already Governor Of Illinois Again Minutes After Prison Release',\n",
              " 'New CIA Torture Program Concert Series Brings Metallica Into Black Sites To Play 72-Hour Sets',\n",
              " 'Thousands Of PETA Activists Descend On Hoover Headquarters To Protest Vacuum Cleaner That Spooked Dog',\n",
              " 'Number Of Homeless Students On The Rise',\n",
              " 'Pope Francis: ‘Nobody Out-Molests The Catholic Church’',\n",
              " 'Best Cities For Millennials',\n",
              " 'Report: Average Life Expectancy Increases To 18.2 Years For Americans Who Go Out Like Fucking Legends',\n",
              " '1,100 Former DOJ Officials Urge Barr To Resign',\n",
              " 'Boy Scouts Leadership Confident Organization Can Overcome Stigma Of Bankruptcy',\n",
              " 'Shocking Lore: Nintendo Says Mario Always Talks About Being Italian Even Though He’s Only A Quarter And His Last Name Is Walsh',\n",
              " 'Armed Teacher Rehearses Shooting Wall, Gunman, 3 Students During Active Shooter Drill',\n",
              " 'Overwhelmed Archaeologists Struggling To Keep Pace With Glut Of Early Humans Thawed Out By Climate Change',\n",
              " 'Your Horoscopes — Week Of February 18, 2020',\n",
              " 'Tyson Foods Orders Trump To Cease And Desist',\n",
              " 'Waiter Asks If Couple Would Like To Pack Him Up In Little Box And Take Him Home For Later',\n",
              " 'Experts Recommend Tuning Them Out And Just Trying To Enjoy Your Life',\n",
              " 'Man Who Didn’t Order Anything Online Still Checks Name On Package Just In Case Amazon Sent Him A Little Present',\n",
              " 'Parenting Experts Reveal Forcing Child To Shoot Dying Pet Only Teaches Lesson About Mortality For First 5 Or So Times',\n",
              " 'Pope Francis Attempts To Compromise On Rule-Change Proposals By Allowing Priests To Marry Him',\n",
              " 'The Week In Pictures – Week Of February 17, 2020',\n",
              " 'Hope Hicks Returns To White House',\n",
              " 'Love Sounds With Martha Saunders: How I Learned To Love Valentine’s Day After A Nude Man In A Diaper Killed My Father With A Bow And Arrow',\n",
              " 'Bloomberg Hires Thousands Of Canvassers To Stop Black Men On Street And Force Them To Hear Campaign Pitch',\n",
              " 'Americans Celebrate Valentine’s Day',\n",
              " 'A Guide To The USMCA Trade Deal',\n",
              " 'Nevada Addresses Concerns About Election Security By Switching To Electronic Voters',\n",
              " 'Mayo Clinic Offers Special Chocolate Heart Transplant For Valentine’s Day',\n",
              " 'Report Finds Average U.S. College Student Over $28,000 In Debt To Yakuza',\n",
              " 'BP Plans To Be Carbon-Neutral By 2050',\n",
              " 'God Announces Major Overhaul Of Procreation Process For 2021',\n",
              " 'Dad Unleashes Haunting Moan Of Satisfaction Upon Descending Into Hot Tub',\n",
              " 'Couple Takes Weekend Trip Outside City To Get Away From All The Arts And Culture',\n",
              " 'The Most Unforgettable Video Game Levels Of All Time',\n",
              " 'Yang, Bennet, Patrick Drop Out Of Presidential Race',\n",
              " 'Tinder Swipes Right On Big Changes',\n",
              " 'Mike Bloomberg: ‘I Apologize For The Damages My Past Policies Have Caused To The Negro Community’',\n",
              " '‘Birds Of Prey’ Renamed Following Poor Box Office Results',\n",
              " '‘You Should Put Your Name On The Karaoke List!’ Reports Greedy, Gluttonous Hunger For Strangers’ Approval',\n",
              " 'Diagram Warning Child Could Drown In Bucket Much More Clear In Hindsight',\n",
              " 'Every Question We’ve Been Dying To Answer About The ‘Final Fantasy 7’ Remake, Plus A Few Things We’d Like To Know About What Happens After We Die',\n",
              " 'Man Scrambling To Furnish Apartment Before Date Shows Up',\n",
              " 'Pros And Cons Of Abolishing The Senate',\n",
              " 'Resigned Nutritionists Now Recommend Eating 3 Servings A Day Of Mice Or Bark Or Whatever',\n",
              " 'FBI Warns Against American Dream Scam',\n",
              " 'Takeaways From The New Hampshire Primaries',\n",
              " 'Fox News Producer Knows His Work Formulaic But At Least It Helps People Escape Reality For Couple Hours',\n",
              " 'Sanders Wins New Hampshire Primary',\n",
              " 'Moderates Worry Klobuchar Splitting People-Who-Will-Vote-For-Anybody Vote',\n",
              " 'Best In Show Poodle Tearfully Advocates For Joaquin Phoenix Rights During Speech At Westminster Dog Show',\n",
              " 'Gaming Is Finally Growing Up: This Xbox One Is Wearing A Suit And Tie',\n",
              " 'Pregnant Woman Finally Knows Joy Of What It Feels Like To Be Big Fat Guy',\n",
              " 'Man Has Faint Inkling Of What Greeting Card With Picture Of Donkey On It Might Say Inside',\n",
              " 'Emergency Room Staff Assures Parents That Burger King Chicken Fries Will Pass Naturally Through Child’s System',\n",
              " 'University Of Colorado To Offer Degree In Marijuana',\n",
              " 'Department Of Evil: ‘All Of You Must Die’',\n",
              " 'Giannis Antetokounmpo To Take Off Next 3 Seasons With Standard European Paternity Leave',\n",
              " 'Bloomberg Campaign Raises Visibility By Pumping $5 Million Into #BloombergIsRacist Hashtag',\n",
              " 'Website Offers Porn To Passengers Trapped On Quarantined Cruise Ship',\n",
              " 'Poll Finds Bloomberg Trailing Among Young Black Males He’s Already Thrown In Prison',\n",
              " 'Man Calms Down From Violent Rage After Seeing ‘Or Current Resident’ On Misaddressed Letter',\n",
              " 'Army Guy Wears Glasses',\n",
              " 'Your Horoscopes — Week Of February 11, 2020',\n",
              " 'Fertility Clinic Employee Asks Couple If They’d Like To Play With Sperm Out Back And Get To Know It Better',\n",
              " 'Trump Fires Officials Who Testified In Impeachment Inquiry',\n",
              " '‘He’s A Cop,’ Say Bernie Backers, Withdrawing Support After Realizing Candidate Vying To Be Commander In Chief',\n",
              " 'Oscars Ceremony Ruined',\n",
              " 'Health Officials Warn It Is Impossible To Tell If American Cruise Ship Passengers Suffering From Coronavirus Or Just Like That',\n",
              " '‘Parasite’ Wins Best Picture At 92nd Oscars',\n",
              " 'Man Crippled By Fear Of Failure As If It Hadn’t Already Happened',\n",
              " 'Increasingly Unhinged Centrists Announce Plan To Round Up Nation Into Camps To Force Them To Engage In Meaningful Dialogue',\n",
              " 'Study Finds Dating Apps Most Effective Way To Find Everyone Your Age Apparently Kayaking Now',\n",
              " 'Engineer Thinking Bridge For This One',\n",
              " 'Mom Still Seething Over Car That Blew Through Stop Sign 15 Years Ago',\n",
              " 'The Week In Pictures – Week Of February 10, 2020',\n",
              " 'Study Finds Leading Cause Of Childhood Obesity Witches Fattening Up Children To Be Eaten',\n",
              " '‘You’re Allowed To Be Naked Sometimes, But Not Other Times,’ Says Brad Pitt In Baffling Oscars Acceptance Speech',\n",
              " 'Bumblebee Disappearance Linked To Extreme Heat',\n",
              " 'Timeline Of The Iowa Caucuses Debacle',\n",
              " 'Parkinson’s Gene Waiting To Switch On Until Everything Finally Falling Into Place For Local Man',\n",
              " 'A Shocking Scene Of Rebellion',\n",
              " 'The Onion’s Guide To The 2020 Oscars: Best Actresses',\n",
              " 'Buttigieg Touts Progress Connecting With Black Fortune 500 Executives',\n",
              " 'Bernie Madoff Asks For Prison Release',\n",
              " 'The Onion’s Guide To The 2020 Oscars: Best Actors',\n",
              " 'Movie Expedition Team Annoyed They Only Getting Briefed On Mission Right Before Parachuting Onto Hostile Island',\n",
              " 'Deal Alert: The Guards Protecting The Duke’s Prized Copy Of ‘Diddy Kong Racing’ Will Be Briefly Distracted During The Fireworks Display At His Upcoming Grand Ball',\n",
              " '‘He’s Got The Mulan Virus!’ Yells Don Jr. Attempting To Quarantine Eric By Duct Taping Garbage Bag Over Head',\n",
              " 'The Onion’s Guide To The 2020 Oscars: Best Pictures',\n",
              " 'Trump Acquitted',\n",
              " 'Thai Fishermen Find Iowa Caucus Results In Stomach of Tiger Shark',\n",
              " 'The Onion’s Guide To The 2020 Oscars: Best Directors',\n",
              " 'Who Is The Mike Pence Whistleblower?',\n",
              " 'Report: The Nation Has Healed And It’s Time To Rejoice!',\n",
              " 'Buttigieg, Sanders In Dead Heat In Iowa Caucus',\n",
              " 'Hollywood Legend Kirk Douglas Dead In Apparent Age Overdose',\n",
              " 'Senate Republicans Say One Mistake Should Not Ruin The Life Of A Naive, Promising Young Man Like Trump',\n",
              " 'Trump Spends National Prayer Breakfast Attacking God For Allowing Impeachment To Ever Happen',\n",
              " 'Lin-Manuel Miranda: ‘You People Are Giving Me Too Much Fucking Money’',\n",
              " 'The Hardest Boss Battles Of All Time',\n",
              " 'Sanders Makes Last-Minute Appeal To Moderates By Reminding Them All His Policies Would End Up Being Watered Down To Their Positions Anyway',\n",
              " 'Chicago Adds 90-Story Stack Of Italian Beef To Skyline',\n",
              " 'Trump Delivers Third State Of The Union',\n",
              " 'Both Parties Acting Exactly How Everyone Expected Them To Restore Nation’s Faith In Political Process',\n",
              " 'Rush Limbaugh Admits Presidential Medal Of Freedom Less Of An Honor Knowing That Rosa Parks, Maya Angelou Also Received It',\n",
              " 'Chiefs Fan Adjusting To New Life Of Solely Being Depressed About Life In Missouri',\n",
              " 'Buttigieg, Sanders Locked In Battle For Iowa',\n",
              " 'Embarrassed Ben Simmons Retracts Criticism Of Sixers After Remembering He On Team',\n",
              " 'Billboard Super Judgmental Since Converting To Christianity',\n",
              " 'The 6 Best Companies To Work For',\n",
              " 'Corporate Lawyer Achieves Career Masterpiece With McDonald’s Monopoly Contest Rules',\n",
              " '‘The Sims’ Turns 20',\n",
              " 'Pedestrians Passing Each Other On Sidewalk Stop To Let Children Sniff Each Other',\n",
              " 'Speeding Democratic Campaign Buses Run Over 173 Iowans In Mad Dash To Get Fuck Out Of State',\n",
              " 'DNC Offers Startup $500 Million To Develop Pencil That Can Accurately Record Election Results',\n",
              " 'Disney Buys ‘Hamilton’ Film Rights For $75 Million',\n",
              " 'DNC Blames Iowa Caucus Problems On Single Fuck-Up Senior Citizen Volunteer',\n",
              " 'Report: Majority Of Americans Would Jump At Chance To Rip Off Shirt And Use It As Tourniquet',\n",
              " 'Buttigieg: ‘My Record During My First Term As President Speaks For Itself’',\n",
              " 'Somebody In Mosh Pit All Sweaty',\n",
              " 'Punxsutawney Phil Fails To See Shadow Symbolizing Early Spring',\n",
              " 'Director Sets Up Actor With Backstory About How Franchise Failing Horribly',\n",
              " 'Your Horoscopes — Week Of February 4, 2020',\n",
              " 'DNC Mulls Asking Donald Trump To Run As Democrat In Effort To Stop Sanders',\n",
              " 'Chiefs Win Super Bowl',\n",
              " 'Move Over, Alan Moore: This Gaming Webcomic Is Now A Webcomic About Gaming And Fatherhood',\n",
              " 'Baby Delighted By Grandfather Making Silly Faces During Stroke',\n",
              " 'Man Wastes Entire Life Chasing Unrealistic Pipe Dream Of Being Loved And Respected',\n",
              " 'Andy Reid After Super Bowl Win: ‘I Can Now Die Of A Heart Attack In Peace’',\n",
              " 'Queen Reminds Worker Bees They Still Represent Colony Even When Away From Hive',\n",
              " 'The Week In Pictures – Week Of February 3, 2020',\n",
              " 'Frustrated Tenant Only 5 Or 6 Days Away From Sending Gently Worded Email To Landlord',\n",
              " 'Victorious Patrick Mahomes Thanks Bears For Drafting Mitchell Trubisky',\n",
              " 'Mike Shanahan Storms Onto Super Bowl Field To Berate Ref For Bullshit Call Against His Boy',\n",
              " 'Adorable Super Bowl Encourages Fans To Adopt Abandoned, Stray Football Players',\n",
              " '‘She’s About My Age,’ Reports Mom Watching Halftime Show',\n",
              " 'Bored 49ers Fan Already Watched J. Lo Perform At Start-Up’s Holiday Party',\n",
              " 'Sammy Watkins Stops Running In Middle Of Route To Look Around, Soak In This Special Moment',\n",
              " 'FOX Adds Highlighted Line On Field Showing Women How Far Away They Should Stay From Tyreek Hill',\n",
              " 'Nick Bosa Frustrated Some Guy Always Standing In Way When He’s Trying To Rush Pocket',\n",
              " '‘I’m Just Here For The Commercials,’ Jokes Man At Super Bowl Party Too Embarrassed To Admit He Desperate For Any Human Company',\n",
              " 'Panicked Referee Trying To Retrieve Super Bowl Coin From Vending Machine Before Opening Toss',\n",
              " 'Increased Security Requirements For Super Bowl Mandate All Fan Clothes Be Made From Transparent Plastic',\n",
              " 'House Votes To Repeal 2002 Military Authorization',\n",
              " 'Walmart Prevents Gun Violence At Walmart',\n",
              " 'WHO Declares Coronavirus A Global Health Emergency',\n",
              " 'Report: Fighting Rising Tide Of Authoritarianism Sounds Like A Lot Of Work',\n",
              " 'Frito-Lay Pledges Party-Size Bag Of Plain Potato Chips To Help Combat World Hunger',\n",
              " 'Poll Finds 75% Of Voters Want Impeachment Witnesses',\n",
              " 'Exhausted ‘1917’ Cinematographer Still Holding Single Shot Months After Film’s Release',\n",
              " 'Coronavirus Reaches 6,000 Cases',\n",
              " 'A Standstill In The Trial Of Harvey Weinstein',\n",
              " '‘You’re A Piece Of Shit And I Hope Everyone Like You Dies,’ Says Biden To Democratic Voter In Stirring Call For Party Unity',\n",
              " 'Recently Unearthed Ancient Sumerian Cuneiform Tablet Depicts Earliest Known Observance Of Ladies’ Night',\n",
              " 'Huh: There’s No Convention Or Anything In Town So This Guy Dressed Like Poliwhirl Must Just Dress Like This All The Time',\n",
              " 'U.S. Deficit Projected To Hit $1 Trillion In 2020',\n",
              " '7.7 Magnitude Earthquake Strikes Jamaica, Cuba',\n",
              " 'A Coveted Endorsement In Iowa',\n",
              " 'New Podcast From ‘The Onion’ Renders Eyeballs Obsolete',\n",
              " 'The Onion’s Guide To The 2020 Democratic Candidates',\n",
              " 'Kushner Promises Israel Plan Will Relocate All Palestinians To Generous Swath Of Mediterranean Sea',\n",
              " 'Olive Garden Food Scientists Rapidly Running Out Of Foods To Scampi',\n",
              " '‘USA!’ Chants Patriotic Man Envisioning 2-Mile Radius Of His Homogenized Suburb',\n",
              " 'Sanders Unveils Job-Training Program To Provide Meaningful Work To Low-Skilled Op-Ed Writers',\n",
              " 'Biggest Video Game Letdowns Of All Time',\n",
              " 'Aaron Rodgers Pledges To Dedicate Off-Season To Growing As Brand Ambassador',\n",
              " 'Cow In Really Great Shape',\n",
              " 'Chris Matthews Warns Bernie Sanders Victory Runs Risk Of Making Him Look Stupid 2 Elections In A Row',\n",
              " 'White House Rolls Out Middle East Peace Plan',\n",
              " 'Joni Ernst Insists She Hasn’t Seen Any Impeachment Evidence That Has Changed Her Self-Serving Political Calculus',\n",
              " 'Key Players In Trump’s Impeachment Trial',\n",
              " 'Bolton Book Confirms Trump Tied Aid To Biden Investigation',\n",
              " 'New Evidence Reveals Library Of Alexandria Kicked Out Dozens Of Creepy Old Romans For Looking At Pornographic Images On Abacus',\n",
              " '10 Easy Exercises You Can Do At The Office',\n",
              " 'Real New Yorker Folds Slice Of Cheesecake In Half Before Eating',\n",
              " 'Seattle Mariners Offhandedly Suggest Astros’, Red Sox’ Titles Be Awarded To Them Instead',\n",
              " 'Royal Caribbean Vessel Erupts From Mount Saint Helens After 8,000-Mile Cruise Through Center Of Earth',\n",
              " 'Your Horoscopes — Week Of January 28, 2020',\n",
              " 'Black-Metal Fan Conflicted About Supporting Artist Who’s Never Been Convicted Of Murder',\n",
              " 'Polling Shows Sanders Surpassing Biden In Iowa, New Hampshire',\n",
              " 'Xi Jinping Vows To Combat Coronavirus By Making It Illegal To Mention Within A Week',\n",
              " 'Experts Unable To Determine Why Someone As Rich As Justin Bieber Even Needs To Believe In God Anymore',\n",
              " 'Bolton Pledges To Donate All Proceeds From Book Towards Killing Iranians',\n",
              " 'Billie Eilish, Lizzo Win Big At 62nd Annual Grammys',\n",
              " 'Parents Impressed By How Big Baby Has Gotten After Just 16 Months Of CrossFit',\n",
              " 'Amy Klobuchar Enters 18th Minute Of Tense Standoff With Iowa Rally Crowd Who Haven’t Laughed At Her Joke',\n",
              " 'Excitement Builds Around New PlayStation After Leaked Images May Show Your Long-Lost Father Holding A PS5',\n",
              " 'Mike Pompeo: ‘There Is Overwhelming And Undeniable Evidence To Support Going To War With Whoever’',\n",
              " 'Tragedy Mask Clearly Jealous Of Comedy Mask',\n",
              " 'CDC Urges Americans To Just Say No If Friend Offers Them Coronavirus',\n",
              " 'The Week In Pictures – Week Of January 27, 2020',\n",
              " 'Treble Clef Honored With Lifetime Achievement Award During 62nd Annual Grammy Ceremony',\n",
              " 'Taylor Swift’s ‘Lover’ Wins Grammy For Best Children’s Album',\n",
              " 'Out-Of-Touch, Aging 24-Year-Old Keeps Trying To Fit In With Cool Kids At Grammys',\n",
              " 'Grammys Accused Of Bias Toward Music That Accurately Represents What Nation At Large Listening To',\n",
              " 'China Locks Down 6 Cities To Combat Coronavirus',\n",
              " 'Liberals Say Sanders’s Acceptance Of Rogan Endorsement Sends Dangerous Message He Trying To Win Election',\n",
              " 'Acquaintances At Happy Hour Break Into Cold Sweat As Mutual Friend Announces She Going To Bathroom',\n",
              " 'Melting Giraffe Congressman Warns Impeachment Distracting From Surreal Issues',\n",
              " 'The Onion’s 2020 Grammy Predictions',\n",
              " 'Weinstein Defense Attorney Implores Jury To Remember How Fun ‘Pulp Fiction’ Is',\n",
              " 'Doomsday Clock Set To 100 Seconds To Midnight',\n",
              " 'Trump Makes Powerful Pro-Life Case By Speaking About The Joys Of Neglecting A Child',\n",
              " 'Eli Manning Retires From NFL To Focus On Being Statistically Average Father',\n",
              " 'Judge Denies Dismissal Of Lewdness Charges For Woman Found Topless In Own Home',\n",
              " 'Nuclear Scientists Fucking Around In Friend’s Backyard Run Away After Stuffing Fission Bomb Into Coke Can',\n",
              " '‘Kingdom Hearts III’ DLC Developers Panicking After Realizing ‘Shrek’ Not Owned By Disney',\n",
              " 'U.S. Joins One Trillion Tree Pledge',\n",
              " 'Last Remaining Chinese Paddlefish Cackling In Rafters Of World Wildlife Fund Press Conference Declaring It Extinct',\n",
              " '‘The Onion’ Looks Back On The Hall-Of-Fame Career Of A-Rod’s Teammate',\n",
              " 'Kellyanne Conway Suggests MLK Would Have Opposed Trump Impeachment',\n",
              " 'Justice Roberts Sternly Admonishes Impeachment Participants To Remember They’re At Complete Farce Of A Trial',\n",
              " 'Financial Experts Recommend Just Waiting Until Chaos Is Law Of The Land',\n",
              " 'Hillary Clinton Attacks Bernie Sanders In New Interview',\n",
              " 'PornHub Announces Contest To Allow One User Under 18 To View Content',\n",
              " 'God Stumbles On Old, Beat-Up Planet That He Carved ‘Mötley Crüe’ All Over',\n",
              " 'Senate Republicans Force Through Resolution Establishing Wingstop As Official Sponsor Of Impeachment Trial',\n",
              " '‘Well, I Could Do That’ Says Art Museum Attendee Viewing Security Guard On Lunch Break',\n",
              " 'The Boeing 747 Turns 50',\n",
              " '30-Minute Silence In Car Broken With ‘We’re Making Good Time’',\n",
              " 'Contrarian ‘New York Times’ Travel Section Breaks With Paper To Endorse Deval Patrick For Democratic Nomination',\n",
              " 'Greta Thunberg Speaks On Climate At Davos 2020',\n",
              " 'Impatient Man Forced To Wait To Have Sex Until Wife Finished Giving Birth',\n",
              " 'First-Time Davos Attendee Can’t Believe How Many Seminars There Are About Running Secret Child-Molestation Ring',\n",
              " 'Kellyanne Conway Suggests Martin Luther King Jr. Would Have Traveled To Ukraine For Dirt On Biden',\n",
              " '‘Times’ Gives Klobuchar, Warren 2020 Endorsement',\n",
              " 'Area Dad Sure Knows A Lot About Local Weather Woman',\n",
              " 'Report: Clicking This Link Will Add You To Several FBI Watchlists',\n",
              " 'Recipe Clipping On Fridge Officially Outlives Newspaper It Came From',\n",
              " 'Canadian Man Wishes There Was Some Way To Pay His Doctor For All The Hard Work He Did',\n",
              " 'Real-Life ‘Katamari’! This Drunk Driver Is Still Dragging The Cyclist He Hit',\n",
              " 'Your Horoscopes — Week Of January 21, 2020',\n",
              " 'Top 6 Happiest Countries In The World',\n",
              " '‘They Can’t Impeach Someone They Can’t See,’ Say Trump Boys Cramming Dad Into Homemade Bunker Under Oval Office Desk',\n",
              " 'TV Character Knows All This Hardship She’s Experiencing Now Will One Day Be Nothing More Than A ‘Previously On’ Clip',\n",
              " 'Deal Alert: This 4-Year-Old Wandered Really Far From The Playground, Your Car’s Right There, And Her Parents Would Definitely Cough Up Enough For A Marvel 3-In-1 Arcade Machine To Get Her Back',\n",
              " 'Amazon Reviewer Posts Selfie With Purchased Toaster',\n",
              " 'Female James Bond Ruled Out By Series Producer',\n",
              " 'Unclear What Licensing Deal Led To Single Season 4 Episode Of ‘The Blacklist’ Being Available For Viewing On Airplane',\n",
              " 'The Week In Pictures – Week Of January 20, 2020',\n",
              " 'Conor McGregor Credits Excellent Pre-Fight Shape To Routine Of Hurling Heavy Objects In Public Spaces',\n",
              " 'Grindr, Tinder Sharing User Data With Third Party',\n",
              " 'Man Assumed Being Heartless, Egotistical Maniac Would Have Made Him Richer By Now',\n",
              " 'Senators Sworn In As Impeachment Trial Begins',\n",
              " 'Republican Senators Maintain They’ll Weigh All Evidence Before Carrying Trump Out On Shoulders',\n",
              " 'Impressive ‘Super Smash Brothers’ Purist Only Plays Original SNES Or NES Game Each Character From',\n",
              " 'History Of The U.S. Census',\n",
              " 'NCAA Determines Becoming A Bengal Punishment Enough For Joe Burrow Taking Cash From Odell Beckham',\n",
              " 'Tampax Unveils New Find My Tampon App For When One Really Gets Lodged Up There',\n",
              " 'CNN Reveals Bernie Sanders Running For President Of Country With History Of Sexism',\n",
              " 'Stephen Miller Hurt At Being Passed Over For Job Stalking Female Ambassador',\n",
              " '2019 Second-Hottest Year On Record',\n",
              " 'CNN Audio Analysis Reveals Biden Caught On Wet Mic While Chewing On Own Microphone',\n",
              " 'Study Estimates Half Of U.S. Adults Will Be Obese By 2030',\n",
              " 'Human Trafficker Not Getting Any Traction On This One',\n",
              " 'Couple Decide They’re Better Off As Siblings',\n",
              " 'Man Afraid He’ll Seem Vulnerable If He Reaches Out To Fire Department For Help',\n",
              " 'House To Send Impeachment Articles To Senate',\n",
              " 'Public Disapproval Of Iran Approach Convinces Trump To Reverse Soleimani Killing',\n",
              " 'Democrats Attend Last Debate Before Start Of Voting',\n",
              " 'Scientists Still Unable To Determine Whether Yes A Good Band',\n",
              " 'Biden Asks Advisors How Much Longer He Has To Pretend To Be Confused And Doddering To Avoid Criticism',\n",
              " 'Pros And Cons Of Economic Sanctions',\n",
              " 'Morbid Visit Home Begins With Grandfather Only Able To Complete Single Flying Crane Backflip Kick To Ward Off Intruders',\n",
              " 'Top 10 Things To Do In New York City',\n",
              " 'Cereal Too Crispy, Needs To Soak',\n",
              " 'CNN Reminds Debate Participants To Keep Personal Attacks Off The Stage In Favor Of New Confession Cam Backstage',\n",
              " 'CNN Moderator Challenges Sanders’ Support For Women By Asking Him To Name Every Part Of Female Reproductive System',\n",
              " '‘Hey, Remember John Hickenlooper?’ Says Wolf Blitzer To Break Tension From Debate',\n",
              " 'CNN Figures It Can Soak Tom Steyer For Couple Million By Pretending It Costs Money To Appear In Debate',\n",
              " 'Democratic Candidates Immediately Descend Into Violent Pandemonium Without Cory Booker’s Message Of Love',\n",
              " 'Queen Elizabeth II Allows Prince Harry, Meghan Markle To Split Time Between U.K., Canada',\n",
              " 'Booker Drops Out Of 2020 Race',\n",
              " 'Swing Voter Really Relates To Buttigieg’s Complete Lack Of Conviction',\n",
              " 'Cash-Strapped Men’s Wearhouse Now Offering Free Measurements Of Whatever The Hell You Want',\n",
              " 'Your Horoscopes — Week Of January 14, 2020',\n",
              " 'American Cancer Society Reports Largest-Ever Drop In Cancer Rates',\n",
              " 'Trump Warns Iran Not To Kill Any Protesters Who U.S. Already Has Dibs On',\n",
              " 'Report: Under One-Third Of Iowa, New Hampshire Voters Settled On Candidate',\n",
              " 'Pine Tree Lying On Curb Struggling To Understand Own Life Cycle',\n",
              " 'God Struggling To Feign Happiness After Jesus Announces He Marrying Exotic Dancer From Place Off I-95',\n",
              " 'Landlord Figures He Can Pass Off Uninhabitable Shithole As ‘Great For Students’',\n",
              " 'Relationship Experts Urge You Not To Cheat On Significant Other Even Though Sex Will Feel Amazing And They Never Have To Know',\n",
              " 'The Week In Pictures – Week Of January 13, 2020',\n",
              " 'Emergency Last Responders Loiter Around Scene Pretending To Aid Victims After Most Of The Work Already Done',\n",
              " 'Archaeologists Discover Cave With Earliest Known Built-In Shelves',\n",
              " 'Man Validated After Discovering Popular Kid From High School Ended Up Bottoming Out Almost As Much As He Did',\n",
              " 'Couple No Fun Anymore After Having Kids Die',\n",
              " 'Dentist Feels Blessed That He Still Gets Turned On By Teeth After All These Years',\n",
              " 'Dumb Tourists In Paris Gawking At Splendor Of Greatest Architectural Feats In Human History',\n",
              " 'Your Horoscopes — Week Of January 7, 2020',\n",
              " 'Zoo Visitors Impressed By Number Of Animals Willing To Eat Change',\n",
              " 'Truffle Oil Embarrassed To Be Working With Low-Class Ingredients On Loaded Fries',\n",
              " 'Cat Treat Package Going On About Delicious, Creamy Center Too Much Not To Be Marketing To Humans',\n",
              " 'Ravages Of Age Claim Formerly Perky Beer Gut',\n",
              " 'Demon Kicking Self For Inhabiting Child When He Could’ve Possessed Someone Who Could Buy A Gun',\n",
              " 'About ‘The Topical’',\n",
              " 'The 10 Greatest Games Of The Past Decade',\n",
              " 'Best Podcasts Of The Decade',\n",
              " 'Best Albums Of The Decade',\n",
              " 'Our Dumb Decade: Best Of 2018',\n",
              " 'Best TV Shows Of The Decade',\n",
              " 'Our Dumb Decade: Best Of 2017',\n",
              " 'Devastated Family Struggling To Get Through First Christmas Since Dad Returned',\n",
              " 'Best Movies Of The Decade',\n",
              " 'Our Dumb Decade: Best Of 2016',\n",
              " 'Our Dumb Decade: Best Of 2015',\n",
              " 'Our Dumb Decade: Best Of 2014',\n",
              " 'Tips For Displaying Artwork In Your Home',\n",
              " 'Prominent Evangelical Magazine Calls For Removing Trump From Holy Trinity',\n",
              " 'Americans Tune In Reduced-Field Democratic Debate',\n",
              " 'Caroler Who Forgot Lyrics Getting Pretty Far Just Saying ‘Bell’ Every Few Seconds',\n",
              " 'Antsy, Jonesing Nation Demands New Grinch Content',\n",
              " 'Worker’s Sole Impact On Company Permanent Ban On Alcohol At Holiday Party',\n",
              " 'Deal Alert: Got A Nintendo Switch And Amazon Prime? Well, Look At You, Mr. Moneybags',\n",
              " 'Our Dumb Decade: Best Of 2013',\n",
              " 'DNC Bows To Pressure By Adding Andrew Cuomo To Increase Ethnic Representation On Debate Stage',\n",
              " 'DNC Eases Debate Requirements To 0.1% Above Whatever Cory Booker Polling',\n",
              " 'Sad ‘Rise Of Skywalker’ Fan Can’t Believe There Never Going To Be Another ‘Star Wars’ Movie',\n",
              " 'Chinese Government Justifies Mass Surveillance By Explaining That All Of Life A Grand Performance',\n",
              " 'Fans Line Up For ‘Rise of the Skywalker’',\n",
              " 'Trump Claims He Knows John Dingell Is In Hell Because He Sees Window Into Terrifying Inferno Every Time He Closes His Eyes',\n",
              " 'CG Supervisor For ‘Cats’ Thought He Actually Did An Okay Job',\n",
              " 'Man Still Can’t Believe He’s Not A Virgin',\n",
              " 'Our Dumb Decade: Best Of 2012',\n",
              " 'Body-Positive Male Ally Worried Girlfriend Has Been Packing On The Beauty Lately',\n",
              " 'All The Substitute Teachers We Absolutely Wrecked In 2019',\n",
              " 'Middling ‘Rise Of Skywalker’ Review Leaves Fan On Fence About Whether To Threaten To Kill Critic',\n",
              " 'Dogs And Cats Who Were Certain You’d Be The One To Adopt Them In 2019',\n",
              " 'Our Most Blatant Attempts To Shoehorn An Anecdote About The Monterey Bay Aquarium Into An Unrelated Conversation In 2019',\n",
              " 'Our Annual Year: Best Of Entertainment',\n",
              " 'Our Annual Year: Best Of Onion Gamers Network',\n",
              " 'Our Annual Year: Best Of Sports',\n",
              " 'President Impeached',\n",
              " 'GOP Turns Dozens Of House Democrats Away From Impeachment For Failing To Provide Adequate Voter ID',\n",
              " 'Congressman Could’ve Sworn Last Impeachment Was Catered',\n",
              " 'Barack Obama: Women Are Better Leaders Than Men',\n",
              " 'Poll Finds 54% Of Americans Approve Executing Trump But Leaving Him In Office',\n",
              " 'Recycling: Myth Vs. Fact',\n",
              " 'Mormon Church Accused Of Hoarding Billions In Afterlife Tax Haven',\n",
              " 'Trump Calls Democrats ‘Deranged’ In 6-Page Letter To Pelosi',\n",
              " 'Insurance Company Annoyed Customer Doesn’t Realize They Were Just Being Polite When They Said They’d Cover Healthcare Bills',\n",
              " 'Miracle Dumbbell Found In Proper Place On Rack',\n",
              " 'Study Finds Comparing Yourself To Others Actually Pretty Good Way To Gauge Success',\n",
              " 'Our Dumb Decade: Best Of 2011',\n",
              " '‘United 93’ Director Announces Remastered Edition Digitally Removing WTC From Film',\n",
              " 'Chance The Rapper Cancels 2020 Tour',\n",
              " 'Area Man Has Little Present For You',\n",
              " 'Congress Reaches $1.4 Trillion Spending Deal To Award Entire Budget To One Lucky American',\n",
              " 'Congress To Ban Sales Of Tobacco To Anyone Under Age Of 21',\n",
              " 'Conciliatory Follow-Up Text Sent To Mom Just So ‘Don’t Open My Mail’ Aren’t Last Words Ever Said To Her',\n",
              " 'Our Dumb Decade: Best Of 2010',\n",
              " 'All Of Area Man’s Positive Qualities Stolen From Past Friends',\n",
              " 'Luddite In 2070 Refuses To Merge Consciousness With Self-Driving Hyundai Elantra',\n",
              " 'Writers Retreat Gives Aspiring Novelists Opportunity To Receive Critical Feedback From Other Nobodies',\n",
              " 'A Life Unfinished: Stephen Hawking’s Estate Just Revealed The Genius Astrophysicist Died With Only 91% Completion For ‘The Witcher 3’',\n",
              " 'Your Horoscopes — Week Of December 17, 2019',\n",
              " '2020 Frontrunners Back Call To Ease Debate Rules',\n",
              " 'Clint Eastwood Propositions Film Critic To Obtain More Positive Review Of ‘Richard Jewell’',\n",
              " 'Dalai Lama Announces Before Reincarnating His Spirit Will Probably Fly To Moon And Hang Out For A Bit',\n",
              " '‘And Then Those 12 People Send It To 12 People—That’s 144 People!” Says Cory Booker Describing Campaign Newsletter Strategy To Rosario Dawson',\n",
              " 'Harvey Weinstein Laments Being Treated Like He Didn’t Put Whole #MeToo Movement On The Map',\n",
              " 'U.N. Climate Talks End In Whimper',\n",
              " 'God To Leave Humanity In Hands Of Babysitter Kayla While He Checks Out New Restaurant',\n",
              " 'Everything You Need To Know About ‘Resident Evil 3’',\n",
              " 'Drew Brees Hoping Family Doesn’t Just Get Him Football For Christmas Again',\n",
              " 'Lucky Teen Lands Job In Fashion Industry',\n",
              " 'Pathetic Man Cries When He’s Upset Rather Than Screaming At 3-Year-Old Son To Shut The Fuck Up',\n",
              " 'The Week In Pictures – Week Of December 16, 2019',\n",
              " 'Senate Recognizes Armenian Genocide',\n",
              " 'The Onion Looks Back On 60 Years Of Taylor Swift',\n",
              " 'Cubs Sign Sammy Sosa To $300 Million Deal Just To Give Casual Fans Point Of Reference',\n",
              " 'Report: People Talk, You Know?',\n",
              " 'Boris Johnson Prevails In Landslide U.K. Victory',\n",
              " 'Woman Not As Fun-Loving And Carefree As Pom-Pom On Winter Hat Would Suggest',\n",
              " 'Patriots Claim Unsanctioned Recording Was Only For Project Julian Edelman Working On For Filmmaking Class',\n",
              " 'Hungover Coworker A Little Too Functional Morning After Holiday Party Not To Be Alcoholic',\n",
              " 'Israel Heads To Third Election',\n",
              " '‘Well Spoken, My Good Fellow, But Let Me Retort,’ Says Congressman Engaged In Probing, High-Minded Debate On Facts And Merits Of Impeachment',\n",
              " 'Gordon Hayward Confident He Still Has His Most Gruesome Injuries Ahead Of Him',\n",
              " 'Las Vegas Residents Worried That Proposed Construction Of New Casino In Town Will Bring In Riff-Raff',\n",
              " 'Poll: Trump Leads Top 2020 Democrats In Iowa',\n",
              " 'Fox News Condemns 2020 Election As Partisan Witch Hunt Orchestrated By Democrats To Unseat President',\n",
              " 'Hiker Trapped For Days Under Fallen Boulder Survives By Cutting Off Own Ponytail',\n",
              " 'Man Relaxing His Overwhelming Anxiety For Just A Moment Finally Gives Pack Of Coyotes The Opening They Need',\n",
              " '10 Best Places To Raise A Family',\n",
              " 'NYC Buildings To Require Bird-Friendly Glass',\n",
              " 'Graco Recalls 75,000 Infant Car Ejection Seats',\n",
              " 'Sad: The Elderly Dutch Man Who Inspired The ‘X’ Button On The PlayStation Controller Has Passed Away',\n",
              " 'Nation Finally Stands Far Enough Away From Jackson Pollock Painting To Realize It Realistic Still Life Of Fruit',\n",
              " 'Merriam-Webster Names ‘They’ Word Of The Year',\n",
              " 'Company’s Holiday Party Moves Up Timeline For Bankruptcy By 4 Months',\n",
              " 'Democrats Unveil Articles Of Impeachment',\n",
              " 'Pros And Cons Of Social Media Banning Political Ads',\n",
              " 'God Recounts Torrid Affair With Michelangelo That Began When Posing For Sistine Chapel Fresco',\n",
              " 'Town Hag Getting In Pretty Good Day Of Shaking Jangly Bell-Covered Stick While Pointing And Screaming ‘You Will Die!’',\n",
              " 'Gamers Behold: The One The Texts Predicted, Who Will Unite The Gamer Tribes And Crush Our Enemies Underfoot, Has Been Born',\n",
              " 'American Public Misled For Years About War In Afghanistan',\n",
              " 'IG Report Finds Errors But No Anti-Trump Plot In Russia Investigation',\n",
              " '8 Most Popular College Majors',\n",
              " 'National Association Of Corpses Express Outrage At Still-Living Actors Getting Cadaver Roles On ‘CSI,’ ‘Law & Order’',\n",
              " 'Your Horoscopes — Week Of December 10, 2019',\n",
              " 'Russian Olympic Program Denies Steroids Played Role In 8-Year-Old Gymnast Hurling Balance Beam Through Wall To Escape',\n",
              " 'Apologetic Justin Timberlake Presents Jessica Biel With Severed Hand Of Alisha Wainwright To Prove Loyalty',\n",
              " 'Massive Pro-Democracy Protest Rocks Hong Kong',\n",
              " 'So-Called Ronald Reagan Presidential Library Looks Nothing Like Him',\n",
              " 'Best PS4 Games Out Right Now',\n",
              " 'Antiques Shop Owner Only Thousands Of Sales Away From Avoiding Bankruptcy',\n",
              " 'Learned Coworker Always Has Heard Good Things About Whatever Piece Of Media Being Discussed',\n",
              " 'The Week In Pictures – Week Of December 9, 2019',\n",
              " 'House Passes Bill To Limit Robocalls',\n",
              " 'Pete Buttigieg Blames Inability To Disclose Political Stances On NDA With Buttigieg Campaign',\n",
              " 'Nearly 700,000 To Lose Food Stamps With USDA Work Requirement',\n",
              " 'World Wildlife Fund Apologizes After Years Of Working With Well-Known Whale Pedophile',\n",
              " '10 Mistakes New Parents Always Make',\n",
              " 'Cabal Of Handsome Male Celebrities Agrees To Continue Withholding Baldness Cure From Public And Jude Law',\n",
              " 'Pelosi Says House Will Proceed With Articles Of Impeachment',\n",
              " 'Sight Of His Beautiful Bride Walking Down Aisle Fills Man With Overwhelming Happyish Feeling',\n",
              " 'Man Doesn’t Want To Put Too Much Effort Into Fixing Up House He Just Going To Burn Down For Insurance Fraud One Day',\n",
              " 'Timeline Of Andrew Johnson’s Impeachment',\n",
              " 'Jimmy Carter Released From Hospital',\n",
              " 'Sonny Perdue Argues Food Stamp Cuts Will Incentivize People To Get Exploitative Jobs That Won’t Exist In 5 Years',\n",
              " 'Mother Confident That Adult Son’s Cycle Of Emotional Terrorism Will Calm Down Once He Finds The Right Girl',\n",
              " 'Boris Johnson Worried Anti-Semitism Accusations Against Labour Party Will Hurt Tories’ Hold On Bigot Vote',\n",
              " 'Kamala Harris Leaves 2020 Race',\n",
              " 'Jimmy Carter Devotes Rest Of Life To Raising Awareness Of Fact That Men Get UTIs Too',\n",
              " 'Parents Sign Up Mitch Trubisky For Rec Soccer Team In Hopes He’ll Develop Interest In Sports',\n",
              " 'Hopes Rise For HIV Vaccine By 2021',\n",
              " 'Woman Tries Reading Shampoo Bottle Directions In French First To Test If She’s Secretly Smart',\n",
              " 'Report: Would’ve Been Nice If Dad Had Loved Original Family This Much',\n",
              " 'Impeachment Report: Trump Solicited Foreign Interference',\n",
              " 'Mom Scolds Child For Pointing At Homeless Man Instead Of Ignoring His Very Existence',\n",
              " 'Jilted Trump Announces Formation Of Cooler, Way More Powerful NATO With His New Best Friends Oman, Macedonia, And Suriname',\n",
              " 'Hands-Off Fantasy Football Player Only Checks Team 132 Times Each Sunday',\n",
              " 'Loved Ones Located All The Way On Other Side Of Heaven',\n",
              " 'Pros And Cons Of Talking Politics At Work',\n",
              " 'One-Eyed Man Who Kamala Harris Locked Up 25 Years Ago Quietly Removes Tulsi Gabbard Mask',\n",
              " 'Kamala Harris Supporter Insists Her Inspiring Message Of Something Or Other Will Always Live On',\n",
              " 'British Royal Family Condemns Media’s Ugly Attacks On Their Traditional Practice Of Sexual Abuse',\n",
              " 'Michael Bloomberg Treats Self To Second, Flashier Presidential Campaign',\n",
              " 'Antonio Brown Proves He’s Changed Man By Breaking Into Robert Kraft’s House In Middle Of Night To Apologize',\n",
              " 'U.N. Chief Says Planet Faces Point Of No Return As Climate Summit Begins',\n",
              " 'Man’s Life Spent Occasionally Eating Barbecue In Between Doing Things He Hates',\n",
              " 'Washboard Player In Jug Band Tired Of Spoons Guy Getting All The Chicks',\n",
              " 'Remember ‘Command And Conquer’? No? Okay Then',\n",
              " 'Your Horoscopes — Week Of December 3, 2019',\n",
              " '‘Team Umizoomi Actually Kind Of Interesting,’ Reports Stay-At-Home Dad On Verge Of Full Psychotic Breakdown',\n",
              " 'Iranian Regime Attacks Activists Trying To Come Up With Protester Body Count For Being Complete Dorks Obsessed With Numbers',\n",
              " 'Horrifying Series Of Unspeakable Actions Result In $39 Crock-Pot Being Delivered To Man Same Day',\n",
              " 'Leonardo Dicaprio Refutes False Claim He Funded Amazon Wildfires',\n",
              " 'Nation Returns To Regular Workweek A Little More Kind, A Little More Thoughtful, A Little More Thankful',\n",
              " 'Nation Calls For Letting Biden Rub Women’s Shoulders Again After Seeing What He’ll Do Instead',\n",
              " 'Deal Alert: Guy With Nice Suit Probably Carrying Enough On Him Right Now To Buy ‘Death Stranding’ PS4 Pro Bundle If You Stick Him Up',\n",
              " 'Mom Changes Words Of Prayer To Be More Cheerful',\n",
              " 'Winter Storms Threaten Americans Traveling Back From Thanksgiving',\n",
              " 'All Of Woman’s Problems Stem From Never Having Visited Europe',\n",
              " 'Our Annual Year: Best Of November',\n",
              " 'Child Decides To Become Vegetarian After Forming Close Friendship With Roasted Turkey Leg',\n",
              " 'Thanksgiving Conversation Devolves Into Just Stating Things Dog Is Currently Doing',\n",
              " 'Ovechkin Shanks Slapshot Into Stands After Unruly Fan Coughs During Backswing',\n",
              " 'New Sip-And-Weld Studio Provides Opportunity To Drink Wine, Create Own Masterpiece With Blowtorch',\n",
              " 'Man Worried Partner Hasn’t Been Attracted To Him Ever Since He Got Head Stuck In Fence',\n",
              " '‘Just Be Honest If This Looks Good,’ Girlfriend Wearing New Big Bird Outfit Asks Panicking Boyfriend',\n",
              " 'Coal Production Shows Record Declines In 2019',\n",
              " 'Self-Loathing Slowly Morphing Into Pride As Man Consumes 36th Pig In A Blanket',\n",
              " 'Financial Experts Recommend Americans Set Aside Giant Mesmerizing Pearl To Rub Obsessively In Retirement',\n",
              " 'Timeline Of Online Advertising',\n",
              " \"Computer Not Looking Forward To Having To Replace Man's Repetitive, Mindless Job\",\n",
              " 'Supreme Court Denies ‘Serial’ Subject Hearing',\n",
              " 'Eddie Gallager Wakes Up In Cold Sweat After Nightmare About Watching Innocent Iraqi Women Minding Their Own Business',\n",
              " '‘Do You Mind If I Put You In My TikTok?’ Asks Younger Cousin About To Ruin Your Life',\n",
              " 'Ant Flees Across State Line Carrying Big Crumb',\n",
              " 'Pope Condemns Nuclear Weapons In Hiroshima',\n",
              " 'Nation’s Long-Haired Old Men In Flowy Linen Shirts Announce You Are Loved',\n",
              " 'Johnson & Johnson CEO Idly Wonders How Much Money He’d Make Off National Tylenol Epidemic',\n",
              " 'Your Horoscopes — Week Of November 26, 2019',\n",
              " 'Devin Nunes Involved In Push For Ukraine Biden Investigation',\n",
              " 'Facial Recognition Software Knows It Has Seen Man Before But Can’t Remember His Name',\n",
              " 'Celebrate ‘Attack On Titan’ With These Incredible Fan Drawings Of Eren Yeager That Have Nothing Whatsoever To Do With Video Games',\n",
              " 'Typical American Teen Struggles To Balance Demands Of School, Pansexual Orgies, And Drug Raves',\n",
              " 'Coldplay To Skip Tour Due To Environmental Concerns',\n",
              " 'Groundbreaking Chef Transforms Culinary World With Choice To Use Fresh, High-Quality Ingredients',\n",
              " 'Terrifying New Therapist Asks Why You Chose That Chair',\n",
              " 'Kyrie Irving Debuts Signature Shoe Inspired By RFID Chips Government Secretly Implants In Anesthetized Patients',\n",
              " 'Israeli Prime Minister Indicted',\n",
              " 'Child Wondering Why Older Brother Only One To Get Funeral',\n",
              " 'Yes, Gandhi’s ‘Civilization VI’ Outfit Is Sexy, But It Would Be Seriously Impractical On A Real Battlefield',\n",
              " 'Lawsuit Claims Burger King Impossible Burgers Contaminated With Meat',\n",
              " 'Man Checking If Chicken Wings Got Hot Enough In Microwave Like First Responder Searching For Pulse',\n",
              " 'Veterinarian Wishes Owner Would Just Let Dog Answer One Goddamn Question',\n",
              " 'The Worst Snowstorms In U.S. History',\n",
              " 'Plan B Unveils New Line Of Space-Time Wormholes To Prevent Intercourse From Ever Happening',\n",
              " 'Congress Approves $3 Billion In Military Aid For Netanyahu To Defend Self Against Israeli Justice System',\n",
              " 'Sondland Testifies He Pressured Ukraine Into Biden Investigation',\n",
              " 'Gabe Newell Reveals To ‘Half-Life’ Fans That They Are In Hell And He Is Their Devilish Master',\n",
              " 'Only Person Who Ever Truly Saw World For What It Is Starts Antidepressant Medication',\n",
              " 'Matthew Stafford Admits He’d Play Through Back Injury For Better Team Than Lions',\n",
              " 'DNC Server Celebrates Escape From U.S. Jurisdiction Surrounded By Bikini-Clad Women On Yacht In Black Sea',\n",
              " '‘Frozen 2’ Creators Confirm That Elsa Gay But Also Trans-Exclusionary Radical Feminist',\n",
              " 'Democrats Hold Fifth Presidential Debate',\n",
              " 'Two Charged In Epstein Death',\n",
              " 'Awesome Tie-In: Thousands Of Dock Workers Across America Have Been Driving Forklifts As An Apparent Shadow Promotion For ‘Shenmue 3’',\n",
              " '‘I Yield The Remainder Of My Time To You, The Viewer At Home,’ Says Adam Schiff During Impeachment Hearing Before Staring Into Camera For 3 Minutes',\n",
              " 'Robust UTI Culture The Closest Woman Going To Get To Bringing Life Into World',\n",
              " \"Bengals Assure Injury Prone Tua Tagovailoa He Can Have Any Of Andy Dalton's Organs\",\n",
              " 'Chick-Fil-A Ending Donations To Anti-LGBTQ Organizations',\n",
              " 'Health Department Gives Tyson Plant ‘D’ Grade After Discovering Raw Chicken Contaminating Nearly Every Surface',\n",
              " 'Biggest Revelations From The Anonymous Trump Official’s New Book',\n",
              " 'Ornithologists Awarded $10 Million Grant To Research Whether That Big Bird Up There A Hawk',\n",
              " 'Kanye West Debuting Opera',\n",
              " 'Literary Historians Discover Hemingway’s Dad Bulk Purchased 70,000 Copies Of ‘The Sun Also Rises’ To Get Son On Bestseller List',\n",
              " 'FBI Solving 80% More Cases After Getting Great Big Magnifying Glass',\n",
              " 'Bloomberg Apologizes For Stop And Frisk',\n",
              " '‘Reflationary Boom Incapable Of Helping U.S. Bond Market Recovery,’ Announces Finance Article That Actually About Your Entire Savings Being Wiped Out',\n",
              " 'Your Horoscopes — Week Of November 19, 2019',\n",
              " 'British Media Harshly Condemns Meghan Markle For Prince Andrew’s Defense Of Jeffrey Epstein',\n",
              " 'Pete Buttigieg Jumps To First Place In Iowa',\n",
              " 'Buttigieg Campaign Appeals To Moderate Republicans By Touting Low Approval Among Black Voters',\n",
              " 'Biologists Recommend Trees Put Aside A Little Phosphorus For Unexpected Emergencies',\n",
              " '‘I’m In Witness Protection—I Mean, Doctor, I Work At Doctor,’ Says New Neighbor',\n",
              " 'Safety Experts Recommend Shouting ‘Free Donuts’ Instead Of ‘Rape’ To Receive Help More Quickly',\n",
              " 'Chinese Users Employing PornHub To Criticize Hong Kong Protesters',\n",
              " 'Spider Panics After Losing Track Of Human It Noticed Scurry Across Floor',\n",
              " 'Guy Who Had Least To Do With Play’s Success Celebrating The Most',\n",
              " 'Fox Preempts Jets-Redskins Game In First Quarter For More Exciting Shot Of Empty ‘NFL Sunday’ Studio',\n",
              " 'Unclear Which Beach House Song This Is, Reports Lead Singer Of Beach House',\n",
              " 'Pelosi Suggests Trump Committed Bribery',\n",
              " 'NFL Rescinds Myles Garrett Suspension After Review Footage Clearly Shows Mason Rudolph’s Punchable Fucking Face',\n",
              " 'How Political Ads Are Made',\n",
              " 'Colin Kaepernick’s Agents Assure Teams His CTE Has Progressed Just As Much As Other Players Over 3-Year Hiatus',\n",
              " 'Yovanovitch Testifies That She Was Removed To Make Way For Corrupt Back Channel But Gets If No One Cares About Anything Anymore',\n",
              " 'Full Trump Transcript Includes 37 Pages Of Confused President Mashing Fingers Against Dial Pad While Ukrainian President Tries To Speak',\n",
              " '‘Jedi Fallen Order Is A Star Wars Game Through And Through,’ And 8 Other Lines Of Praise Electronic Arts Strongly Suggested We Use In Our Review',\n",
              " 'Flu Outbreak Reduces Class Sizes To Level Appropriate For Learning',\n",
              " 'Report: Some Company Called Scampr Already Lost $12.5 Billion At Launch And Has Gone Bankrupt',\n",
              " 'Tips For Playing ‘Pokémon Sword And Shield’',\n",
              " 'Six Flags Unsure If They Need To Apologize For Parkgoer Who Managed To Get Decapitated By Bumper Cars',\n",
              " 'More Americans Now Surviving Lung Cancer',\n",
              " 'Magnanimous MLB Awards MVP To Hardworking Stadium Concession Staffers',\n",
              " 'Area Man Loads Up On Half-Priced Armistice Day Candy',\n",
              " '‘Washington Post’ Impeachment Critic Gives Insipid Day One Inquiry 2 Out Of 5 Andrew Johnsons',\n",
              " 'Venice Facing Worst Flood Tide In Years',\n",
              " 'Deval Patrick Acquires High Favorability Numbers, Good Iowa Polling After Leveraged Buyout Of Buttigieg Campaign',\n",
              " 'Woman Knows Husband Just Acting Affectionate Because He Wants Food',\n",
              " 'Girlfriend Must Have Been Drinking When She Texted Picture Of Knitted Scarf At Midnight',\n",
              " 'Amazon Launching Own Grocery Store',\n",
              " '‘Pokémon’ Fans Are Up In Arms With Game Freak’s Refusal To Include A National Sex Offender Registry In ‘Sword and Shield’',\n",
              " 'Fan Wishes Team Was Sponsored By A Cooler Corporation',\n",
              " 'Brutal Arctic Blast Sweeping Across Country',\n",
              " 'Police Officer On Desk Duty Placed On Empty-Room Duty After Brutally Beating Drawer',\n",
              " 'Paraguay Panics After Discovering Rich Deposit Of Natural Resources',\n",
              " 'Precocious 5-Year-Old Already Holding Long, Pointless Business Meeting With Stuffed Animals',\n",
              " 'Public Phase Of Impeachment Hearings Begin',\n",
              " 'Crack Of Gunfire Resounding Through Office Gives Woman Perfect Cover She Needs To Bite Into Crisp Apple',\n",
              " 'Amazon Encourages Drivers To Deliver Packages Faster By Strapping Cinder Block To Truck’s Accelerator',\n",
              " 'Busboy Father Works Hard Every Day To Take Food Off The Table For His Family',\n",
              " 'Sacramento Pledges To Power Arena With 100% Windmill Dunk Energy By 2030',\n",
              " 'Features Of Disney Plus',\n",
              " 'Disney Plus Apologizes For Apparently Being All That Some Actual Adults Have',\n",
              " 'Sean Spicer Takes Job In Trump Administration To Help Public Forget Humiliating ‘Dancing With The Stars’ Tenure',\n",
              " 'Hong Kong Police Shoot And Injure Protester',\n",
              " 'College Freshman Annoyed About Having To Room With 47-Year-Old Adjunct Professor']"
            ]
          },
          "metadata": {
            "tags": []
          },
          "execution_count": 113
        }
      ]
    },
    {
      "cell_type": "code",
      "metadata": {
        "id": "FzEklSD7U9Ad",
        "colab_type": "code",
        "colab": {
          "base_uri": "https://localhost:8080/",
          "height": 34
        },
        "outputId": "aff92386-10c5-45be-f065-ac87e7e5ced7"
      },
      "source": [
        "data=list(dict.fromkeys(data))\n",
        "print(len(data))"
      ],
      "execution_count": 111,
      "outputs": [
        {
          "output_type": "stream",
          "text": [
            "800\n"
          ],
          "name": "stdout"
        }
      ]
    },
    {
      "cell_type": "code",
      "metadata": {
        "id": "Pdpg2alDdanq",
        "colab_type": "code",
        "colab": {
          "base_uri": "https://localhost:8080/",
          "height": 34
        },
        "outputId": "5ec15c57-6157-4fa5-ab92-5379682b41d6"
      },
      "source": [
        "print(len(set(data)))"
      ],
      "execution_count": 112,
      "outputs": [
        {
          "output_type": "stream",
          "text": [
            "800\n"
          ],
          "name": "stdout"
        }
      ]
    }
  ]
}