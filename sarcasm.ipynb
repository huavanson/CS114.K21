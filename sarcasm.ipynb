{
  "nbformat": 4,
  "nbformat_minor": 0,
  "metadata": {
    "colab": {
      "name": "sarcasm.ipynb",
      "provenance": [],
      "collapsed_sections": [],
      "machine_shape": "hm",
      "authorship_tag": "ABX9TyPaoFFkMVsioXNyNIo15Axq",
      "include_colab_link": true
    },
    "kernelspec": {
      "name": "python3",
      "display_name": "Python 3"
    }
  },
  "cells": [
    {
      "cell_type": "markdown",
      "metadata": {
        "id": "view-in-github",
        "colab_type": "text"
      },
      "source": [
        "<a href=\"https://colab.research.google.com/github/huavanson/CS114.K21/blob/master/sarcasm.ipynb\" target=\"_parent\"><img src=\"https://colab.research.google.com/assets/colab-badge.svg\" alt=\"Open In Colab\"/></a>"
      ]
    },
    {
      "cell_type": "markdown",
      "metadata": {
        "id": "rPWWH90CmpCL",
        "colab_type": "text"
      },
      "source": [
        "Mô tả bài toán : Phân biệt 1 tiêu đề có tính châm biếm hay không \n",
        "\n",
        "\n",
        "*   input : 1 title \n",
        "*   output : is sarcasm or not sarcasm \n",
        "\n",
        "\n",
        "\n",
        "\n",
        "\n",
        "\n"
      ]
    },
    {
      "cell_type": "markdown",
      "metadata": {
        "id": "nm34FEOzTeao",
        "colab_type": "text"
      },
      "source": [
        "Dataset : lấy từ kaggle (link dataset:https://www.kaggle.com/rmisra/news-headlines-dataset-for-sarcasm-detection)\n",
        "Mô tả dataset : có 3 columns\n",
        "\n",
        "*   headline : là tiêu đề của 1 bài viết \n",
        "*   is_sarcastic: 0 là not sarcasm , 1 là is sarcasm\n",
        "\n",
        "\n",
        "*   article_link: link bài viết \n",
        "\n",
        "\n",
        "\n"
      ]
    },
    {
      "cell_type": "markdown",
      "metadata": {
        "id": "6si2NeITUPMC",
        "colab_type": "text"
      },
      "source": [
        "Dataset lấy trên kaggle có 2 file nhưng em chỉ sử dụng 1 file "
      ]
    },
    {
      "cell_type": "code",
      "metadata": {
        "id": "ajkG60axRDdH",
        "colab_type": "code",
        "colab": {
          "resources": {
            "http://localhost:8080/nbextensions/google.colab/files.js": {
              "data": "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",
              "ok": true,
              "headers": [
                [
                  "content-type",
                  "application/javascript"
                ]
              ],
              "status": 200,
              "status_text": ""
            }
          },
          "base_uri": "https://localhost:8080/",
          "height": 89
        },
        "outputId": "d485ffec-a286-43b7-cebd-87da1c3c81ad"
      },
      "source": [
        "from google.colab import files\n",
        "files.upload()"
      ],
      "execution_count": 1,
      "outputs": [
        {
          "output_type": "display_data",
          "data": {
            "text/html": [
              "\n",
              "     <input type=\"file\" id=\"files-d722084c-1b1e-4b2a-8e74-04dec318df3d\" name=\"files[]\" multiple disabled\n",
              "        style=\"border:none\" />\n",
              "     <output id=\"result-d722084c-1b1e-4b2a-8e74-04dec318df3d\">\n",
              "      Upload widget is only available when the cell has been executed in the\n",
              "      current browser session. Please rerun this cell to enable.\n",
              "      </output>\n",
              "      <script src=\"/nbextensions/google.colab/files.js\"></script> "
            ],
            "text/plain": [
              "<IPython.core.display.HTML object>"
            ]
          },
          "metadata": {
            "tags": []
          }
        },
        {
          "output_type": "stream",
          "text": [
            "Saving kaggle.json to kaggle.json\n"
          ],
          "name": "stdout"
        },
        {
          "output_type": "execute_result",
          "data": {
            "text/plain": [
              "{'kaggle.json': b'{\"username\":\"sonhuavan\",\"key\":\"899cfa81c0f3f4051aee96eb7e74b10f\"}'}"
            ]
          },
          "metadata": {
            "tags": []
          },
          "execution_count": 1
        }
      ]
    },
    {
      "cell_type": "markdown",
      "metadata": {
        "id": "UoFcoaURvugD",
        "colab_type": "text"
      },
      "source": [
        "Sau khi up file kaggle.json lên thì tạo 1 thư mục có tên .kaggle đưa file vừa up vào "
      ]
    },
    {
      "cell_type": "code",
      "metadata": {
        "id": "3AHppe22Pxrd",
        "colab_type": "code",
        "colab": {
          "base_uri": "https://localhost:8080/",
          "height": 34
        },
        "outputId": "49fde79c-aae1-4e31-d56e-a86402bd58f1"
      },
      "source": [
        "!ls -lha kaggle.json\n",
        "!mkdir -p ~/.kaggle\n",
        "!cp kaggle.json ~/.kaggle/\n",
        "!chmod 600 ~/.kaggle/kaggle.json"
      ],
      "execution_count": 2,
      "outputs": [
        {
          "output_type": "stream",
          "text": [
            "-rw-r--r-- 1 root root 65 Jun 24 14:15 kaggle.json\n"
          ],
          "name": "stdout"
        }
      ]
    },
    {
      "cell_type": "markdown",
      "metadata": {
        "id": "TTVFqyRCwx1X",
        "colab_type": "text"
      },
      "source": [
        "Bước này Download dataset trên kaggle về \n"
      ]
    },
    {
      "cell_type": "code",
      "metadata": {
        "id": "Lh3VX9LGQOuP",
        "colab_type": "code",
        "colab": {
          "base_uri": "https://localhost:8080/",
          "height": 68
        },
        "outputId": "f6d34298-043a-4065-c336-dcbbd57c688d"
      },
      "source": [
        "!kaggle datasets download -d rmisra/news-headlines-dataset-for-sarcasm-detection"
      ],
      "execution_count": 3,
      "outputs": [
        {
          "output_type": "stream",
          "text": [
            "Downloading news-headlines-dataset-for-sarcasm-detection.zip to /content\n",
            "\r  0% 0.00/3.30M [00:00<?, ?B/s]\n",
            "\r100% 3.30M/3.30M [00:00<00:00, 54.6MB/s]\n"
          ],
          "name": "stdout"
        }
      ]
    },
    {
      "cell_type": "markdown",
      "metadata": {
        "id": "3V1KC94yw5Tu",
        "colab_type": "text"
      },
      "source": [
        "Check xem các thư viện cần thiết đã được install vào chưa \n"
      ]
    },
    {
      "cell_type": "code",
      "metadata": {
        "id": "xruuAzJ6FJ1M",
        "colab_type": "code",
        "colab": {
          "base_uri": "https://localhost:8080/",
          "height": 204
        },
        "outputId": "b09c21ac-e0ff-4b96-e2a8-85c1a41b6e1d"
      },
      "source": [
        "!pip install numpy\n",
        "!pip install pandas \n",
        "!pip install sklearn"
      ],
      "execution_count": null,
      "outputs": [
        {
          "output_type": "stream",
          "text": [
            "Requirement already satisfied: numpy in /usr/local/lib/python3.6/dist-packages (1.18.5)\n",
            "Requirement already satisfied: pandas in /usr/local/lib/python3.6/dist-packages (1.0.4)\n",
            "Requirement already satisfied: pytz>=2017.2 in /usr/local/lib/python3.6/dist-packages (from pandas) (2018.9)\n",
            "Requirement already satisfied: numpy>=1.13.3 in /usr/local/lib/python3.6/dist-packages (from pandas) (1.18.5)\n",
            "Requirement already satisfied: python-dateutil>=2.6.1 in /usr/local/lib/python3.6/dist-packages (from pandas) (2.8.1)\n",
            "Requirement already satisfied: six>=1.5 in /usr/local/lib/python3.6/dist-packages (from python-dateutil>=2.6.1->pandas) (1.12.0)\n",
            "Requirement already satisfied: sklearn in /usr/local/lib/python3.6/dist-packages (0.0)\n",
            "Requirement already satisfied: scikit-learn in /usr/local/lib/python3.6/dist-packages (from sklearn) (0.22.2.post1)\n",
            "Requirement already satisfied: numpy>=1.11.0 in /usr/local/lib/python3.6/dist-packages (from scikit-learn->sklearn) (1.18.5)\n",
            "Requirement already satisfied: scipy>=0.17.0 in /usr/local/lib/python3.6/dist-packages (from scikit-learn->sklearn) (1.4.1)\n",
            "Requirement already satisfied: joblib>=0.11 in /usr/local/lib/python3.6/dist-packages (from scikit-learn->sklearn) (0.15.1)\n"
          ],
          "name": "stdout"
        }
      ]
    },
    {
      "cell_type": "code",
      "metadata": {
        "id": "gPRhCDs7I9uR",
        "colab_type": "code",
        "colab": {}
      },
      "source": [
        "import json\n",
        "import pandas as pd, numpy as np, re, time\n",
        "from nltk.stem.porter import PorterStemmer\n",
        "from sklearn.model_selection import train_test_split\n",
        "from sklearn.metrics import confusion_matrix\n",
        "from sklearn.svm import LinearSVC\n",
        "from sklearn.model_selection import cross_val_score\n",
        "from sklearn.naive_bayes import GaussianNB\n",
        "from sklearn.linear_model import LogisticRegression\n",
        "from sklearn.ensemble import RandomForestClassifier"
      ],
      "execution_count": 4,
      "outputs": []
    },
    {
      "cell_type": "code",
      "metadata": {
        "id": "qI3lQy04JQiG",
        "colab_type": "code",
        "colab": {
          "base_uri": "https://localhost:8080/",
          "height": 68
        },
        "outputId": "ffa517a7-bc04-4ab0-ddf2-ceca98fe1967"
      },
      "source": [
        "!unzip news-headlines-dataset-for-sarcasm-detection.zip"
      ],
      "execution_count": 5,
      "outputs": [
        {
          "output_type": "stream",
          "text": [
            "Archive:  news-headlines-dataset-for-sarcasm-detection.zip\n",
            "  inflating: Sarcasm_Headlines_Dataset.json  \n",
            "  inflating: Sarcasm_Headlines_Dataset_v2.json  \n"
          ],
          "name": "stdout"
        }
      ]
    },
    {
      "cell_type": "markdown",
      "metadata": {
        "id": "ZZcyGZQKw_P2",
        "colab_type": "text"
      },
      "source": [
        "Đọc dataset bằng Pandas và check số lượng data "
      ]
    },
    {
      "cell_type": "code",
      "metadata": {
        "id": "dA2ACtF2JaaX",
        "colab_type": "code",
        "colab": {
          "base_uri": "https://localhost:8080/",
          "height": 204
        },
        "outputId": "179c179e-936a-4f2c-fefc-bb5a0cac5c1e"
      },
      "source": [
        "df=pd.read_json('Sarcasm_Headlines_Dataset.json',lines=True)\n",
        "# shape and head\n",
        "df.head()"
      ],
      "execution_count": 138,
      "outputs": [
        {
          "output_type": "execute_result",
          "data": {
            "text/html": [
              "<div>\n",
              "<style scoped>\n",
              "    .dataframe tbody tr th:only-of-type {\n",
              "        vertical-align: middle;\n",
              "    }\n",
              "\n",
              "    .dataframe tbody tr th {\n",
              "        vertical-align: top;\n",
              "    }\n",
              "\n",
              "    .dataframe thead th {\n",
              "        text-align: right;\n",
              "    }\n",
              "</style>\n",
              "<table border=\"1\" class=\"dataframe\">\n",
              "  <thead>\n",
              "    <tr style=\"text-align: right;\">\n",
              "      <th></th>\n",
              "      <th>article_link</th>\n",
              "      <th>headline</th>\n",
              "      <th>is_sarcastic</th>\n",
              "    </tr>\n",
              "  </thead>\n",
              "  <tbody>\n",
              "    <tr>\n",
              "      <th>0</th>\n",
              "      <td>https://www.huffingtonpost.com/entry/versace-b...</td>\n",
              "      <td>former versace store clerk sues over secret 'b...</td>\n",
              "      <td>0</td>\n",
              "    </tr>\n",
              "    <tr>\n",
              "      <th>1</th>\n",
              "      <td>https://www.huffingtonpost.com/entry/roseanne-...</td>\n",
              "      <td>the 'roseanne' revival catches up to our thorn...</td>\n",
              "      <td>0</td>\n",
              "    </tr>\n",
              "    <tr>\n",
              "      <th>2</th>\n",
              "      <td>https://local.theonion.com/mom-starting-to-fea...</td>\n",
              "      <td>mom starting to fear son's web series closest ...</td>\n",
              "      <td>1</td>\n",
              "    </tr>\n",
              "    <tr>\n",
              "      <th>3</th>\n",
              "      <td>https://politics.theonion.com/boehner-just-wan...</td>\n",
              "      <td>boehner just wants wife to listen, not come up...</td>\n",
              "      <td>1</td>\n",
              "    </tr>\n",
              "    <tr>\n",
              "      <th>4</th>\n",
              "      <td>https://www.huffingtonpost.com/entry/jk-rowlin...</td>\n",
              "      <td>j.k. rowling wishes snape happy birthday in th...</td>\n",
              "      <td>0</td>\n",
              "    </tr>\n",
              "  </tbody>\n",
              "</table>\n",
              "</div>"
            ],
            "text/plain": [
              "                                        article_link  ... is_sarcastic\n",
              "0  https://www.huffingtonpost.com/entry/versace-b...  ...            0\n",
              "1  https://www.huffingtonpost.com/entry/roseanne-...  ...            0\n",
              "2  https://local.theonion.com/mom-starting-to-fea...  ...            1\n",
              "3  https://politics.theonion.com/boehner-just-wan...  ...            1\n",
              "4  https://www.huffingtonpost.com/entry/jk-rowlin...  ...            0\n",
              "\n",
              "[5 rows x 3 columns]"
            ]
          },
          "metadata": {
            "tags": []
          },
          "execution_count": 138
        }
      ]
    },
    {
      "cell_type": "code",
      "metadata": {
        "id": "1byHWVsLm43R",
        "colab_type": "code",
        "colab": {
          "base_uri": "https://localhost:8080/",
          "height": 34
        },
        "outputId": "f2c54487-dc64-4e60-ca2e-60fb3ddfad3b"
      },
      "source": [
        "df.shape"
      ],
      "execution_count": 7,
      "outputs": [
        {
          "output_type": "execute_result",
          "data": {
            "text/plain": [
              "(26709, 3)"
            ]
          },
          "metadata": {
            "tags": []
          },
          "execution_count": 7
        }
      ]
    },
    {
      "cell_type": "markdown",
      "metadata": {
        "id": "mpwAiO3syYGW",
        "colab_type": "text"
      },
      "source": [
        "check xem data có bị missing value hay không"
      ]
    },
    {
      "cell_type": "code",
      "metadata": {
        "id": "IQURctt6yT4O",
        "colab_type": "code",
        "colab": {
          "base_uri": "https://localhost:8080/",
          "height": 85
        },
        "outputId": "7abe9b40-cafd-4d4a-f475-ff2837c7734a"
      },
      "source": [
        "print(df.isnull().any(axis = 0))"
      ],
      "execution_count": 8,
      "outputs": [
        {
          "output_type": "stream",
          "text": [
            "article_link    False\n",
            "headline        False\n",
            "is_sarcastic    False\n",
            "dtype: bool\n"
          ],
          "name": "stdout"
        }
      ]
    },
    {
      "cell_type": "markdown",
      "metadata": {
        "id": "SZJ_jIHnJTVN",
        "colab_type": "text"
      },
      "source": [
        "Column article_link không cần thiết để detect 1 headline có sarcasm hay không nên có thể được lượt bỏ \n"
      ]
    },
    {
      "cell_type": "code",
      "metadata": {
        "id": "5sjWXOJbJRnO",
        "colab_type": "code",
        "colab": {}
      },
      "source": [
        "df = df.drop(['article_link'], axis=1)"
      ],
      "execution_count": 139,
      "outputs": []
    },
    {
      "cell_type": "markdown",
      "metadata": {
        "id": "PYpf-LTVylLS",
        "colab_type": "text"
      },
      "source": [
        "Dữ liệu không bị missing value nhưng cột tiêu đề nên được loại bỏ các kí tự không cần thiết vì vậy em sử dụng Regular Expression ( Biểu thức chính quy) để loại bỏ các kí tự đặc biệt đó ví dụ dấu nháy dấu chấm v.v"
      ]
    },
    {
      "cell_type": "code",
      "metadata": {
        "id": "SEJbg_g4vbQX",
        "colab_type": "code",
        "colab": {}
      },
      "source": [
        "df['headline'] = df['headline'].apply(lambda s : re.sub('[^a-zA-Z]', ' ', s))\n"
      ],
      "execution_count": 140,
      "outputs": []
    },
    {
      "cell_type": "code",
      "metadata": {
        "id": "PXX5bvcoFNuu",
        "colab_type": "code",
        "colab": {
          "base_uri": "https://localhost:8080/",
          "height": 204
        },
        "outputId": "ae0ed2a6-c6f9-45bd-c576-22da3fdd3980"
      },
      "source": [
        "df.head(5)"
      ],
      "execution_count": 11,
      "outputs": [
        {
          "output_type": "execute_result",
          "data": {
            "text/html": [
              "<div>\n",
              "<style scoped>\n",
              "    .dataframe tbody tr th:only-of-type {\n",
              "        vertical-align: middle;\n",
              "    }\n",
              "\n",
              "    .dataframe tbody tr th {\n",
              "        vertical-align: top;\n",
              "    }\n",
              "\n",
              "    .dataframe thead th {\n",
              "        text-align: right;\n",
              "    }\n",
              "</style>\n",
              "<table border=\"1\" class=\"dataframe\">\n",
              "  <thead>\n",
              "    <tr style=\"text-align: right;\">\n",
              "      <th></th>\n",
              "      <th>headline</th>\n",
              "      <th>is_sarcastic</th>\n",
              "    </tr>\n",
              "  </thead>\n",
              "  <tbody>\n",
              "    <tr>\n",
              "      <th>0</th>\n",
              "      <td>former versace store clerk sues over secret  b...</td>\n",
              "      <td>0</td>\n",
              "    </tr>\n",
              "    <tr>\n",
              "      <th>1</th>\n",
              "      <td>the  roseanne  revival catches up to our thorn...</td>\n",
              "      <td>0</td>\n",
              "    </tr>\n",
              "    <tr>\n",
              "      <th>2</th>\n",
              "      <td>mom starting to fear son s web series closest ...</td>\n",
              "      <td>1</td>\n",
              "    </tr>\n",
              "    <tr>\n",
              "      <th>3</th>\n",
              "      <td>boehner just wants wife to listen  not come up...</td>\n",
              "      <td>1</td>\n",
              "    </tr>\n",
              "    <tr>\n",
              "      <th>4</th>\n",
              "      <td>j k  rowling wishes snape happy birthday in th...</td>\n",
              "      <td>0</td>\n",
              "    </tr>\n",
              "  </tbody>\n",
              "</table>\n",
              "</div>"
            ],
            "text/plain": [
              "                                            headline  is_sarcastic\n",
              "0  former versace store clerk sues over secret  b...             0\n",
              "1  the  roseanne  revival catches up to our thorn...             0\n",
              "2  mom starting to fear son s web series closest ...             1\n",
              "3  boehner just wants wife to listen  not come up...             1\n",
              "4  j k  rowling wishes snape happy birthday in th...             0"
            ]
          },
          "metadata": {
            "tags": []
          },
          "execution_count": 11
        }
      ]
    },
    {
      "cell_type": "code",
      "metadata": {
        "id": "PukrSIiOJjUl",
        "colab_type": "code",
        "colab": {}
      },
      "source": [
        "features = df['headline']\n",
        "labels = df['is_sarcastic']\n",
        "features_compare=features\n"
      ],
      "execution_count": 141,
      "outputs": []
    },
    {
      "cell_type": "markdown",
      "metadata": {
        "id": "juEjMROeGK1h",
        "colab_type": "text"
      },
      "source": [
        "Xử dụng PorterStemmer để cắt giảm 1 từ thành từ gốc của nó \n",
        "Ví dụ : \"reading\" or \"reader\"\n",
        "Sau khi stemming sẽ trở thành \"read\" ( cho cả 2 từ trên)"
      ]
    },
    {
      "cell_type": "code",
      "metadata": {
        "id": "AI6XBQQ2Jvbc",
        "colab_type": "code",
        "colab": {}
      },
      "source": [
        "ps = PorterStemmer()\n",
        "features = features.apply(lambda x: x.split())\n",
        "features = features.apply(lambda x : ' '.join([ps.stem(word) for word in x]))"
      ],
      "execution_count": 142,
      "outputs": []
    },
    {
      "cell_type": "markdown",
      "metadata": {
        "id": "k2ME7S8rHVD4",
        "colab_type": "text"
      },
      "source": [
        "So sánh chuỗi trước và sau khi stemming "
      ]
    },
    {
      "cell_type": "code",
      "metadata": {
        "id": "GcAzD7bSnJsH",
        "colab_type": "code",
        "colab": {
          "base_uri": "https://localhost:8080/",
          "height": 51
        },
        "outputId": "ed2bb19f-0b68-4e7b-c803-0ba4fa2869d8"
      },
      "source": [
        "print(features_compare[0])\n",
        "print(features[0])"
      ],
      "execution_count": 14,
      "outputs": [
        {
          "output_type": "stream",
          "text": [
            "former versace store clerk sues over secret  black code  for minority shoppers\n",
            "former versac store clerk sue over secret black code for minor shopper\n"
          ],
          "name": "stdout"
        }
      ]
    },
    {
      "cell_type": "markdown",
      "metadata": {
        "id": "XWof2mFpHaE6",
        "colab_type": "text"
      },
      "source": [
        "tf-idf ( term frequency–inverse document frequency) hay còn gọi là tần số xuất hiện- tần số nghịch đảo của 1 từ trong 1 văn bản . Kỹ thuật này sử dụng để đếm số lần xuất hiện của 1 từ trong 1 văn bản nhiều hoặc ít để tìm ra những từ quan trọng trong 1 văn bản "
      ]
    },
    {
      "cell_type": "markdown",
      "metadata": {
        "id": "DshaDCcnbSpY",
        "colab_type": "text"
      },
      "source": [
        "Link tham khảo tf-idf :https://en.wikipedia.org/wiki/Tf%E2%80%93idf"
      ]
    },
    {
      "cell_type": "markdown",
      "metadata": {
        "id": "oRNcHXqcRinS",
        "colab_type": "text"
      },
      "source": [
        "TfidfVectorizer dùng để chuyển đổi bộ dữ liệu sang 1 ma trận có các thông số tf-idf dưới đây là link thư viện scikitlearn\n"
      ]
    },
    {
      "cell_type": "markdown",
      "metadata": {
        "id": "MvIm5CM8TUCg",
        "colab_type": "text"
      },
      "source": [
        "https://scikit-learn.org/stable/modules/generated/sklearn.feature_extraction.text.TfidfVectorizer.html"
      ]
    },
    {
      "cell_type": "markdown",
      "metadata": {
        "id": "GRu2vGUaFUKe",
        "colab_type": "text"
      },
      "source": [
        "TfidfVectorizer train cho model học để tìm ra số lượng từ khác nhau trong bộ dataset . ví dụ sau khi đặt max_features=5000\n",
        "*   bộ dataset gồm 1 dòng headline có 2 từ : Civil Whites thì sau khi được học sẽ trả về 1 ma trận (1,2)  \n",
        "*  bộ dataset gồm 20000 dòng headline : thì sau khi học được sẽ trả về ma trận (20000,5000) \n",
        "\n"
      ]
    },
    {
      "cell_type": "markdown",
      "metadata": {
        "id": "-BUOuu2iHFN5",
        "colab_type": "text"
      },
      "source": [
        "Vậy max_features có nghĩa là quy định số lượng từ khác nhau tối đa mà model có thể học để tìm ra trong 1 bộ dataset "
      ]
    },
    {
      "cell_type": "code",
      "metadata": {
        "id": "vW7x5wzksY61",
        "colab_type": "code",
        "colab": {}
      },
      "source": [
        "from sklearn.feature_extraction.text import TfidfVectorizer\n",
        "tv = TfidfVectorizer(max_features = 5000)\n",
        "features = list(features)\n",
        "features = tv.fit_transform(features).toarray()"
      ],
      "execution_count": 143,
      "outputs": []
    },
    {
      "cell_type": "markdown",
      "metadata": {
        "id": "oFGoHuVqIu0P",
        "colab_type": "text"
      },
      "source": [
        "features sau khi được chuyển sang ma trận \n"
      ]
    },
    {
      "cell_type": "code",
      "metadata": {
        "id": "dnW7PntkIP6D",
        "colab_type": "code",
        "colab": {
          "base_uri": "https://localhost:8080/",
          "height": 136
        },
        "outputId": "bccac949-8067-4e5c-cff7-03d4798a698d"
      },
      "source": [
        "features"
      ],
      "execution_count": 16,
      "outputs": [
        {
          "output_type": "execute_result",
          "data": {
            "text/plain": [
              "array([[0., 0., 0., ..., 0., 0., 0.],\n",
              "       [0., 0., 0., ..., 0., 0., 0.],\n",
              "       [0., 0., 0., ..., 0., 0., 0.],\n",
              "       ...,\n",
              "       [0., 0., 0., ..., 0., 0., 0.],\n",
              "       [0., 0., 0., ..., 0., 0., 0.],\n",
              "       [0., 0., 0., ..., 0., 0., 0.]])"
            ]
          },
          "metadata": {
            "tags": []
          },
          "execution_count": 16
        }
      ]
    },
    {
      "cell_type": "code",
      "metadata": {
        "id": "_ol4euD2H5tP",
        "colab_type": "code",
        "colab": {
          "base_uri": "https://localhost:8080/",
          "height": 34
        },
        "outputId": "33b850da-a1c7-4377-9519-2068c075458d"
      },
      "source": [
        "print(features.shape)"
      ],
      "execution_count": 17,
      "outputs": [
        {
          "output_type": "stream",
          "text": [
            "(26709, 5000)\n"
          ],
          "name": "stdout"
        }
      ]
    },
    {
      "cell_type": "markdown",
      "metadata": {
        "id": "aEr5u64rR-Nb",
        "colab_type": "text"
      },
      "source": [
        "Vì dữ liệu khá nhiều nên em sẽ chia theo tỷ lệ 90-10"
      ]
    },
    {
      "cell_type": "code",
      "metadata": {
        "id": "PjTagjJGtQHl",
        "colab_type": "code",
        "colab": {}
      },
      "source": [
        "features_train, features_test, labels_train, labels_test = train_test_split(features, labels, test_size = 0.1, random_state = 0)"
      ],
      "execution_count": 18,
      "outputs": []
    },
    {
      "cell_type": "markdown",
      "metadata": {
        "id": "BFxT-vUfSNKT",
        "colab_type": "text"
      },
      "source": [
        "Dùng thử 4 model để train\n",
        "\n",
        "\n",
        "---\n",
        "\n",
        "\n",
        "\n",
        "---\n",
        "\n"
      ]
    },
    {
      "cell_type": "code",
      "metadata": {
        "id": "DkBOUyMrtX__",
        "colab_type": "code",
        "colab": {
          "base_uri": "https://localhost:8080/",
          "height": 221
        },
        "outputId": "c5627ffc-6a23-4386-bf87-8f0ace6dbd86"
      },
      "source": [
        "from sklearn.metrics import accuracy_score\n",
        "# model 1:-\n",
        "# linear support vector classifier\n",
        "lsvc = LinearSVC()\n",
        "# training model\n",
        "lsvc.fit(features_train, labels_train)\n",
        "# accuracy tập train và tập test\n",
        "print('lsvc')\n",
        "print(lsvc.score(features_train, labels_train))\n",
        "print(lsvc.score(features_test, labels_test))   \n",
        "\n",
        "\n",
        "# model 2:-\n",
        "#  Gaussuan Naive Bayes\n",
        "gnb = GaussianNB()\n",
        "gnb.fit(features_train, labels_train)\n",
        "print('gnb')\n",
        "print(gnb.score(features_train, labels_train))\n",
        "print(gnb.score(features_test, labels_test))  \n",
        "\n",
        "# model 3:-\n",
        "# Logistic Regression\n",
        "lr = LogisticRegression()\n",
        "lr.fit(features_train, labels_train)\n",
        "print('lr')\n",
        "print(lr.score(features_train, labels_train)) \n",
        "print(lr.score(features_test, labels_test))     \n",
        "\n",
        "# model 4:\n",
        "# Random Forest Classifier\n",
        "rfc = RandomForestClassifier(n_estimators = 10, random_state = 0)\n",
        "rfc.fit(features_train, labels_train)\n",
        "print('rfc')\n",
        "print(rfc.score(features_train, labels_train))\n",
        "print(rfc.score(features_test, labels_test))    \n",
        "\n"
      ],
      "execution_count": 178,
      "outputs": [
        {
          "output_type": "stream",
          "text": [
            "lsvc\n",
            "0.9110574923038522\n",
            "0.8360164732309996\n",
            "gnb\n",
            "0.7826358266078709\n",
            "0.7162111568700861\n",
            "lr\n",
            "0.8824777435726766\n",
            "0.8375140396855111\n",
            "rfc\n",
            "0.9895998003161661\n",
            "0.7963309621864471\n"
          ],
          "name": "stdout"
        }
      ]
    },
    {
      "cell_type": "markdown",
      "metadata": {
        "id": "B7Z4tx7SShC0",
        "colab_type": "text"
      },
      "source": [
        "Crawl Data trên trang https://www.theonion.com/latest để lấy những head line sarcasm"
      ]
    },
    {
      "cell_type": "markdown",
      "metadata": {
        "id": "tNbhSuoZT1h_",
        "colab_type": "text"
      },
      "source": [
        "Install 1 số thư viện cần thiết"
      ]
    },
    {
      "cell_type": "code",
      "metadata": {
        "id": "g1gsoEln0dFi",
        "colab_type": "code",
        "colab": {
          "base_uri": "https://localhost:8080/",
          "height": 139
        },
        "outputId": "0192cc58-ee99-42f4-d120-052889acbacc"
      },
      "source": [
        "!pip install beautifulsoup4\n",
        "! pip install requests"
      ],
      "execution_count": null,
      "outputs": [
        {
          "output_type": "stream",
          "text": [
            "Requirement already satisfied: beautifulsoup4 in /usr/local/lib/python3.6/dist-packages (4.6.3)\n",
            "Requirement already satisfied: requests in /usr/local/lib/python3.6/dist-packages (2.23.0)\n",
            "Requirement already satisfied: idna<3,>=2.5 in /usr/local/lib/python3.6/dist-packages (from requests) (2.9)\n",
            "Requirement already satisfied: urllib3!=1.25.0,!=1.25.1,<1.26,>=1.21.1 in /usr/local/lib/python3.6/dist-packages (from requests) (1.24.3)\n",
            "Requirement already satisfied: chardet<4,>=3.0.2 in /usr/local/lib/python3.6/dist-packages (from requests) (3.0.4)\n",
            "Requirement already satisfied: certifi>=2017.4.17 in /usr/local/lib/python3.6/dist-packages (from requests) (2020.4.5.2)\n"
          ],
          "name": "stdout"
        }
      ]
    },
    {
      "cell_type": "markdown",
      "metadata": {
        "id": "1M66VT6SURK2",
        "colab_type": "text"
      },
      "source": [
        "Hàm Crawl data sử dụng beautifulSoup "
      ]
    },
    {
      "cell_type": "markdown",
      "metadata": {
        "id": "ktNjrSHHKh83",
        "colab_type": "text"
      },
      "source": [
        "BeautifulSoup(BS) là 1 package của python dùng để cạo thông tin từ 1 trang web . BS cho phép phân tích nội dung HTML của 1 URL nhất định và truy cập các phần tử của nó bằng cách xác định các thẻ và các thuộc tính . "
      ]
    },
    {
      "cell_type": "markdown",
      "metadata": {
        "id": "OxVkl4VxQQfm",
        "colab_type": "text"
      },
      "source": [
        "Link tham khảo cách cào dữ liệu trên 1 trang web :https://towardsdatascience.com/web-scraping-news-articles-in-python-9dd605799558"
      ]
    },
    {
      "cell_type": "code",
      "metadata": {
        "id": "uhIVvnr3T7g3",
        "colab_type": "code",
        "colab": {}
      },
      "source": [
        "import requests\n",
        "from bs4 import BeautifulSoup\n",
        "def crawl(url, data):\n",
        "  r1 = requests.get(url)\n",
        "  coverpage = r1.content\n",
        "  soup1 = BeautifulSoup(coverpage, 'html5lib')\n",
        "  coverpage_news = soup1.find_all(\"h2\", class_=\"sc-759qgu-0 cYlVdn cw4lnv-6 eXwNRE\")\n",
        "  for i in coverpage_news:\n",
        "     data.append(i.get_text())"
      ],
      "execution_count": 49,
      "outputs": []
    },
    {
      "cell_type": "markdown",
      "metadata": {
        "id": "g0JjOJ0lLN_7",
        "colab_type": "text"
      },
      "source": [
        "để cung cấp BeautifulSoup mã HTML của bất kỳ trang nào,  sẽ cần import 1 cái module requests"
      ]
    },
    {
      "cell_type": "markdown",
      "metadata": {
        "id": "ny6FqYVILmQ0",
        "colab_type": "text"
      },
      "source": [
        "Vì em cần cạo khoảng 1000 headline nhưng mỗi trang trên trang web :\"https://www.theonion.com/latest\" chỉ hiển thị khoảng 20 headline, trang kế tiếp có URL khác , để chuyển sang trang tiếp theo em trích xuất vào chổ chuyển trang cụ thể là nút(more stories trong trang web) tìm ra đuôi href gắn vào link đầu tiên để truy cập vào trang kế cào tiếp 20 headline, như vậy dữ liệu cào xuống sẽ không trùng nhau \n",
        "\n",
        "\n"
      ]
    },
    {
      "cell_type": "code",
      "metadata": {
        "id": "lbAi3jzSUC1Y",
        "colab_type": "code",
        "colab": {}
      },
      "source": [
        "url = \"https://www.theonion.com/latest\"\n",
        "more_stories = ''\n",
        "data= []\n",
        "while len(data)<1000:\n",
        "  crawl(url, data)\n",
        "  r1 = requests.get(url)\n",
        "  coverpage = r1.content\n",
        "  soup1 = BeautifulSoup(coverpage, 'html5lib')\n",
        "  more_stories = soup1.find_all(\"a\", class_=\"sc-1out364-0 hMndXN js_link\")\n",
        "  more_stories_next_link = more_stories[-1].get('href')\n",
        "  url=\"https://www.theonion.com/latest\"+more_stories_next_link\n",
        "  print(url)"
      ],
      "execution_count": null,
      "outputs": []
    },
    {
      "cell_type": "markdown",
      "metadata": {
        "id": "irm5AP9sOPLf",
        "colab_type": "text"
      },
      "source": [
        "Độ dài data sau khi cào"
      ]
    },
    {
      "cell_type": "code",
      "metadata": {
        "id": "FzEklSD7U9Ad",
        "colab_type": "code",
        "colab": {
          "base_uri": "https://localhost:8080/",
          "height": 34
        },
        "outputId": "5793fd5b-f6d0-42a5-cadd-30b33abe5e81"
      },
      "source": [
        "data=list(dict.fromkeys(data))\n",
        "print(len(data))"
      ],
      "execution_count": 57,
      "outputs": [
        {
          "output_type": "stream",
          "text": [
            "1000\n"
          ],
          "name": "stdout"
        }
      ]
    },
    {
      "cell_type": "markdown",
      "metadata": {
        "id": "zITz8F7o-w1T",
        "colab_type": "text"
      },
      "source": [
        "Hàm crawl được sửa lại 1 chút để cào ở trang web khác . \"https://www.avclub.com/latest là trang web chuyên tin chính thống (em không cào được trên trang huffpost vì gọi request nó không trả lại gì hết ạ )"
      ]
    },
    {
      "cell_type": "code",
      "metadata": {
        "id": "WOPCLS-a692w",
        "colab_type": "code",
        "colab": {}
      },
      "source": [
        "def crawl1(url, data1):\n",
        "  r1 = requests.get(url)\n",
        "  coverpage = r1.content\n",
        "  soup1 = BeautifulSoup(coverpage, 'html5lib')\n",
        "  coverpage_news = soup1.find_all(\"h2\", class_='sc-759qgu-0 sc-759qgu-1 kYoTly sc-3kpz0l-8 PRCbV')\n",
        "  for i in coverpage_news:\n",
        "    data1.append(i.get_text())"
      ],
      "execution_count": 149,
      "outputs": []
    },
    {
      "cell_type": "markdown",
      "metadata": {
        "id": "Lxr1c8OP_QNN",
        "colab_type": "text"
      },
      "source": [
        "Cách cào tương tự với trang web ở trên "
      ]
    },
    {
      "cell_type": "code",
      "metadata": {
        "id": "EYapsjD56_cN",
        "colab_type": "code",
        "colab": {}
      },
      "source": [
        "url = \"https://www.avclub.com/latest\"\n",
        "data1= []\n",
        "stories=''\n",
        "while len(data1)<1000:\n",
        "  crawl1(url+stories, data1)\n",
        "  r1 = requests.get(url+stories)\n",
        "  coverpage = r1.content\n",
        "  soup1 = BeautifulSoup(coverpage, 'html5lib')\n",
        "  t = soup1.find_all(\"a\", class_=\"sc-1out364-0 hMndXN js_link\" )\n",
        "  stories=t[-1].get('href')"
      ],
      "execution_count": 151,
      "outputs": []
    },
    {
      "cell_type": "markdown",
      "metadata": {
        "id": "sI7sZM_X-iJm",
        "colab_type": "text"
      },
      "source": [
        "Độ dài sau khi cào ở web \"https://www.avclub.com/latest "
      ]
    },
    {
      "cell_type": "code",
      "metadata": {
        "id": "xO7wEmTl8AMB",
        "colab_type": "code",
        "colab": {
          "base_uri": "https://localhost:8080/",
          "height": 34
        },
        "outputId": "a9e6b3a9-8d0f-4b0e-a069-9b32c6f29bf5"
      },
      "source": [
        "data1=list(dict.fromkeys(data1))\n",
        "len(data1)"
      ],
      "execution_count": 167,
      "outputs": [
        {
          "output_type": "execute_result",
          "data": {
            "text/plain": [
              "1008"
            ]
          },
          "metadata": {
            "tags": []
          },
          "execution_count": 167
        }
      ]
    },
    {
      "cell_type": "markdown",
      "metadata": {
        "id": "eq8I_LWGP52M",
        "colab_type": "text"
      },
      "source": [
        "Gán label cho từng cái headline "
      ]
    },
    {
      "cell_type": "code",
      "metadata": {
        "id": "3MFy-U5rOZ0t",
        "colab_type": "code",
        "colab": {}
      },
      "source": [
        "headline = data[:1000] + data1[:1000] \n",
        "is_sarcastic=[]\n",
        "for i in range(0,1000):\n",
        "  is_sarcastic.append(1)  \n",
        "for i in range(0,1000):\n",
        "  is_sarcastic.append(0)  \n"
      ],
      "execution_count": 158,
      "outputs": []
    },
    {
      "cell_type": "markdown",
      "metadata": {
        "id": "u2-uOWx1_y5r",
        "colab_type": "text"
      },
      "source": [
        "Biểu diễn data dưới dạng bảng "
      ]
    },
    {
      "cell_type": "code",
      "metadata": {
        "id": "OGgSir1I8vuU",
        "colab_type": "code",
        "colab": {
          "base_uri": "https://localhost:8080/",
          "height": 419
        },
        "outputId": "3c7a9242-4d7c-424a-e3ab-dffeae2c241b"
      },
      "source": [
        "data_test = pd.DataFrame({\n",
        "    'headline': headline,\n",
        "    'is_sarcasm': is_sarcastic\n",
        "})\n",
        "data_test"
      ],
      "execution_count": 159,
      "outputs": [
        {
          "output_type": "execute_result",
          "data": {
            "text/html": [
              "<div>\n",
              "<style scoped>\n",
              "    .dataframe tbody tr th:only-of-type {\n",
              "        vertical-align: middle;\n",
              "    }\n",
              "\n",
              "    .dataframe tbody tr th {\n",
              "        vertical-align: top;\n",
              "    }\n",
              "\n",
              "    .dataframe thead th {\n",
              "        text-align: right;\n",
              "    }\n",
              "</style>\n",
              "<table border=\"1\" class=\"dataframe\">\n",
              "  <thead>\n",
              "    <tr style=\"text-align: right;\">\n",
              "      <th></th>\n",
              "      <th>headline</th>\n",
              "      <th>is_sarcasm</th>\n",
              "    </tr>\n",
              "  </thead>\n",
              "  <tbody>\n",
              "    <tr>\n",
              "      <th>0</th>\n",
              "      <td>IBM Condemns Use Of Facial Recognition Softwar...</td>\n",
              "      <td>1</td>\n",
              "    </tr>\n",
              "    <tr>\n",
              "      <th>1</th>\n",
              "      <td>Cat Sticks Paw Around Corner Like Life Some Bi...</td>\n",
              "      <td>1</td>\n",
              "    </tr>\n",
              "    <tr>\n",
              "      <th>2</th>\n",
              "      <td>Milky Way Could Harbor 6 Billion Earth-Like Pl...</td>\n",
              "      <td>1</td>\n",
              "    </tr>\n",
              "    <tr>\n",
              "      <th>3</th>\n",
              "      <td>Realtor Thinks Flourishing Neighborhood Full O...</td>\n",
              "      <td>1</td>\n",
              "    </tr>\n",
              "    <tr>\n",
              "      <th>4</th>\n",
              "      <td>Civil Whites</td>\n",
              "      <td>1</td>\n",
              "    </tr>\n",
              "    <tr>\n",
              "      <th>...</th>\n",
              "      <td>...</td>\n",
              "      <td>...</td>\n",
              "    </tr>\n",
              "    <tr>\n",
              "      <th>1995</th>\n",
              "      <td>Ishtar, the ultimate Hollywood punchline, is a...</td>\n",
              "      <td>0</td>\n",
              "    </tr>\n",
              "    <tr>\n",
              "      <th>1996</th>\n",
              "      <td>The CW to kill some time in quarantine by airi...</td>\n",
              "      <td>0</td>\n",
              "    </tr>\n",
              "    <tr>\n",
              "      <th>1997</th>\n",
              "      <td>Author Caitlin Moran picks her top 5 coming-of...</td>\n",
              "      <td>0</td>\n",
              "    </tr>\n",
              "    <tr>\n",
              "      <th>1998</th>\n",
              "      <td>Watch Rivers Cuomo cover Nirvana’s “Heart Shap...</td>\n",
              "      <td>0</td>\n",
              "    </tr>\n",
              "    <tr>\n",
              "      <th>1999</th>\n",
              "      <td>Heading into the finale, Survivor all-star Rob...</td>\n",
              "      <td>0</td>\n",
              "    </tr>\n",
              "  </tbody>\n",
              "</table>\n",
              "<p>2000 rows × 2 columns</p>\n",
              "</div>"
            ],
            "text/plain": [
              "                                               headline  is_sarcasm\n",
              "0     IBM Condemns Use Of Facial Recognition Softwar...           1\n",
              "1     Cat Sticks Paw Around Corner Like Life Some Bi...           1\n",
              "2     Milky Way Could Harbor 6 Billion Earth-Like Pl...           1\n",
              "3     Realtor Thinks Flourishing Neighborhood Full O...           1\n",
              "4                                          Civil Whites           1\n",
              "...                                                 ...         ...\n",
              "1995  Ishtar, the ultimate Hollywood punchline, is a...           0\n",
              "1996  The CW to kill some time in quarantine by airi...           0\n",
              "1997  Author Caitlin Moran picks her top 5 coming-of...           0\n",
              "1998  Watch Rivers Cuomo cover Nirvana’s “Heart Shap...           0\n",
              "1999  Heading into the finale, Survivor all-star Rob...           0\n",
              "\n",
              "[2000 rows x 2 columns]"
            ]
          },
          "metadata": {
            "tags": []
          },
          "execution_count": 159
        }
      ]
    },
    {
      "cell_type": "markdown",
      "metadata": {
        "id": "aW6mRhus_13Y",
        "colab_type": "text"
      },
      "source": [
        "Sử dụng hàm shuffle để đảo lộn vị trí data "
      ]
    },
    {
      "cell_type": "code",
      "metadata": {
        "id": "SdkocjfU9I_b",
        "colab_type": "code",
        "colab": {
          "base_uri": "https://localhost:8080/",
          "height": 419
        },
        "outputId": "dddb011a-1b80-4065-ef95-c65fdc52d278"
      },
      "source": [
        "from sklearn.utils import shuffle\n",
        "df = shuffle(data_test)\n",
        "df"
      ],
      "execution_count": 160,
      "outputs": [
        {
          "output_type": "execute_result",
          "data": {
            "text/html": [
              "<div>\n",
              "<style scoped>\n",
              "    .dataframe tbody tr th:only-of-type {\n",
              "        vertical-align: middle;\n",
              "    }\n",
              "\n",
              "    .dataframe tbody tr th {\n",
              "        vertical-align: top;\n",
              "    }\n",
              "\n",
              "    .dataframe thead th {\n",
              "        text-align: right;\n",
              "    }\n",
              "</style>\n",
              "<table border=\"1\" class=\"dataframe\">\n",
              "  <thead>\n",
              "    <tr style=\"text-align: right;\">\n",
              "      <th></th>\n",
              "      <th>headline</th>\n",
              "      <th>is_sarcasm</th>\n",
              "    </tr>\n",
              "  </thead>\n",
              "  <tbody>\n",
              "    <tr>\n",
              "      <th>969</th>\n",
              "      <td>Timberwolves Fire Clerk On Accounts Receivable...</td>\n",
              "      <td>1</td>\n",
              "    </tr>\n",
              "    <tr>\n",
              "      <th>1349</th>\n",
              "      <td>You Don’t Nomi spotlights the cult of Showgirl...</td>\n",
              "      <td>0</td>\n",
              "    </tr>\n",
              "    <tr>\n",
              "      <th>1429</th>\n",
              "      <td>Enjoy some on-point parodies of Tom Cotton's t...</td>\n",
              "      <td>0</td>\n",
              "    </tr>\n",
              "    <tr>\n",
              "      <th>2</th>\n",
              "      <td>Milky Way Could Harbor 6 Billion Earth-Like Pl...</td>\n",
              "      <td>1</td>\n",
              "    </tr>\n",
              "    <tr>\n",
              "      <th>1967</th>\n",
              "      <td>Despite its sunny hero, Stargirl goes to some ...</td>\n",
              "      <td>0</td>\n",
              "    </tr>\n",
              "    <tr>\n",
              "      <th>...</th>\n",
              "      <td>...</td>\n",
              "      <td>...</td>\n",
              "    </tr>\n",
              "    <tr>\n",
              "      <th>1100</th>\n",
              "      <td>Love Is Blind showrunner Sam Dean and HBO Max ...</td>\n",
              "      <td>0</td>\n",
              "    </tr>\n",
              "    <tr>\n",
              "      <th>1527</th>\n",
              "      <td>K-pop fans do their part, defeat Dallas police...</td>\n",
              "      <td>0</td>\n",
              "    </tr>\n",
              "    <tr>\n",
              "      <th>958</th>\n",
              "      <td>Obama Kind Of Hurt No One’s Even Asked For His...</td>\n",
              "      <td>1</td>\n",
              "    </tr>\n",
              "    <tr>\n",
              "      <th>1427</th>\n",
              "      <td>Ari Aster says his next movie, a \"zonky nightm...</td>\n",
              "      <td>0</td>\n",
              "    </tr>\n",
              "    <tr>\n",
              "      <th>300</th>\n",
              "      <td>Desperate Sports Fan Would Almost Be Willing T...</td>\n",
              "      <td>1</td>\n",
              "    </tr>\n",
              "  </tbody>\n",
              "</table>\n",
              "<p>2000 rows × 2 columns</p>\n",
              "</div>"
            ],
            "text/plain": [
              "                                               headline  is_sarcasm\n",
              "969   Timberwolves Fire Clerk On Accounts Receivable...           1\n",
              "1349  You Don’t Nomi spotlights the cult of Showgirl...           0\n",
              "1429  Enjoy some on-point parodies of Tom Cotton's t...           0\n",
              "2     Milky Way Could Harbor 6 Billion Earth-Like Pl...           1\n",
              "1967  Despite its sunny hero, Stargirl goes to some ...           0\n",
              "...                                                 ...         ...\n",
              "1100  Love Is Blind showrunner Sam Dean and HBO Max ...           0\n",
              "1527  K-pop fans do their part, defeat Dallas police...           0\n",
              "958   Obama Kind Of Hurt No One’s Even Asked For His...           1\n",
              "1427  Ari Aster says his next movie, a \"zonky nightm...           0\n",
              "300   Desperate Sports Fan Would Almost Be Willing T...           1\n",
              "\n",
              "[2000 rows x 2 columns]"
            ]
          },
          "metadata": {
            "tags": []
          },
          "execution_count": 160
        }
      ]
    },
    {
      "cell_type": "markdown",
      "metadata": {
        "id": "H5jogudT_7Gn",
        "colab_type": "text"
      },
      "source": [
        "Xử lí data trước khi predict "
      ]
    },
    {
      "cell_type": "code",
      "metadata": {
        "id": "X_mlXxkgvRtY",
        "colab_type": "code",
        "colab": {}
      },
      "source": [
        "df['headline'] = df['headline'].apply(lambda s : re.sub('[^a-zA-Z]', ' ', s))\n",
        "x_valid = df['headline']\n",
        "y_valid = df['is_sarcasm']\n",
        "ps = PorterStemmer()\n",
        "x_valid = x_valid.apply(lambda x: x.split())\n",
        "x_valid = x_valid.apply(lambda x : ' '.join([ps.stem(word) for word in x]))\n",
        "x_valid = list(x_valid)\n",
        "x_valid = tv.transform(x_valid).toarray()"
      ],
      "execution_count": 161,
      "outputs": []
    },
    {
      "cell_type": "markdown",
      "metadata": {
        "id": "DfA0mhzGA_UY",
        "colab_type": "text"
      },
      "source": [
        "Tính độ accuracy với 4 model được train ở trên "
      ]
    },
    {
      "cell_type": "code",
      "metadata": {
        "id": "jvAQMOTd9goW",
        "colab_type": "code",
        "colab": {
          "base_uri": "https://localhost:8080/",
          "height": 85
        },
        "outputId": "e838bee9-4177-429c-c790-0c9417e07bae"
      },
      "source": [
        "from sklearn.metrics import accuracy_score\n",
        "pred1=lsvc.predict(x_valid)\n",
        "pred2=gnb.predict(x_valid)\n",
        "pred3=lr.predict(x_valid)\n",
        "pred4=rfc.predict(x_valid)\n",
        "acc1=accuracy_score(pred1,y_valid)\n",
        "acc2=accuracy_score(pred2,y_valid)\n",
        "acc3=accuracy_score(pred3,y_valid)\n",
        "acc4=accuracy_score(pred4,y_valid)\n",
        "print('lsvc :',acc1)\n",
        "print('gnb :',acc2)\n",
        "print('lr :',acc3)\n",
        "print('rfc :',acc4)"
      ],
      "execution_count": 170,
      "outputs": [
        {
          "output_type": "stream",
          "text": [
            "lsvc : 0.692\n",
            "gnb : 0.6275\n",
            "lr : 0.691\n",
            "rfc : 0.6785\n"
          ],
          "name": "stdout"
        }
      ]
    },
    {
      "cell_type": "markdown",
      "metadata": {
        "id": "3RBYGVXRI9kU",
        "colab_type": "text"
      },
      "source": [
        "Performance của model trên dataset đã cho tốt hơn so với 2000 headline mới dựa vào độ accuracy_score của từng model lsvc,gnb,lr,rfc(0.836-0.692,0.716-0.6275,0.837-0.691,0.796-0.6785)"
      ]
    },
    {
      "cell_type": "markdown",
      "metadata": {
        "id": "goxnge6rCu0x",
        "colab_type": "text"
      },
      "source": [
        "Thử predict 1 headline mới hoàn toàn (thực ra là em lấy dòng thứ 4 của data em crawl được từ trang :\"https://www.theonion.com/latest\""
      ]
    },
    {
      "cell_type": "markdown",
      "metadata": {
        "id": "mN9XxMVLIXCH",
        "colab_type": "text"
      },
      "source": [
        "Em đưa cái headline này trở thành 1 dataset có 1 dòng sau đó áp dụng 3 kỹ thuật xử lí ở trên(re,stemming,tfidf) và đưa vào 1 model train sẵn predict thử "
      ]
    },
    {
      "cell_type": "code",
      "metadata": {
        "id": "4pc5F5axBNR1",
        "colab_type": "code",
        "colab": {}
      },
      "source": [
        "new_input=['Civil White']\n",
        "data_input = pd.DataFrame({\n",
        "    'headline': new_input,\n",
        "})\n",
        "\n",
        "data_input['headline'] =data_input['headline'] .apply(lambda s : re.sub('[^a-zA-Z]', ' ', s))\n",
        "ps = PorterStemmer()\n",
        "data_input['headline'] = data_input['headline'].apply(lambda x: x.split())\n",
        "data_input['headline']= data_input['headline'].apply(lambda x : ' '.join([ps.stem(word) for word in x]))\n",
        "arr_input = tv.transform(data_input['headline']).toarray()"
      ],
      "execution_count": 175,
      "outputs": []
    },
    {
      "cell_type": "markdown",
      "metadata": {
        "id": "TmhdJshIDDfx",
        "colab_type": "text"
      },
      "source": [
        "Kết quả trả về là 1 có nghĩa là headline này là sarcasm"
      ]
    },
    {
      "cell_type": "code",
      "metadata": {
        "id": "T6yqHFvsCoqg",
        "colab_type": "code",
        "colab": {
          "base_uri": "https://localhost:8080/",
          "height": 34
        },
        "outputId": "74041194-3b1c-4ece-8c38-bc9ca06a3209"
      },
      "source": [
        "lsvc.predict(arr_input)"
      ],
      "execution_count": 176,
      "outputs": [
        {
          "output_type": "execute_result",
          "data": {
            "text/plain": [
              "array([1])"
            ]
          },
          "metadata": {
            "tags": []
          },
          "execution_count": 176
        }
      ]
    },
    {
      "cell_type": "markdown",
      "metadata": {
        "id": "hOnwRuzIEDTI",
        "colab_type": "text"
      },
      "source": [
        "Nhận xét về bài toán : Bài toán này để có được độ accuracy cao đầu tiên phải có nhiều data từ đó model có thể học được nhiều từ quan trọng trong các headline sarcasm ,thứ 2 là phải chọn các kỹ thuật xử lí data phù hợp và cuối cùng là ngoài nhiều ra thì data còn phải đa dạng từ ngữ về nhiều lĩnh vực ..."
      ]
    }
  ]
}