{
  "nbformat": 4,
  "nbformat_minor": 0,
  "metadata": {
    "colab": {
      "name": "Untitled27.ipynb",
      "provenance": [],
      "collapsed_sections": [],
      "authorship_tag": "ABX9TyP7Qd8mMvNJd2gECwp1GO4Q",
      "include_colab_link": true
    },
    "kernelspec": {
      "name": "python3",
      "display_name": "Python 3"
    },
    "accelerator": "GPU"
  },
  "cells": [
    {
      "cell_type": "markdown",
      "metadata": {
        "id": "view-in-github",
        "colab_type": "text"
      },
      "source": [
        "<a href=\"https://colab.research.google.com/github/huavanson/CS114.K21/blob/master/Untitled27.ipynb\" target=\"_parent\"><img src=\"https://colab.research.google.com/assets/colab-badge.svg\" alt=\"Open In Colab\"/></a>"
      ]
    },
    {
      "cell_type": "code",
      "metadata": {
        "id": "ZRGyY54h9gLb",
        "outputId": "da76f7be-87d9-4b9b-9ded-0e97884436a3",
        "colab": {
          "base_uri": "https://localhost:8080/",
          "height": 604
        }
      },
      "source": [
        "import numpy as np\n",
        "import cv2\n",
        "\n",
        "path = '/content/WIN_20200804_15_06_14_Pro.jpg'\n",
        "img = cv2.imread(path, 0)\n",
        "img = cv2.resize(img, (200,200))\n",
        "new_img = np.zeros ((img.shape[0]+2, img.shape[1]+2))\n",
        "for i in range (1,new_img.shape[0]-1):\n",
        "  for j in range (1, new_img.shape[0]-1):\n",
        "    new_img[i][j] = img[i-1][j-1]\n",
        "\n",
        "print(\"image shape:\", new_img)\n",
        "\n",
        "def cross_corelation(small_img,kernel):\n",
        "  c=0\n",
        "  for i in range(3):\n",
        "    for j in range(3):\n",
        "      c+=small_img[i][j]*kernel[i][j]\n",
        "  return c \n",
        "kernel = np.array([[1,0,0],[1,0,0],[1,0,0]])   \n",
        "result= np.zeros((img.shape[0],img.shape[1]))   \n",
        "\n",
        "print(result.shape)\n",
        "\n",
        "for i in range(0,new_img.shape[0]-2):\n",
        "  for j in range(0,new_img.shape[1]-2):\n",
        "    \n",
        "    small_img= new_img[i:i+3,j:j+3]\n",
        "    \n",
        "    kq=int(cross_corelation(small_img, kernel))\n",
        "    \n",
        "    result[i][j]=kq\n",
        "print(\"result\",result)   \n",
        "print(\"image\", img) \n",
        "#\n",
        "# cv2.imshow(\"concac\",img)\n",
        "cv2_imshow(result)\n"
      ],
      "execution_count": null,
      "outputs": [
        {
          "output_type": "stream",
          "text": [
            "image shape: [[  0.   0.   0. ...   0.   0.   0.]\n",
            " [  0. 151. 149. ... 113. 113.   0.]\n",
            " [  0. 152. 149. ... 115. 112.   0.]\n",
            " ...\n",
            " [  0.  33.  36. ... 108. 109.   0.]\n",
            " [  0.  34.  33. ... 113. 111.   0.]\n",
            " [  0.   0.   0. ...   0.   0.   0.]]\n",
            "(200, 200)\n",
            "result [[  0. 303. 298. ... 228. 226. 228.]\n",
            " [  0. 456. 447. ... 346. 342. 340.]\n",
            " [  0. 455. 445. ... 350. 343. 341.]\n",
            " ...\n",
            " [  0.  97. 105. ... 371. 353. 325.]\n",
            " [  0. 100. 105. ... 369. 357. 329.]\n",
            " [  0.  67.  69. ... 245. 238. 221.]]\n",
            "image [[151 149 148 ... 112 113 113]\n",
            " [152 149 143 ... 114 115 112]\n",
            " [153 149 145 ... 116 112 114]\n",
            " ...\n",
            " [ 33  36  32 ... 119 108 110]\n",
            " [ 33  36  32 ... 117 108 109]\n",
            " [ 34  33  31 ... 121 113 111]]\n"
          ],
          "name": "stdout"
        },
        {
          "output_type": "display_data",
          "data": {
            "image/png": "[encoded data removed]",
            "text/plain": [
              "<PIL.Image.Image image mode=L size=200x200 at 0x7F25590CAF98>"
            ]
          },
          "metadata": {
            "tags": []
          }
        }
      ]
    },
    {
      "cell_type": "code",
      "metadata": {
        "id": "6FLCf6Ox-SHe",
        "outputId": "443bb1eb-5b1c-4234-d308-038afeffe4f8",
        "colab": {
          "base_uri": "https://localhost:8080/",
          "height": 287
        }
      },
      "source": [
        "import numpy as np\n",
        "import cv2\n",
        "\n",
        "path = '/content/WIN_20200804_15_06_14_Pro.jpg'\n",
        "img = cv2.imread(path, 0)\n",
        "img = cv2.resize(img, (200,200))\n",
        "\n",
        "\n",
        "\n",
        "print(\"image shape:\", img.shape)\n",
        "\n",
        "def convolutional(small_img,kernel):\n",
        "  c=0\n",
        "  for i in range(3):\n",
        "    for j in range(3):\n",
        "      c+=small_img[i][j]*kernel[2-i][2-j]\n",
        "  return c \n",
        "kernel = np.array([[1,0,0],[1,0,0],[1,0,0]])   \n",
        "result= np.zeros((img.shape[0],img.shape[1]))   \n",
        "\n",
        "print(result.shape)\n",
        "\n",
        "for i in range(0,img.shape[0]-2):\n",
        "  for j in range(0,img.shape[1]-2):\n",
        "    \n",
        "    small_img= img[i:i+3,j:j+3]\n",
        "    \n",
        "    kq=int(covolutional(small_img, kernel))\n",
        "    \n",
        "    result[i][j]=kq\n",
        "print(\"result\",result.shape)   \n",
        "print(\"image\", img.shape) \n",
        "#\n",
        "# cv2.imshow(\"concac\",img)\n",
        "cv2_imshow(result)\n"
      ],
      "execution_count": null,
      "outputs": [
        {
          "output_type": "stream",
          "text": [
            "image shape: (200, 200)\n",
            "(200, 200)\n",
            "result (200, 200)\n",
            "image (200, 200)\n"
          ],
          "name": "stdout"
        },
        {
          "output_type": "display_data",
          "data": {
            "image/png": "[encoded data removed]",
            "text/plain": [
              "<PIL.Image.Image image mode=L size=200x200 at 0x7F25628AF7B8>"
            ]
          },
          "metadata": {
            "tags": []
          }
        }
      ]
    }
  ]
}