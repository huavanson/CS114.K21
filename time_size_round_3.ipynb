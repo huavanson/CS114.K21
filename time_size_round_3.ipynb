{
  "nbformat": 4,
  "nbformat_minor": 0,
  "metadata": {
    "colab": {
      "name": "time_size_round_3.ipynb",
      "provenance": [],
      "collapsed_sections": [],
      "authorship_tag": "ABX9TyOHF6PqBZFi8RtbYKcyCW0z",
      "include_colab_link": true
    },
    "kernelspec": {
      "name": "python3",
      "display_name": "Python 3"
    }
  },
  "cells": [
    {
      "cell_type": "markdown",
      "metadata": {
        "id": "view-in-github",
        "colab_type": "text"
      },
      "source": [
        "<a href=\"https://colab.research.google.com/github/huavanson/CS114.K21/blob/master/time_size_round_3.ipynb\" target=\"_parent\"><img src=\"https://colab.research.google.com/assets/colab-badge.svg\" alt=\"Open In Colab\"/></a>"
      ]
    },
    {
      "cell_type": "code",
      "metadata": {
        "id": "RSHLf07yb5Vm",
        "colab_type": "code",
        "colab": {}
      },
      "source": [
        "import pandas as pd\n",
        "import numpy as np\n",
        "import math"
      ],
      "execution_count": 0,
      "outputs": []
    },
    {
      "cell_type": "markdown",
      "metadata": {
        "id": "qkcXF1ketUqj",
        "colab_type": "text"
      },
      "source": [
        "Lấy dữ liệu xuống bằng URL\n"
      ]
    },
    {
      "cell_type": "code",
      "metadata": {
        "id": "JPXaqWTTcEUX",
        "colab_type": "code",
        "outputId": "0c253333-6b43-4fc8-8d26-d25bc9b534d4",
        "colab": {
          "base_uri": "https://localhost:8080/",
          "height": 204
        }
      },
      "source": [
        "data=pd.read_csv('http://cs.uit.edu.vn/data3.txt',names=['size','time'])\n",
        "data.head()"
      ],
      "execution_count": 59,
      "outputs": [
        {
          "output_type": "execute_result",
          "data": {
            "text/html": [
              "<div>\n",
              "<style scoped>\n",
              "    .dataframe tbody tr th:only-of-type {\n",
              "        vertical-align: middle;\n",
              "    }\n",
              "\n",
              "    .dataframe tbody tr th {\n",
              "        vertical-align: top;\n",
              "    }\n",
              "\n",
              "    .dataframe thead th {\n",
              "        text-align: right;\n",
              "    }\n",
              "</style>\n",
              "<table border=\"1\" class=\"dataframe\">\n",
              "  <thead>\n",
              "    <tr style=\"text-align: right;\">\n",
              "      <th></th>\n",
              "      <th>size</th>\n",
              "      <th>time</th>\n",
              "    </tr>\n",
              "  </thead>\n",
              "  <tbody>\n",
              "    <tr>\n",
              "      <th>0</th>\n",
              "      <td>37837612</td>\n",
              "      <td>4.12166</td>\n",
              "    </tr>\n",
              "    <tr>\n",
              "      <th>1</th>\n",
              "      <td>37395246</td>\n",
              "      <td>3.92089</td>\n",
              "    </tr>\n",
              "    <tr>\n",
              "      <th>2</th>\n",
              "      <td>36610827</td>\n",
              "      <td>3.21540</td>\n",
              "    </tr>\n",
              "    <tr>\n",
              "      <th>3</th>\n",
              "      <td>29555651</td>\n",
              "      <td>2.54506</td>\n",
              "    </tr>\n",
              "    <tr>\n",
              "      <th>4</th>\n",
              "      <td>25928216</td>\n",
              "      <td>2.21831</td>\n",
              "    </tr>\n",
              "  </tbody>\n",
              "</table>\n",
              "</div>"
            ],
            "text/plain": [
              "       size     time\n",
              "0  37837612  4.12166\n",
              "1  37395246  3.92089\n",
              "2  36610827  3.21540\n",
              "3  29555651  2.54506\n",
              "4  25928216  2.21831"
            ]
          },
          "metadata": {
            "tags": []
          },
          "execution_count": 59
        }
      ]
    },
    {
      "cell_type": "code",
      "metadata": {
        "id": "v8JbDhw2SPwD",
        "colab_type": "code",
        "outputId": "56fba1c3-64ce-4326-b70c-796da9c6040d",
        "colab": {
          "base_uri": "https://localhost:8080/",
          "height": 34
        }
      },
      "source": [
        "print(data.shape)"
      ],
      "execution_count": 60,
      "outputs": [
        {
          "output_type": "stream",
          "text": [
            "(10590, 2)\n"
          ],
          "name": "stdout"
        }
      ]
    },
    {
      "cell_type": "markdown",
      "metadata": {
        "id": "Xyq2jhFctd6y",
        "colab_type": "text"
      },
      "source": [
        "Thêm 2 cột size^2 và size*log(size) để tránh overfit và tăng khả năng dự đoán "
      ]
    },
    {
      "cell_type": "code",
      "metadata": {
        "id": "PV3vojBRcaeL",
        "colab_type": "code",
        "outputId": "416a3689-b677-40fa-81c5-e082efa7c9c1",
        "colab": {
          "base_uri": "https://localhost:8080/",
          "height": 204
        }
      },
      "source": [
        "data['size^2']=data['size']*data['size']\n",
        "data['size*log(size)']=data['size']*np.log10(data['size'])\n",
        "new_columns=['size','size^2','size*log(size)','time']\n",
        "data=data.reindex(columns=new_columns)\n",
        "data.head()\n"
      ],
      "execution_count": 61,
      "outputs": [
        {
          "output_type": "execute_result",
          "data": {
            "text/html": [
              "<div>\n",
              "<style scoped>\n",
              "    .dataframe tbody tr th:only-of-type {\n",
              "        vertical-align: middle;\n",
              "    }\n",
              "\n",
              "    .dataframe tbody tr th {\n",
              "        vertical-align: top;\n",
              "    }\n",
              "\n",
              "    .dataframe thead th {\n",
              "        text-align: right;\n",
              "    }\n",
              "</style>\n",
              "<table border=\"1\" class=\"dataframe\">\n",
              "  <thead>\n",
              "    <tr style=\"text-align: right;\">\n",
              "      <th></th>\n",
              "      <th>size</th>\n",
              "      <th>size^2</th>\n",
              "      <th>size*log(size)</th>\n",
              "      <th>time</th>\n",
              "    </tr>\n",
              "  </thead>\n",
              "  <tbody>\n",
              "    <tr>\n",
              "      <th>0</th>\n",
              "      <td>37837612</td>\n",
              "      <td>1431684881862544</td>\n",
              "      <td>2.867305e+08</td>\n",
              "      <td>4.12166</td>\n",
              "    </tr>\n",
              "    <tr>\n",
              "      <th>1</th>\n",
              "      <td>37395246</td>\n",
              "      <td>1398404423400516</td>\n",
              "      <td>2.831873e+08</td>\n",
              "      <td>3.92089</td>\n",
              "    </tr>\n",
              "    <tr>\n",
              "      <th>2</th>\n",
              "      <td>36610827</td>\n",
              "      <td>1340352653623929</td>\n",
              "      <td>2.769100e+08</td>\n",
              "      <td>3.21540</td>\n",
              "    </tr>\n",
              "    <tr>\n",
              "      <th>3</th>\n",
              "      <td>29555651</td>\n",
              "      <td>873536506033801</td>\n",
              "      <td>2.207996e+08</td>\n",
              "      <td>2.54506</td>\n",
              "    </tr>\n",
              "    <tr>\n",
              "      <th>4</th>\n",
              "      <td>25928216</td>\n",
              "      <td>672272384942656</td>\n",
              "      <td>1.922259e+08</td>\n",
              "      <td>2.21831</td>\n",
              "    </tr>\n",
              "  </tbody>\n",
              "</table>\n",
              "</div>"
            ],
            "text/plain": [
              "       size            size^2  size*log(size)     time\n",
              "0  37837612  1431684881862544    2.867305e+08  4.12166\n",
              "1  37395246  1398404423400516    2.831873e+08  3.92089\n",
              "2  36610827  1340352653623929    2.769100e+08  3.21540\n",
              "3  29555651   873536506033801    2.207996e+08  2.54506\n",
              "4  25928216   672272384942656    1.922259e+08  2.21831"
            ]
          },
          "metadata": {
            "tags": []
          },
          "execution_count": 61
        }
      ]
    },
    {
      "cell_type": "markdown",
      "metadata": {
        "id": "RBuJGzKatwCR",
        "colab_type": "text"
      },
      "source": [
        "Biểu diễn dữ liệu "
      ]
    },
    {
      "cell_type": "code",
      "metadata": {
        "id": "C9wTPQaVoP1q",
        "colab_type": "code",
        "outputId": "e1b73858-20aa-4105-cc71-926e2a0c178b",
        "colab": {
          "base_uri": "https://localhost:8080/",
          "height": 311
        }
      },
      "source": [
        "from pandas.plotting import scatter_matrix\n",
        "from matplotlib import pyplot\n",
        "print(data.shape)\n",
        "data.hist()\n",
        "pyplot.show()"
      ],
      "execution_count": 62,
      "outputs": [
        {
          "output_type": "stream",
          "text": [
            "(10590, 4)\n"
          ],
          "name": "stdout"
        },
        {
          "output_type": "display_data",
          "data": {
            "image/png": "[encoded data removed]",
            "text/plain": [
              "<Figure size 432x288 with 4 Axes>"
            ]
          },
          "metadata": {
            "tags": [],
            "needs_background": "light"
          }
        }
      ]
    },
    {
      "cell_type": "code",
      "metadata": {
        "id": "eJS8PtsrTDMi",
        "colab_type": "code",
        "outputId": "71805ea2-1cd0-4383-f638-e9c3c33c25a5",
        "colab": {
          "base_uri": "https://localhost:8080/",
          "height": 284
        }
      },
      "source": [
        "scatter_matrix(data)\n",
        "pyplot.show()"
      ],
      "execution_count": 63,
      "outputs": [
        {
          "output_type": "display_data",
          "data": {
            "image/png": "[encoded data removed]",
            "text/plain": [
              "<Figure size 432x288 with 16 Axes>"
            ]
          },
          "metadata": {
            "tags": [],
            "needs_background": "light"
          }
        }
      ]
    },
    {
      "cell_type": "markdown",
      "metadata": {
        "id": "oylXWM-st6r7",
        "colab_type": "text"
      },
      "source": [
        "Chia data với tỷ lệ 80-20"
      ]
    },
    {
      "cell_type": "code",
      "metadata": {
        "id": "HcOurnHYi8pt",
        "colab_type": "code",
        "colab": {}
      },
      "source": [
        "from sklearn.model_selection import train_test_split\n",
        "arr=data.values\n",
        "X=arr[:,0:3]\n",
        "y=arr[:,3]\n",
        "X_train, X_validation, y_train, y_validation = train_test_split(X, y, test_size=0.20, random_state=1)"
      ],
      "execution_count": 0,
      "outputs": []
    },
    {
      "cell_type": "code",
      "metadata": {
        "id": "Hmz2zQDwWSi2",
        "colab_type": "code",
        "outputId": "7ad38e11-6142-4bc6-f6ed-480f50666049",
        "colab": {
          "base_uri": "https://localhost:8080/",
          "height": 204
        }
      },
      "source": [
        "pd.DataFrame(X_train).head()\n",
        "#pd.DataFrame(y_train).head()"
      ],
      "execution_count": 65,
      "outputs": [
        {
          "output_type": "execute_result",
          "data": {
            "text/html": [
              "<div>\n",
              "<style scoped>\n",
              "    .dataframe tbody tr th:only-of-type {\n",
              "        vertical-align: middle;\n",
              "    }\n",
              "\n",
              "    .dataframe tbody tr th {\n",
              "        vertical-align: top;\n",
              "    }\n",
              "\n",
              "    .dataframe thead th {\n",
              "        text-align: right;\n",
              "    }\n",
              "</style>\n",
              "<table border=\"1\" class=\"dataframe\">\n",
              "  <thead>\n",
              "    <tr style=\"text-align: right;\">\n",
              "      <th></th>\n",
              "      <th>0</th>\n",
              "      <th>1</th>\n",
              "      <th>2</th>\n",
              "    </tr>\n",
              "  </thead>\n",
              "  <tbody>\n",
              "    <tr>\n",
              "      <th>0</th>\n",
              "      <td>23183337.0</td>\n",
              "      <td>5.374671e+14</td>\n",
              "      <td>1.707494e+08</td>\n",
              "    </tr>\n",
              "    <tr>\n",
              "      <th>1</th>\n",
              "      <td>37581818.0</td>\n",
              "      <td>1.412393e+15</td>\n",
              "      <td>2.846814e+08</td>\n",
              "    </tr>\n",
              "    <tr>\n",
              "      <th>2</th>\n",
              "      <td>26306459.0</td>\n",
              "      <td>6.920298e+14</td>\n",
              "      <td>1.951956e+08</td>\n",
              "    </tr>\n",
              "    <tr>\n",
              "      <th>3</th>\n",
              "      <td>21919409.0</td>\n",
              "      <td>4.804605e+14</td>\n",
              "      <td>1.609066e+08</td>\n",
              "    </tr>\n",
              "    <tr>\n",
              "      <th>4</th>\n",
              "      <td>21690180.0</td>\n",
              "      <td>4.704639e+14</td>\n",
              "      <td>1.591249e+08</td>\n",
              "    </tr>\n",
              "  </tbody>\n",
              "</table>\n",
              "</div>"
            ],
            "text/plain": [
              "            0             1             2\n",
              "0  23183337.0  5.374671e+14  1.707494e+08\n",
              "1  37581818.0  1.412393e+15  2.846814e+08\n",
              "2  26306459.0  6.920298e+14  1.951956e+08\n",
              "3  21919409.0  4.804605e+14  1.609066e+08\n",
              "4  21690180.0  4.704639e+14  1.591249e+08"
            ]
          },
          "metadata": {
            "tags": []
          },
          "execution_count": 65
        }
      ]
    },
    {
      "cell_type": "markdown",
      "metadata": {
        "id": "yaHUeOWFuHJQ",
        "colab_type": "text"
      },
      "source": [
        "Chọn model bằng cách tính mean_absolute_error . Model nào có mean_absolute_error thấp là model đó tốt . Mean_absolute_error tính bằng cách sau khi cho model fit sẽ trả về giá trị y_valid dự đoán , lấy giá trị đó so sánh với y_valid thực tế để xem sự chênh lệch"
      ]
    },
    {
      "cell_type": "code",
      "metadata": {
        "id": "XPKlD_YojMv8",
        "colab_type": "code",
        "outputId": "908eb8f1-5961-4310-ad17-52296a1f43de",
        "colab": {
          "base_uri": "https://localhost:8080/",
          "height": 119
        }
      },
      "source": [
        "from sklearn.linear_model import LinearRegression\n",
        "from sklearn.tree import DecisionTreeRegressor\n",
        "\n",
        "from sklearn.metrics import mean_absolute_error\n",
        "from sklearn.ensemble import RandomForestRegressor\n",
        "models = []\n",
        "models.append(('LN',LinearRegression()))\n",
        "models.append(('RF',RandomForestRegressor()))\n",
        "models.append(('DT',DecisionTreeRegressor()))\n",
        "for name, model in models:\n",
        "  print('fiting and training ',name)\n",
        "  model.fit(X_train,y_train)\n",
        "  val_pre=model.predict(X_validation)\n",
        "  cv_results=mean_absolute_error(y_validation,val_pre)\n",
        "  print(cv_results)"
      ],
      "execution_count": 72,
      "outputs": [
        {
          "output_type": "stream",
          "text": [
            "fiting and training  LN\n",
            "0.04301142916048239\n",
            "fiting and training  RF\n",
            "0.051255129470037714\n",
            "fiting and training  DT\n",
            "0.05845102533836954\n"
          ],
          "name": "stdout"
        }
      ]
    },
    {
      "cell_type": "markdown",
      "metadata": {
        "id": "bwiv2aBNYrcX",
        "colab_type": "text"
      },
      "source": [
        "LinearRegression là model tốt nhất có MAE là 0.043\n",
        "> Indented block\n",
        "\n"
      ]
    },
    {
      "cell_type": "code",
      "metadata": {
        "id": "lnMM6xNVYxaC",
        "colab_type": "code",
        "outputId": "d428c9da-eb7d-49fa-d265-5d42d92aaf7a",
        "colab": {
          "base_uri": "https://localhost:8080/",
          "height": 34
        }
      },
      "source": [
        "my_model=LinearRegression()\n",
        "my_model.fit(X_train,y_train)"
      ],
      "execution_count": 73,
      "outputs": [
        {
          "output_type": "execute_result",
          "data": {
            "text/plain": [
              "LinearRegression(copy_X=True, fit_intercept=True, n_jobs=None, normalize=False)"
            ]
          },
          "metadata": {
            "tags": []
          },
          "execution_count": 73
        }
      ]
    },
    {
      "cell_type": "markdown",
      "metadata": {
        "id": "NS06aqREwcM0",
        "colab_type": "text"
      },
      "source": [
        "Đưa 1 test tự cho vào để predict "
      ]
    },
    {
      "cell_type": "code",
      "metadata": {
        "id": "ZptE5UbxZpKc",
        "colab_type": "code",
        "colab": {
          "base_uri": "https://localhost:8080/",
          "height": 34
        },
        "outputId": "b7f27c69-a850-477e-b82f-2545ab89f077"
      },
      "source": [
        "test_size=6083695\n",
        "test_size2=test_size*test_size\n",
        "test_size3=test_size*np.log10(test_size)\n",
        "new_test_model=[[test_size,test_size2,test_size3]]\n",
        "my_pre=my_model.predict(new_test_model)\n",
        "print(my_pre)"
      ],
      "execution_count": 76,
      "outputs": [
        {
          "output_type": "stream",
          "text": [
            "[0.35024653]\n"
          ],
          "name": "stdout"
        }
      ]
    },
    {
      "cell_type": "code",
      "metadata": {
        "id": "AiOOQwRg35lO",
        "colab_type": "code",
        "colab": {
          "base_uri": "https://localhost:8080/",
          "height": 204
        },
        "outputId": "f0273335-a7ce-4292-8f4c-4705f588aad7"
      },
      "source": [
        "data=pd.read_csv('http://cs.uit.edu.vn/data3.txt',names=['size','time'])\n",
        "data.head()"
      ],
      "execution_count": 77,
      "outputs": [
        {
          "output_type": "execute_result",
          "data": {
            "text/html": [
              "<div>\n",
              "<style scoped>\n",
              "    .dataframe tbody tr th:only-of-type {\n",
              "        vertical-align: middle;\n",
              "    }\n",
              "\n",
              "    .dataframe tbody tr th {\n",
              "        vertical-align: top;\n",
              "    }\n",
              "\n",
              "    .dataframe thead th {\n",
              "        text-align: right;\n",
              "    }\n",
              "</style>\n",
              "<table border=\"1\" class=\"dataframe\">\n",
              "  <thead>\n",
              "    <tr style=\"text-align: right;\">\n",
              "      <th></th>\n",
              "      <th>size</th>\n",
              "      <th>time</th>\n",
              "    </tr>\n",
              "  </thead>\n",
              "  <tbody>\n",
              "    <tr>\n",
              "      <th>0</th>\n",
              "      <td>37837612</td>\n",
              "      <td>4.12166</td>\n",
              "    </tr>\n",
              "    <tr>\n",
              "      <th>1</th>\n",
              "      <td>37395246</td>\n",
              "      <td>3.92089</td>\n",
              "    </tr>\n",
              "    <tr>\n",
              "      <th>2</th>\n",
              "      <td>36610827</td>\n",
              "      <td>3.21540</td>\n",
              "    </tr>\n",
              "    <tr>\n",
              "      <th>3</th>\n",
              "      <td>29555651</td>\n",
              "      <td>2.54506</td>\n",
              "    </tr>\n",
              "    <tr>\n",
              "      <th>4</th>\n",
              "      <td>25928216</td>\n",
              "      <td>2.21831</td>\n",
              "    </tr>\n",
              "  </tbody>\n",
              "</table>\n",
              "</div>"
            ],
            "text/plain": [
              "       size     time\n",
              "0  37837612  4.12166\n",
              "1  37395246  3.92089\n",
              "2  36610827  3.21540\n",
              "3  29555651  2.54506\n",
              "4  25928216  2.21831"
            ]
          },
          "metadata": {
            "tags": []
          },
          "execution_count": 77
        }
      ]
    },
    {
      "cell_type": "code",
      "metadata": {
        "id": "WCrz9VJ64Cup",
        "colab_type": "code",
        "colab": {}
      },
      "source": [
        "from sklearn.model_selection import train_test_split\n",
        "arr=data.values\n",
        "X=arr[:,0:1]\n",
        "y=arr[:,1]\n",
        "X_train, X_validation, y_train, y_validation = train_test_split(X, y, test_size=0.20, random_state=1)"
      ],
      "execution_count": 0,
      "outputs": []
    },
    {
      "cell_type": "code",
      "metadata": {
        "id": "mW-8jXZj4IVx",
        "colab_type": "code",
        "colab": {
          "base_uri": "https://localhost:8080/",
          "height": 34
        },
        "outputId": "3a98aac2-0aab-4f46-d504-532ff551692c"
      },
      "source": [
        "\n",
        "my_model=LinearRegression()\n",
        "my_model.fit(X_train,y_train)\n",
        "my_pre=my_model.predict(X_validation)\n",
        "print(mean_absolute_error(y_validation,my_pre))"
      ],
      "execution_count": 79,
      "outputs": [
        {
          "output_type": "stream",
          "text": [
            "0.04294798308974453\n"
          ],
          "name": "stdout"
        }
      ]
    },
    {
      "cell_type": "markdown",
      "metadata": {
        "id": "zO_lviff45u7",
        "colab_type": "text"
      },
      "source": [
        " kết quả tệ hơn \n",
        " vấn đề gặp phải là MAE khi sử dụng model của round 2 là 0.0429 còn khi sử dụng của round 3 là 0.043\n",
        "vì chỉ số MAE nhỏ chứng minh model đó tốt hơn \n"
      ]
    }
  ]
}