{
  "nbformat": 4,
  "nbformat_minor": 0,
  "metadata": {
    "colab": {
      "name": "time_size.ipynb",
      "provenance": [],
      "collapsed_sections": [],
      "authorship_tag": "ABX9TyMgSmxxt5IWew/rYQkb4ZIh",
      "include_colab_link": true
    },
    "kernelspec": {
      "name": "python3",
      "display_name": "Python 3"
    }
  },
  "cells": [
    {
      "cell_type": "markdown",
      "metadata": {
        "id": "view-in-github",
        "colab_type": "text"
      },
      "source": [
        "<a href=\"https://colab.research.google.com/github/huavanson/CS114.K21/blob/master/time_size.ipynb\" target=\"_parent\"><img src=\"https://colab.research.google.com/assets/colab-badge.svg\" alt=\"Open In Colab\"/></a>"
      ]
    },
    {
      "cell_type": "code",
      "metadata": {
        "id": "RSHLf07yb5Vm",
        "colab_type": "code",
        "colab": {}
      },
      "source": [
        "import pandas as pd\n",
        "import numpy as np\n",
        "import math"
      ],
      "execution_count": 0,
      "outputs": []
    },
    {
      "cell_type": "markdown",
      "metadata": {
        "id": "qkcXF1ketUqj",
        "colab_type": "text"
      },
      "source": [
        "Lấy dữ liệu xuống bằng URL\n"
      ]
    },
    {
      "cell_type": "code",
      "metadata": {
        "id": "JPXaqWTTcEUX",
        "colab_type": "code",
        "outputId": "40454970-5d28-4a82-a9cd-1ad706646526",
        "colab": {
          "base_uri": "https://localhost:8080/",
          "height": 204
        }
      },
      "source": [
        "data=pd.read_csv('http://cs.uit.edu.vn/data2.txt',names=['size','time'])\n",
        "data.head()"
      ],
      "execution_count": 43,
      "outputs": [
        {
          "output_type": "execute_result",
          "data": {
            "text/html": [
              "<div>\n",
              "<style scoped>\n",
              "    .dataframe tbody tr th:only-of-type {\n",
              "        vertical-align: middle;\n",
              "    }\n",
              "\n",
              "    .dataframe tbody tr th {\n",
              "        vertical-align: top;\n",
              "    }\n",
              "\n",
              "    .dataframe thead th {\n",
              "        text-align: right;\n",
              "    }\n",
              "</style>\n",
              "<table border=\"1\" class=\"dataframe\">\n",
              "  <thead>\n",
              "    <tr style=\"text-align: right;\">\n",
              "      <th></th>\n",
              "      <th>size</th>\n",
              "      <th>time</th>\n",
              "    </tr>\n",
              "  </thead>\n",
              "  <tbody>\n",
              "    <tr>\n",
              "      <th>0</th>\n",
              "      <td>6083695</td>\n",
              "      <td>0.521842</td>\n",
              "    </tr>\n",
              "    <tr>\n",
              "      <th>1</th>\n",
              "      <td>1954367</td>\n",
              "      <td>0.152648</td>\n",
              "    </tr>\n",
              "    <tr>\n",
              "      <th>2</th>\n",
              "      <td>3734185</td>\n",
              "      <td>0.298548</td>\n",
              "    </tr>\n",
              "    <tr>\n",
              "      <th>3</th>\n",
              "      <td>5839301</td>\n",
              "      <td>0.460480</td>\n",
              "    </tr>\n",
              "    <tr>\n",
              "      <th>4</th>\n",
              "      <td>6343427</td>\n",
              "      <td>0.527977</td>\n",
              "    </tr>\n",
              "  </tbody>\n",
              "</table>\n",
              "</div>"
            ],
            "text/plain": [
              "      size      time\n",
              "0  6083695  0.521842\n",
              "1  1954367  0.152648\n",
              "2  3734185  0.298548\n",
              "3  5839301  0.460480\n",
              "4  6343427  0.527977"
            ]
          },
          "metadata": {
            "tags": []
          },
          "execution_count": 43
        }
      ]
    },
    {
      "cell_type": "code",
      "metadata": {
        "id": "v8JbDhw2SPwD",
        "colab_type": "code",
        "outputId": "390c74b8-7554-4771-a9bf-08e08b12a240",
        "colab": {
          "base_uri": "https://localhost:8080/",
          "height": 34
        }
      },
      "source": [
        "print(data.shape)"
      ],
      "execution_count": 44,
      "outputs": [
        {
          "output_type": "stream",
          "text": [
            "(71115, 2)\n"
          ],
          "name": "stdout"
        }
      ]
    },
    {
      "cell_type": "markdown",
      "metadata": {
        "id": "Xyq2jhFctd6y",
        "colab_type": "text"
      },
      "source": [
        "Thêm 2 cột size^2 và size*log(size) để tránh overfit và tăng khả năng dự đoán "
      ]
    },
    {
      "cell_type": "code",
      "metadata": {
        "id": "PV3vojBRcaeL",
        "colab_type": "code",
        "outputId": "eca5d2dd-5311-489c-8312-7fdf31afe69d",
        "colab": {
          "base_uri": "https://localhost:8080/",
          "height": 204
        }
      },
      "source": [
        "data['size^2']=data['size']*data['size']\n",
        "data['size*log(size)']=data['size']*np.log10(data['size'])\n",
        "new_columns=['size','size^2','size*log(size)','time']\n",
        "data=data.reindex(columns=new_columns)\n",
        "data.head()\n"
      ],
      "execution_count": 45,
      "outputs": [
        {
          "output_type": "execute_result",
          "data": {
            "text/html": [
              "<div>\n",
              "<style scoped>\n",
              "    .dataframe tbody tr th:only-of-type {\n",
              "        vertical-align: middle;\n",
              "    }\n",
              "\n",
              "    .dataframe tbody tr th {\n",
              "        vertical-align: top;\n",
              "    }\n",
              "\n",
              "    .dataframe thead th {\n",
              "        text-align: right;\n",
              "    }\n",
              "</style>\n",
              "<table border=\"1\" class=\"dataframe\">\n",
              "  <thead>\n",
              "    <tr style=\"text-align: right;\">\n",
              "      <th></th>\n",
              "      <th>size</th>\n",
              "      <th>size^2</th>\n",
              "      <th>size*log(size)</th>\n",
              "      <th>time</th>\n",
              "    </tr>\n",
              "  </thead>\n",
              "  <tbody>\n",
              "    <tr>\n",
              "      <th>0</th>\n",
              "      <td>6083695</td>\n",
              "      <td>37011344853025</td>\n",
              "      <td>4.127281e+07</td>\n",
              "      <td>0.521842</td>\n",
              "    </tr>\n",
              "    <tr>\n",
              "      <th>1</th>\n",
              "      <td>1954367</td>\n",
              "      <td>3819550370689</td>\n",
              "      <td>1.229493e+07</td>\n",
              "      <td>0.152648</td>\n",
              "    </tr>\n",
              "    <tr>\n",
              "      <th>2</th>\n",
              "      <td>3734185</td>\n",
              "      <td>13944137614225</td>\n",
              "      <td>2.454180e+07</td>\n",
              "      <td>0.298548</td>\n",
              "    </tr>\n",
              "    <tr>\n",
              "      <th>3</th>\n",
              "      <td>5839301</td>\n",
              "      <td>34097436168601</td>\n",
              "      <td>3.951082e+07</td>\n",
              "      <td>0.460480</td>\n",
              "    </tr>\n",
              "    <tr>\n",
              "      <th>4</th>\n",
              "      <td>6343427</td>\n",
              "      <td>40239066104329</td>\n",
              "      <td>4.315005e+07</td>\n",
              "      <td>0.527977</td>\n",
              "    </tr>\n",
              "  </tbody>\n",
              "</table>\n",
              "</div>"
            ],
            "text/plain": [
              "      size          size^2  size*log(size)      time\n",
              "0  6083695  37011344853025    4.127281e+07  0.521842\n",
              "1  1954367   3819550370689    1.229493e+07  0.152648\n",
              "2  3734185  13944137614225    2.454180e+07  0.298548\n",
              "3  5839301  34097436168601    3.951082e+07  0.460480\n",
              "4  6343427  40239066104329    4.315005e+07  0.527977"
            ]
          },
          "metadata": {
            "tags": []
          },
          "execution_count": 45
        }
      ]
    },
    {
      "cell_type": "markdown",
      "metadata": {
        "id": "RBuJGzKatwCR",
        "colab_type": "text"
      },
      "source": [
        "Biểu diễn dữ liệu "
      ]
    },
    {
      "cell_type": "code",
      "metadata": {
        "id": "C9wTPQaVoP1q",
        "colab_type": "code",
        "outputId": "e945684f-50a6-4244-ec59-a42283a1987e",
        "colab": {
          "base_uri": "https://localhost:8080/",
          "height": 311
        }
      },
      "source": [
        "from pandas.plotting import scatter_matrix\n",
        "from matplotlib import pyplot\n",
        "print(data.shape)\n",
        "data.hist()\n",
        "pyplot.show()"
      ],
      "execution_count": 0,
      "outputs": [
        {
          "output_type": "stream",
          "text": [
            "(5211, 4)\n"
          ],
          "name": "stdout"
        },
        {
          "output_type": "display_data",
          "data": {
            "image/png": "[encoded data removed]",
            "text/plain": [
              "<Figure size 432x288 with 4 Axes>"
            ]
          },
          "metadata": {
            "tags": [],
            "needs_background": "light"
          }
        }
      ]
    },
    {
      "cell_type": "code",
      "metadata": {
        "id": "eJS8PtsrTDMi",
        "colab_type": "code",
        "outputId": "2a6b5fae-f560-4dc8-d3cb-18e33d878373",
        "colab": {
          "base_uri": "https://localhost:8080/",
          "height": 277
        }
      },
      "source": [
        "scatter_matrix(data)\n",
        "pyplot.show()"
      ],
      "execution_count": 0,
      "outputs": [
        {
          "output_type": "display_data",
          "data": {
            "image/png": "[encoded data removed]",
            "text/plain": [
              "<Figure size 432x288 with 16 Axes>"
            ]
          },
          "metadata": {
            "tags": [],
            "needs_background": "light"
          }
        }
      ]
    },
    {
      "cell_type": "markdown",
      "metadata": {
        "id": "oylXWM-st6r7",
        "colab_type": "text"
      },
      "source": [
        "Chia data với tỷ lệ 80-20"
      ]
    },
    {
      "cell_type": "code",
      "metadata": {
        "id": "HcOurnHYi8pt",
        "colab_type": "code",
        "colab": {}
      },
      "source": [
        "from sklearn.model_selection import train_test_split\n",
        "arr=data.values\n",
        "X=arr[:,0:3]\n",
        "y=arr[:,3]\n",
        "X_train, X_validation, y_train, y_validation = train_test_split(X, y, test_size=0.20, random_state=1)"
      ],
      "execution_count": 0,
      "outputs": []
    },
    {
      "cell_type": "code",
      "metadata": {
        "id": "Hmz2zQDwWSi2",
        "colab_type": "code",
        "outputId": "447c2c00-c622-40be-8dbb-4221813eae99",
        "colab": {
          "base_uri": "https://localhost:8080/",
          "height": 204
        }
      },
      "source": [
        "pd.DataFrame(X_train).head()\n",
        "#pd.DataFrame(y_train).head()"
      ],
      "execution_count": 46,
      "outputs": [
        {
          "output_type": "execute_result",
          "data": {
            "text/html": [
              "<div>\n",
              "<style scoped>\n",
              "    .dataframe tbody tr th:only-of-type {\n",
              "        vertical-align: middle;\n",
              "    }\n",
              "\n",
              "    .dataframe tbody tr th {\n",
              "        vertical-align: top;\n",
              "    }\n",
              "\n",
              "    .dataframe thead th {\n",
              "        text-align: right;\n",
              "    }\n",
              "</style>\n",
              "<table border=\"1\" class=\"dataframe\">\n",
              "  <thead>\n",
              "    <tr style=\"text-align: right;\">\n",
              "      <th></th>\n",
              "      <th>0</th>\n",
              "      <th>1</th>\n",
              "      <th>2</th>\n",
              "    </tr>\n",
              "  </thead>\n",
              "  <tbody>\n",
              "    <tr>\n",
              "      <th>0</th>\n",
              "      <td>8089718.0</td>\n",
              "      <td>6.544354e+13</td>\n",
              "      <td>5.588323e+07</td>\n",
              "    </tr>\n",
              "    <tr>\n",
              "      <th>1</th>\n",
              "      <td>3624350.0</td>\n",
              "      <td>1.313591e+13</td>\n",
              "      <td>2.377295e+07</td>\n",
              "    </tr>\n",
              "    <tr>\n",
              "      <th>2</th>\n",
              "      <td>2993021.0</td>\n",
              "      <td>8.958175e+12</td>\n",
              "      <td>1.938313e+07</td>\n",
              "    </tr>\n",
              "    <tr>\n",
              "      <th>3</th>\n",
              "      <td>6498836.0</td>\n",
              "      <td>4.223487e+13</td>\n",
              "      <td>4.427550e+07</td>\n",
              "    </tr>\n",
              "    <tr>\n",
              "      <th>4</th>\n",
              "      <td>5203034.0</td>\n",
              "      <td>2.707156e+13</td>\n",
              "      <td>3.494491e+07</td>\n",
              "    </tr>\n",
              "  </tbody>\n",
              "</table>\n",
              "</div>"
            ],
            "text/plain": [
              "           0             1             2\n",
              "0  8089718.0  6.544354e+13  5.588323e+07\n",
              "1  3624350.0  1.313591e+13  2.377295e+07\n",
              "2  2993021.0  8.958175e+12  1.938313e+07\n",
              "3  6498836.0  4.223487e+13  4.427550e+07\n",
              "4  5203034.0  2.707156e+13  3.494491e+07"
            ]
          },
          "metadata": {
            "tags": []
          },
          "execution_count": 46
        }
      ]
    },
    {
      "cell_type": "markdown",
      "metadata": {
        "id": "yaHUeOWFuHJQ",
        "colab_type": "text"
      },
      "source": [
        "Chọn model bằng cách tính mean_absolute_error . Model nào có mean_absolute_error thấp là model đó tốt . Mean_absolute_error tính bằng cách sau khi cho model fit sẽ trả về giá trị y_valid dự đoán , lấy giá trị đó so sánh với y_valid thực tế để xem sự chênh lệch"
      ]
    },
    {
      "cell_type": "code",
      "metadata": {
        "id": "XPKlD_YojMv8",
        "colab_type": "code",
        "outputId": "875884e2-b189-4994-c189-4c233fbd8052",
        "colab": {
          "base_uri": "https://localhost:8080/",
          "height": 119
        }
      },
      "source": [
        "from sklearn.linear_model import LinearRegression\n",
        "from sklearn.tree import DecisionTreeRegressor\n",
        "\n",
        "from sklearn.metrics import mean_absolute_error\n",
        "from sklearn.ensemble import RandomForestRegressor\n",
        "models = []\n",
        "models.append(('LN',LinearRegression()))\n",
        "models.append(('RF',RandomForestRegressor()))\n",
        "models.append(('DT',DecisionTreeRegressor()))\n",
        "for name, model in models:\n",
        "  print('fiting and training ',name)\n",
        "  model.fit(X_train,y_train)\n",
        "  val_pre=model.predict(X_validation)\n",
        "  cv_results=mean_absolute_error(y_validation,val_pre)\n",
        "  print(cv_results)"
      ],
      "execution_count": 55,
      "outputs": [
        {
          "output_type": "stream",
          "text": [
            "fiting and training  LN\n",
            "0.006896127387182463\n",
            "fiting and training  RF\n",
            "0.008454334776050768\n",
            "fiting and training  DT\n",
            "0.009801014055141952\n"
          ],
          "name": "stdout"
        }
      ]
    },
    {
      "cell_type": "markdown",
      "metadata": {
        "id": "bwiv2aBNYrcX",
        "colab_type": "text"
      },
      "source": [
        "LinearRegression là model tốt nhất "
      ]
    },
    {
      "cell_type": "code",
      "metadata": {
        "id": "lnMM6xNVYxaC",
        "colab_type": "code",
        "outputId": "abc38bc2-dcc3-478d-d01f-268845510ba7",
        "colab": {
          "base_uri": "https://localhost:8080/",
          "height": 34
        }
      },
      "source": [
        "my_model=LinearRegression()\n",
        "my_model.fit(X_train,y_train)"
      ],
      "execution_count": 56,
      "outputs": [
        {
          "output_type": "execute_result",
          "data": {
            "text/plain": [
              "LinearRegression(copy_X=True, fit_intercept=True, n_jobs=None, normalize=False)"
            ]
          },
          "metadata": {
            "tags": []
          },
          "execution_count": 56
        }
      ]
    },
    {
      "cell_type": "markdown",
      "metadata": {
        "id": "NS06aqREwcM0",
        "colab_type": "text"
      },
      "source": [
        "Đưa 1 test tự cho vào để predict "
      ]
    },
    {
      "cell_type": "code",
      "metadata": {
        "id": "ZptE5UbxZpKc",
        "colab_type": "code",
        "colab": {
          "base_uri": "https://localhost:8080/",
          "height": 34
        },
        "outputId": "0f871847-a3d2-45bf-e847-37ba5b45cc7a"
      },
      "source": [
        "test_size=6083695\n",
        "test_size2=test_size*test_size\n",
        "test_size3=test_size*np.log10(test_size)\n",
        "new_test_model=[[test_size,test_size2,test_size3]]\n",
        "my_pre=my_model.predict(new_test_model)\n",
        "print(my_pre)\n"
      ],
      "execution_count": 57,
      "outputs": [
        {
          "output_type": "stream",
          "text": [
            "[0.4951186]\n"
          ],
          "name": "stdout"
        }
      ]
    }
  ]
}