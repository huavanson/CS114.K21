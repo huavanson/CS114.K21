{
  "nbformat": 4,
  "nbformat_minor": 0,
  "metadata": {
    "colab": {
      "name": "time_size.ipynb",
      "provenance": [],
      "collapsed_sections": [],
      "authorship_tag": "ABX9TyPbqNfvyO6+psZaB+cXyPL+",
      "include_colab_link": true
    },
    "kernelspec": {
      "name": "python3",
      "display_name": "Python 3"
    }
  },
  "cells": [
    {
      "cell_type": "markdown",
      "metadata": {
        "id": "view-in-github",
        "colab_type": "text"
      },
      "source": [
        "<a href=\"https://colab.research.google.com/github/huavanson/CS114.K21/blob/master/time_size.ipynb\" target=\"_parent\"><img src=\"https://colab.research.google.com/assets/colab-badge.svg\" alt=\"Open In Colab\"/></a>"
      ]
    },
    {
      "cell_type": "code",
      "metadata": {
        "id": "RSHLf07yb5Vm",
        "colab_type": "code",
        "colab": {}
      },
      "source": [
        "import pandas as pd\n",
        "import numpy as np\n",
        "import math"
      ],
      "execution_count": 0,
      "outputs": []
    },
    {
      "cell_type": "markdown",
      "metadata": {
        "id": "qkcXF1ketUqj",
        "colab_type": "text"
      },
      "source": [
        "Lấy dữ liệu xuống bằng URL\n"
      ]
    },
    {
      "cell_type": "code",
      "metadata": {
        "id": "JPXaqWTTcEUX",
        "colab_type": "code",
        "outputId": "1a598bc7-9725-4aee-9d21-8dc59ba3341d",
        "colab": {
          "base_uri": "https://localhost:8080/",
          "height": 204
        }
      },
      "source": [
        "data=pd.read_csv('http://cs.uit.edu.vn/data2.txt',names=['size','time'])\n",
        "data.head()"
      ],
      "execution_count": 27,
      "outputs": [
        {
          "output_type": "execute_result",
          "data": {
            "text/html": [
              "<div>\n",
              "<style scoped>\n",
              "    .dataframe tbody tr th:only-of-type {\n",
              "        vertical-align: middle;\n",
              "    }\n",
              "\n",
              "    .dataframe tbody tr th {\n",
              "        vertical-align: top;\n",
              "    }\n",
              "\n",
              "    .dataframe thead th {\n",
              "        text-align: right;\n",
              "    }\n",
              "</style>\n",
              "<table border=\"1\" class=\"dataframe\">\n",
              "  <thead>\n",
              "    <tr style=\"text-align: right;\">\n",
              "      <th></th>\n",
              "      <th>size</th>\n",
              "      <th>time</th>\n",
              "    </tr>\n",
              "  </thead>\n",
              "  <tbody>\n",
              "    <tr>\n",
              "      <th>0</th>\n",
              "      <td>6083695</td>\n",
              "      <td>0.521842</td>\n",
              "    </tr>\n",
              "    <tr>\n",
              "      <th>1</th>\n",
              "      <td>1954367</td>\n",
              "      <td>0.152648</td>\n",
              "    </tr>\n",
              "    <tr>\n",
              "      <th>2</th>\n",
              "      <td>3734185</td>\n",
              "      <td>0.298548</td>\n",
              "    </tr>\n",
              "    <tr>\n",
              "      <th>3</th>\n",
              "      <td>5839301</td>\n",
              "      <td>0.460480</td>\n",
              "    </tr>\n",
              "    <tr>\n",
              "      <th>4</th>\n",
              "      <td>6343427</td>\n",
              "      <td>0.527977</td>\n",
              "    </tr>\n",
              "  </tbody>\n",
              "</table>\n",
              "</div>"
            ],
            "text/plain": [
              "      size      time\n",
              "0  6083695  0.521842\n",
              "1  1954367  0.152648\n",
              "2  3734185  0.298548\n",
              "3  5839301  0.460480\n",
              "4  6343427  0.527977"
            ]
          },
          "metadata": {
            "tags": []
          },
          "execution_count": 27
        }
      ]
    },
    {
      "cell_type": "code",
      "metadata": {
        "id": "v8JbDhw2SPwD",
        "colab_type": "code",
        "outputId": "8677046d-766a-459d-fa7a-325f81d3a5b0",
        "colab": {
          "base_uri": "https://localhost:8080/",
          "height": 34
        }
      },
      "source": [
        "print(data.shape)"
      ],
      "execution_count": 28,
      "outputs": [
        {
          "output_type": "stream",
          "text": [
            "(71115, 2)\n"
          ],
          "name": "stdout"
        }
      ]
    },
    {
      "cell_type": "markdown",
      "metadata": {
        "id": "Xyq2jhFctd6y",
        "colab_type": "text"
      },
      "source": [
        "Thêm 2 cột size^2 và size*log(size) để tránh overfit và tăng khả năng dự đoán "
      ]
    },
    {
      "cell_type": "markdown",
      "metadata": {
        "id": "RBuJGzKatwCR",
        "colab_type": "text"
      },
      "source": [
        "Biểu diễn dữ liệu "
      ]
    },
    {
      "cell_type": "code",
      "metadata": {
        "id": "C9wTPQaVoP1q",
        "colab_type": "code",
        "outputId": "76536bd4-ab6b-4b4c-f392-ac5ab7cf6731",
        "colab": {
          "base_uri": "https://localhost:8080/",
          "height": 311
        }
      },
      "source": [
        "from pandas.plotting import scatter_matrix\n",
        "from matplotlib import pyplot\n",
        "print(data.shape)\n",
        "data.hist()\n",
        "pyplot.show()"
      ],
      "execution_count": 29,
      "outputs": [
        {
          "output_type": "stream",
          "text": [
            "(71115, 2)\n"
          ],
          "name": "stdout"
        },
        {
          "output_type": "display_data",
          "data": {
            "image/png": "[encoded data removed]",
            "text/plain": [
              "<Figure size 432x288 with 2 Axes>"
            ]
          },
          "metadata": {
            "tags": [],
            "needs_background": "light"
          }
        }
      ]
    },
    {
      "cell_type": "code",
      "metadata": {
        "id": "eJS8PtsrTDMi",
        "colab_type": "code",
        "outputId": "18254f0b-974e-4f07-f4e1-d6c1f6f08dae",
        "colab": {
          "base_uri": "https://localhost:8080/",
          "height": 288
        }
      },
      "source": [
        "scatter_matrix(data)\n",
        "pyplot.show()"
      ],
      "execution_count": 30,
      "outputs": [
        {
          "output_type": "display_data",
          "data": {
            "image/png": "[encoded data removed]",
            "text/plain": [
              "<Figure size 432x288 with 4 Axes>"
            ]
          },
          "metadata": {
            "tags": [],
            "needs_background": "light"
          }
        }
      ]
    },
    {
      "cell_type": "markdown",
      "metadata": {
        "id": "oylXWM-st6r7",
        "colab_type": "text"
      },
      "source": [
        "Chia data với tỷ lệ 80-20"
      ]
    },
    {
      "cell_type": "code",
      "metadata": {
        "id": "HcOurnHYi8pt",
        "colab_type": "code",
        "colab": {}
      },
      "source": [
        "from sklearn.model_selection import train_test_split\n",
        "arr=data.values\n",
        "X=arr[:,0:1]\n",
        "y=arr[:,1]\n",
        "X_train, X_validation, y_train, y_validation = train_test_split(X, y, test_size=0.20, random_state=1)"
      ],
      "execution_count": 0,
      "outputs": []
    },
    {
      "cell_type": "markdown",
      "metadata": {
        "id": "yaHUeOWFuHJQ",
        "colab_type": "text"
      },
      "source": [
        "Chọn model bằng cách tính mean_absolute_error . Model nào có mean_absolute_error thấp là model đó tốt . Mean_absolute_error tính bằng cách sau khi cho model fit sẽ trả về giá trị y_valid dự đoán , lấy giá trị đó so sánh với y_valid thực tế để xem sự chênh lệch"
      ]
    },
    {
      "cell_type": "code",
      "metadata": {
        "id": "XPKlD_YojMv8",
        "colab_type": "code",
        "outputId": "189ebf71-9f1c-49c3-b61a-93c7add49322",
        "colab": {
          "base_uri": "https://localhost:8080/",
          "height": 119
        }
      },
      "source": [
        "from sklearn.linear_model import LinearRegression\n",
        "from sklearn.tree import DecisionTreeRegressor\n",
        "\n",
        "from sklearn.metrics import mean_absolute_error\n",
        "from sklearn.ensemble import RandomForestRegressor\n",
        "models = []\n",
        "models.append(('LN',LinearRegression()))\n",
        "models.append(('RF',RandomForestRegressor()))\n",
        "models.append(('DT',DecisionTreeRegressor()))\n",
        "for name, model in models:\n",
        "  print('fiting and training ',name)\n",
        "  model.fit(X_train,y_train)\n",
        "  val_pre=model.predict(X_validation)\n",
        "  cv_results=mean_absolute_error(y_validation,val_pre)\n",
        "  print(cv_results)"
      ],
      "execution_count": 32,
      "outputs": [
        {
          "output_type": "stream",
          "text": [
            "fiting and training  LN\n",
            "0.00831551754510758\n",
            "fiting and training  RF\n",
            "0.008455530947407825\n",
            "fiting and training  DT\n",
            "0.009799554658390212\n"
          ],
          "name": "stdout"
        }
      ]
    },
    {
      "cell_type": "markdown",
      "metadata": {
        "id": "bwiv2aBNYrcX",
        "colab_type": "text"
      },
      "source": [
        "LinearRegression là model tốt nhất "
      ]
    },
    {
      "cell_type": "code",
      "metadata": {
        "id": "lnMM6xNVYxaC",
        "colab_type": "code",
        "outputId": "61d53b2b-3b32-4ef6-fd34-333116810645",
        "colab": {
          "base_uri": "https://localhost:8080/",
          "height": 34
        }
      },
      "source": [
        "my_model=LinearRegression()\n",
        "my_model.fit(X_train,y_train)"
      ],
      "execution_count": 33,
      "outputs": [
        {
          "output_type": "execute_result",
          "data": {
            "text/plain": [
              "LinearRegression(copy_X=True, fit_intercept=True, n_jobs=None, normalize=False)"
            ]
          },
          "metadata": {
            "tags": []
          },
          "execution_count": 33
        }
      ]
    },
    {
      "cell_type": "markdown",
      "metadata": {
        "id": "NS06aqREwcM0",
        "colab_type": "text"
      },
      "source": [
        "Đưa 1 test tự cho vào để predict "
      ]
    },
    {
      "cell_type": "code",
      "metadata": {
        "id": "ZptE5UbxZpKc",
        "colab_type": "code",
        "outputId": "b077c8d6-7cff-411a-f262-6983266b6fc4",
        "colab": {
          "base_uri": "https://localhost:8080/",
          "height": 34
        }
      },
      "source": [
        "test_size=6083695\n",
        "new_test_model=[[test_size]]\n",
        "my_pre=my_model.predict(new_test_model)\n",
        "print(my_pre)\n"
      ],
      "execution_count": 36,
      "outputs": [
        {
          "output_type": "stream",
          "text": [
            "[0.49849984]\n"
          ],
          "name": "stdout"
        }
      ]
    }
  ]
}